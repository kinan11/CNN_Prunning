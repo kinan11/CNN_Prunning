{
 "cells": [
  {
   "cell_type": "code",
   "execution_count": 1,
   "id": "initial_id",
   "metadata": {
    "collapsed": true,
    "ExecuteTime": {
     "end_time": "2024-03-23T14:41:58.333162900Z",
     "start_time": "2024-03-23T14:41:53.220746800Z"
    }
   },
   "outputs": [],
   "source": [
    "from keras.datasets import mnist\n",
    "from keras.utils import to_categorical\n",
    "from tensorflow.keras.models import Model, load_model\n",
    "import numpy as np\n",
    "from keras.models import Model\n",
    "from keras.layers import Input, Conv2D\n",
    "from CGA.cluster_filters import cluster_filters"
   ]
  },
  {
   "cell_type": "code",
   "execution_count": 2,
   "outputs": [
    {
     "name": "stdout",
     "output_type": "stream",
     "text": [
      "Model: \"sequential_2\"\n",
      "_________________________________________________________________\n",
      " Layer (type)                Output Shape              Param #   \n",
      "=================================================================\n",
      " resnet50 (Functional)       (None, 2048)              23587712  \n",
      "                                                                 \n",
      " dense_2 (Dense)             (None, 10)                20490     \n",
      "                                                                 \n",
      "=================================================================\n",
      "Total params: 23,608,202\n",
      "Trainable params: 20,490\n",
      "Non-trainable params: 23,587,712\n",
      "_________________________________________________________________\n"
     ]
    }
   ],
   "source": [
    "model = load_model('../Models/NN/model_renet50.h5')\n",
    "model.summary()"
   ],
   "metadata": {
    "collapsed": false,
    "ExecuteTime": {
     "end_time": "2024-03-23T14:42:01.123009900Z",
     "start_time": "2024-03-23T14:41:58.335162800Z"
    }
   },
   "id": "24fb95d055826a96"
  },
  {
   "cell_type": "code",
   "execution_count": 3,
   "outputs": [
    {
     "name": "stdout",
     "output_type": "stream",
     "text": [
      "Warstwa ResNet50 1: input_3, Typ: InputLayer, Shape: [(None, None, None, 3)]\n",
      "Warstwa ResNet50 2: conv1_pad, Typ: ZeroPadding2D, Shape: (None, None, None, 3)\n",
      "Warstwa ResNet50 3: conv1_conv, Typ: Conv2D, Shape: (None, None, None, 64)\n",
      "Warstwa ResNet50 4: conv1_bn, Typ: BatchNormalization, Shape: (None, None, None, 64)\n",
      "Warstwa ResNet50 5: conv1_relu, Typ: Activation, Shape: (None, None, None, 64)\n",
      "Warstwa ResNet50 6: pool1_pad, Typ: ZeroPadding2D, Shape: (None, None, None, 64)\n",
      "Warstwa ResNet50 7: pool1_pool, Typ: MaxPooling2D, Shape: (None, None, None, 64)\n",
      "Warstwa ResNet50 8: conv2_block1_1_conv, Typ: Conv2D, Shape: (None, None, None, 64)\n",
      "Warstwa ResNet50 9: conv2_block1_1_bn, Typ: BatchNormalization, Shape: (None, None, None, 64)\n",
      "Warstwa ResNet50 10: conv2_block1_1_relu, Typ: Activation, Shape: (None, None, None, 64)\n",
      "Warstwa ResNet50 11: conv2_block1_2_conv, Typ: Conv2D, Shape: (None, None, None, 64)\n",
      "Warstwa ResNet50 12: conv2_block1_2_bn, Typ: BatchNormalization, Shape: (None, None, None, 64)\n",
      "Warstwa ResNet50 13: conv2_block1_2_relu, Typ: Activation, Shape: (None, None, None, 64)\n",
      "Warstwa ResNet50 14: conv2_block1_0_conv, Typ: Conv2D, Shape: (None, None, None, 256)\n",
      "Warstwa ResNet50 15: conv2_block1_3_conv, Typ: Conv2D, Shape: (None, None, None, 256)\n",
      "Warstwa ResNet50 16: conv2_block1_0_bn, Typ: BatchNormalization, Shape: (None, None, None, 256)\n",
      "Warstwa ResNet50 17: conv2_block1_3_bn, Typ: BatchNormalization, Shape: (None, None, None, 256)\n",
      "Warstwa ResNet50 18: conv2_block1_add, Typ: Add, Shape: (None, None, None, 256)\n",
      "Warstwa ResNet50 19: conv2_block1_out, Typ: Activation, Shape: (None, None, None, 256)\n",
      "Warstwa ResNet50 20: conv2_block2_1_conv, Typ: Conv2D, Shape: (None, None, None, 64)\n",
      "Warstwa ResNet50 21: conv2_block2_1_bn, Typ: BatchNormalization, Shape: (None, None, None, 64)\n",
      "Warstwa ResNet50 22: conv2_block2_1_relu, Typ: Activation, Shape: (None, None, None, 64)\n",
      "Warstwa ResNet50 23: conv2_block2_2_conv, Typ: Conv2D, Shape: (None, None, None, 64)\n",
      "Warstwa ResNet50 24: conv2_block2_2_bn, Typ: BatchNormalization, Shape: (None, None, None, 64)\n",
      "Warstwa ResNet50 25: conv2_block2_2_relu, Typ: Activation, Shape: (None, None, None, 64)\n",
      "Warstwa ResNet50 26: conv2_block2_3_conv, Typ: Conv2D, Shape: (None, None, None, 256)\n",
      "Warstwa ResNet50 27: conv2_block2_3_bn, Typ: BatchNormalization, Shape: (None, None, None, 256)\n",
      "Warstwa ResNet50 28: conv2_block2_add, Typ: Add, Shape: (None, None, None, 256)\n",
      "Warstwa ResNet50 29: conv2_block2_out, Typ: Activation, Shape: (None, None, None, 256)\n",
      "Warstwa ResNet50 30: conv2_block3_1_conv, Typ: Conv2D, Shape: (None, None, None, 64)\n",
      "Warstwa ResNet50 31: conv2_block3_1_bn, Typ: BatchNormalization, Shape: (None, None, None, 64)\n",
      "Warstwa ResNet50 32: conv2_block3_1_relu, Typ: Activation, Shape: (None, None, None, 64)\n",
      "Warstwa ResNet50 33: conv2_block3_2_conv, Typ: Conv2D, Shape: (None, None, None, 64)\n",
      "Warstwa ResNet50 34: conv2_block3_2_bn, Typ: BatchNormalization, Shape: (None, None, None, 64)\n",
      "Warstwa ResNet50 35: conv2_block3_2_relu, Typ: Activation, Shape: (None, None, None, 64)\n",
      "Warstwa ResNet50 36: conv2_block3_3_conv, Typ: Conv2D, Shape: (None, None, None, 256)\n",
      "Warstwa ResNet50 37: conv2_block3_3_bn, Typ: BatchNormalization, Shape: (None, None, None, 256)\n",
      "Warstwa ResNet50 38: conv2_block3_add, Typ: Add, Shape: (None, None, None, 256)\n",
      "Warstwa ResNet50 39: conv2_block3_out, Typ: Activation, Shape: (None, None, None, 256)\n",
      "Warstwa ResNet50 40: conv3_block1_1_conv, Typ: Conv2D, Shape: (None, None, None, 128)\n",
      "Warstwa ResNet50 41: conv3_block1_1_bn, Typ: BatchNormalization, Shape: (None, None, None, 128)\n",
      "Warstwa ResNet50 42: conv3_block1_1_relu, Typ: Activation, Shape: (None, None, None, 128)\n",
      "Warstwa ResNet50 43: conv3_block1_2_conv, Typ: Conv2D, Shape: (None, None, None, 128)\n",
      "Warstwa ResNet50 44: conv3_block1_2_bn, Typ: BatchNormalization, Shape: (None, None, None, 128)\n",
      "Warstwa ResNet50 45: conv3_block1_2_relu, Typ: Activation, Shape: (None, None, None, 128)\n",
      "Warstwa ResNet50 46: conv3_block1_0_conv, Typ: Conv2D, Shape: (None, None, None, 512)\n",
      "Warstwa ResNet50 47: conv3_block1_3_conv, Typ: Conv2D, Shape: (None, None, None, 512)\n",
      "Warstwa ResNet50 48: conv3_block1_0_bn, Typ: BatchNormalization, Shape: (None, None, None, 512)\n",
      "Warstwa ResNet50 49: conv3_block1_3_bn, Typ: BatchNormalization, Shape: (None, None, None, 512)\n",
      "Warstwa ResNet50 50: conv3_block1_add, Typ: Add, Shape: (None, None, None, 512)\n",
      "Warstwa ResNet50 51: conv3_block1_out, Typ: Activation, Shape: (None, None, None, 512)\n",
      "Warstwa ResNet50 52: conv3_block2_1_conv, Typ: Conv2D, Shape: (None, None, None, 128)\n",
      "Warstwa ResNet50 53: conv3_block2_1_bn, Typ: BatchNormalization, Shape: (None, None, None, 128)\n",
      "Warstwa ResNet50 54: conv3_block2_1_relu, Typ: Activation, Shape: (None, None, None, 128)\n",
      "Warstwa ResNet50 55: conv3_block2_2_conv, Typ: Conv2D, Shape: (None, None, None, 128)\n",
      "Warstwa ResNet50 56: conv3_block2_2_bn, Typ: BatchNormalization, Shape: (None, None, None, 128)\n",
      "Warstwa ResNet50 57: conv3_block2_2_relu, Typ: Activation, Shape: (None, None, None, 128)\n",
      "Warstwa ResNet50 58: conv3_block2_3_conv, Typ: Conv2D, Shape: (None, None, None, 512)\n",
      "Warstwa ResNet50 59: conv3_block2_3_bn, Typ: BatchNormalization, Shape: (None, None, None, 512)\n",
      "Warstwa ResNet50 60: conv3_block2_add, Typ: Add, Shape: (None, None, None, 512)\n",
      "Warstwa ResNet50 61: conv3_block2_out, Typ: Activation, Shape: (None, None, None, 512)\n",
      "Warstwa ResNet50 62: conv3_block3_1_conv, Typ: Conv2D, Shape: (None, None, None, 128)\n",
      "Warstwa ResNet50 63: conv3_block3_1_bn, Typ: BatchNormalization, Shape: (None, None, None, 128)\n",
      "Warstwa ResNet50 64: conv3_block3_1_relu, Typ: Activation, Shape: (None, None, None, 128)\n",
      "Warstwa ResNet50 65: conv3_block3_2_conv, Typ: Conv2D, Shape: (None, None, None, 128)\n",
      "Warstwa ResNet50 66: conv3_block3_2_bn, Typ: BatchNormalization, Shape: (None, None, None, 128)\n",
      "Warstwa ResNet50 67: conv3_block3_2_relu, Typ: Activation, Shape: (None, None, None, 128)\n",
      "Warstwa ResNet50 68: conv3_block3_3_conv, Typ: Conv2D, Shape: (None, None, None, 512)\n",
      "Warstwa ResNet50 69: conv3_block3_3_bn, Typ: BatchNormalization, Shape: (None, None, None, 512)\n",
      "Warstwa ResNet50 70: conv3_block3_add, Typ: Add, Shape: (None, None, None, 512)\n",
      "Warstwa ResNet50 71: conv3_block3_out, Typ: Activation, Shape: (None, None, None, 512)\n",
      "Warstwa ResNet50 72: conv3_block4_1_conv, Typ: Conv2D, Shape: (None, None, None, 128)\n",
      "Warstwa ResNet50 73: conv3_block4_1_bn, Typ: BatchNormalization, Shape: (None, None, None, 128)\n",
      "Warstwa ResNet50 74: conv3_block4_1_relu, Typ: Activation, Shape: (None, None, None, 128)\n",
      "Warstwa ResNet50 75: conv3_block4_2_conv, Typ: Conv2D, Shape: (None, None, None, 128)\n",
      "Warstwa ResNet50 76: conv3_block4_2_bn, Typ: BatchNormalization, Shape: (None, None, None, 128)\n",
      "Warstwa ResNet50 77: conv3_block4_2_relu, Typ: Activation, Shape: (None, None, None, 128)\n",
      "Warstwa ResNet50 78: conv3_block4_3_conv, Typ: Conv2D, Shape: (None, None, None, 512)\n",
      "Warstwa ResNet50 79: conv3_block4_3_bn, Typ: BatchNormalization, Shape: (None, None, None, 512)\n",
      "Warstwa ResNet50 80: conv3_block4_add, Typ: Add, Shape: (None, None, None, 512)\n",
      "Warstwa ResNet50 81: conv3_block4_out, Typ: Activation, Shape: (None, None, None, 512)\n",
      "Warstwa ResNet50 82: conv4_block1_1_conv, Typ: Conv2D, Shape: (None, None, None, 256)\n",
      "Warstwa ResNet50 83: conv4_block1_1_bn, Typ: BatchNormalization, Shape: (None, None, None, 256)\n",
      "Warstwa ResNet50 84: conv4_block1_1_relu, Typ: Activation, Shape: (None, None, None, 256)\n",
      "Warstwa ResNet50 85: conv4_block1_2_conv, Typ: Conv2D, Shape: (None, None, None, 256)\n",
      "Warstwa ResNet50 86: conv4_block1_2_bn, Typ: BatchNormalization, Shape: (None, None, None, 256)\n",
      "Warstwa ResNet50 87: conv4_block1_2_relu, Typ: Activation, Shape: (None, None, None, 256)\n",
      "Warstwa ResNet50 88: conv4_block1_0_conv, Typ: Conv2D, Shape: (None, None, None, 1024)\n",
      "Warstwa ResNet50 89: conv4_block1_3_conv, Typ: Conv2D, Shape: (None, None, None, 1024)\n",
      "Warstwa ResNet50 90: conv4_block1_0_bn, Typ: BatchNormalization, Shape: (None, None, None, 1024)\n",
      "Warstwa ResNet50 91: conv4_block1_3_bn, Typ: BatchNormalization, Shape: (None, None, None, 1024)\n",
      "Warstwa ResNet50 92: conv4_block1_add, Typ: Add, Shape: (None, None, None, 1024)\n",
      "Warstwa ResNet50 93: conv4_block1_out, Typ: Activation, Shape: (None, None, None, 1024)\n",
      "Warstwa ResNet50 94: conv4_block2_1_conv, Typ: Conv2D, Shape: (None, None, None, 256)\n",
      "Warstwa ResNet50 95: conv4_block2_1_bn, Typ: BatchNormalization, Shape: (None, None, None, 256)\n",
      "Warstwa ResNet50 96: conv4_block2_1_relu, Typ: Activation, Shape: (None, None, None, 256)\n",
      "Warstwa ResNet50 97: conv4_block2_2_conv, Typ: Conv2D, Shape: (None, None, None, 256)\n",
      "Warstwa ResNet50 98: conv4_block2_2_bn, Typ: BatchNormalization, Shape: (None, None, None, 256)\n",
      "Warstwa ResNet50 99: conv4_block2_2_relu, Typ: Activation, Shape: (None, None, None, 256)\n",
      "Warstwa ResNet50 100: conv4_block2_3_conv, Typ: Conv2D, Shape: (None, None, None, 1024)\n",
      "Warstwa ResNet50 101: conv4_block2_3_bn, Typ: BatchNormalization, Shape: (None, None, None, 1024)\n",
      "Warstwa ResNet50 102: conv4_block2_add, Typ: Add, Shape: (None, None, None, 1024)\n",
      "Warstwa ResNet50 103: conv4_block2_out, Typ: Activation, Shape: (None, None, None, 1024)\n",
      "Warstwa ResNet50 104: conv4_block3_1_conv, Typ: Conv2D, Shape: (None, None, None, 256)\n",
      "Warstwa ResNet50 105: conv4_block3_1_bn, Typ: BatchNormalization, Shape: (None, None, None, 256)\n",
      "Warstwa ResNet50 106: conv4_block3_1_relu, Typ: Activation, Shape: (None, None, None, 256)\n",
      "Warstwa ResNet50 107: conv4_block3_2_conv, Typ: Conv2D, Shape: (None, None, None, 256)\n",
      "Warstwa ResNet50 108: conv4_block3_2_bn, Typ: BatchNormalization, Shape: (None, None, None, 256)\n",
      "Warstwa ResNet50 109: conv4_block3_2_relu, Typ: Activation, Shape: (None, None, None, 256)\n",
      "Warstwa ResNet50 110: conv4_block3_3_conv, Typ: Conv2D, Shape: (None, None, None, 1024)\n",
      "Warstwa ResNet50 111: conv4_block3_3_bn, Typ: BatchNormalization, Shape: (None, None, None, 1024)\n",
      "Warstwa ResNet50 112: conv4_block3_add, Typ: Add, Shape: (None, None, None, 1024)\n",
      "Warstwa ResNet50 113: conv4_block3_out, Typ: Activation, Shape: (None, None, None, 1024)\n",
      "Warstwa ResNet50 114: conv4_block4_1_conv, Typ: Conv2D, Shape: (None, None, None, 256)\n",
      "Warstwa ResNet50 115: conv4_block4_1_bn, Typ: BatchNormalization, Shape: (None, None, None, 256)\n",
      "Warstwa ResNet50 116: conv4_block4_1_relu, Typ: Activation, Shape: (None, None, None, 256)\n",
      "Warstwa ResNet50 117: conv4_block4_2_conv, Typ: Conv2D, Shape: (None, None, None, 256)\n",
      "Warstwa ResNet50 118: conv4_block4_2_bn, Typ: BatchNormalization, Shape: (None, None, None, 256)\n",
      "Warstwa ResNet50 119: conv4_block4_2_relu, Typ: Activation, Shape: (None, None, None, 256)\n",
      "Warstwa ResNet50 120: conv4_block4_3_conv, Typ: Conv2D, Shape: (None, None, None, 1024)\n",
      "Warstwa ResNet50 121: conv4_block4_3_bn, Typ: BatchNormalization, Shape: (None, None, None, 1024)\n",
      "Warstwa ResNet50 122: conv4_block4_add, Typ: Add, Shape: (None, None, None, 1024)\n",
      "Warstwa ResNet50 123: conv4_block4_out, Typ: Activation, Shape: (None, None, None, 1024)\n",
      "Warstwa ResNet50 124: conv4_block5_1_conv, Typ: Conv2D, Shape: (None, None, None, 256)\n",
      "Warstwa ResNet50 125: conv4_block5_1_bn, Typ: BatchNormalization, Shape: (None, None, None, 256)\n",
      "Warstwa ResNet50 126: conv4_block5_1_relu, Typ: Activation, Shape: (None, None, None, 256)\n",
      "Warstwa ResNet50 127: conv4_block5_2_conv, Typ: Conv2D, Shape: (None, None, None, 256)\n",
      "Warstwa ResNet50 128: conv4_block5_2_bn, Typ: BatchNormalization, Shape: (None, None, None, 256)\n",
      "Warstwa ResNet50 129: conv4_block5_2_relu, Typ: Activation, Shape: (None, None, None, 256)\n",
      "Warstwa ResNet50 130: conv4_block5_3_conv, Typ: Conv2D, Shape: (None, None, None, 1024)\n",
      "Warstwa ResNet50 131: conv4_block5_3_bn, Typ: BatchNormalization, Shape: (None, None, None, 1024)\n",
      "Warstwa ResNet50 132: conv4_block5_add, Typ: Add, Shape: (None, None, None, 1024)\n",
      "Warstwa ResNet50 133: conv4_block5_out, Typ: Activation, Shape: (None, None, None, 1024)\n",
      "Warstwa ResNet50 134: conv4_block6_1_conv, Typ: Conv2D, Shape: (None, None, None, 256)\n",
      "Warstwa ResNet50 135: conv4_block6_1_bn, Typ: BatchNormalization, Shape: (None, None, None, 256)\n",
      "Warstwa ResNet50 136: conv4_block6_1_relu, Typ: Activation, Shape: (None, None, None, 256)\n",
      "Warstwa ResNet50 137: conv4_block6_2_conv, Typ: Conv2D, Shape: (None, None, None, 256)\n",
      "Warstwa ResNet50 138: conv4_block6_2_bn, Typ: BatchNormalization, Shape: (None, None, None, 256)\n",
      "Warstwa ResNet50 139: conv4_block6_2_relu, Typ: Activation, Shape: (None, None, None, 256)\n",
      "Warstwa ResNet50 140: conv4_block6_3_conv, Typ: Conv2D, Shape: (None, None, None, 1024)\n",
      "Warstwa ResNet50 141: conv4_block6_3_bn, Typ: BatchNormalization, Shape: (None, None, None, 1024)\n",
      "Warstwa ResNet50 142: conv4_block6_add, Typ: Add, Shape: (None, None, None, 1024)\n",
      "Warstwa ResNet50 143: conv4_block6_out, Typ: Activation, Shape: (None, None, None, 1024)\n",
      "Warstwa ResNet50 144: conv5_block1_1_conv, Typ: Conv2D, Shape: (None, None, None, 512)\n",
      "Warstwa ResNet50 145: conv5_block1_1_bn, Typ: BatchNormalization, Shape: (None, None, None, 512)\n",
      "Warstwa ResNet50 146: conv5_block1_1_relu, Typ: Activation, Shape: (None, None, None, 512)\n",
      "Warstwa ResNet50 147: conv5_block1_2_conv, Typ: Conv2D, Shape: (None, None, None, 512)\n",
      "Warstwa ResNet50 148: conv5_block1_2_bn, Typ: BatchNormalization, Shape: (None, None, None, 512)\n",
      "Warstwa ResNet50 149: conv5_block1_2_relu, Typ: Activation, Shape: (None, None, None, 512)\n",
      "Warstwa ResNet50 150: conv5_block1_0_conv, Typ: Conv2D, Shape: (None, None, None, 2048)\n",
      "Warstwa ResNet50 151: conv5_block1_3_conv, Typ: Conv2D, Shape: (None, None, None, 2048)\n",
      "Warstwa ResNet50 152: conv5_block1_0_bn, Typ: BatchNormalization, Shape: (None, None, None, 2048)\n",
      "Warstwa ResNet50 153: conv5_block1_3_bn, Typ: BatchNormalization, Shape: (None, None, None, 2048)\n",
      "Warstwa ResNet50 154: conv5_block1_add, Typ: Add, Shape: (None, None, None, 2048)\n",
      "Warstwa ResNet50 155: conv5_block1_out, Typ: Activation, Shape: (None, None, None, 2048)\n",
      "Warstwa ResNet50 156: conv5_block2_1_conv, Typ: Conv2D, Shape: (None, None, None, 512)\n",
      "Warstwa ResNet50 157: conv5_block2_1_bn, Typ: BatchNormalization, Shape: (None, None, None, 512)\n",
      "Warstwa ResNet50 158: conv5_block2_1_relu, Typ: Activation, Shape: (None, None, None, 512)\n",
      "Warstwa ResNet50 159: conv5_block2_2_conv, Typ: Conv2D, Shape: (None, None, None, 512)\n",
      "Warstwa ResNet50 160: conv5_block2_2_bn, Typ: BatchNormalization, Shape: (None, None, None, 512)\n",
      "Warstwa ResNet50 161: conv5_block2_2_relu, Typ: Activation, Shape: (None, None, None, 512)\n",
      "Warstwa ResNet50 162: conv5_block2_3_conv, Typ: Conv2D, Shape: (None, None, None, 2048)\n",
      "Warstwa ResNet50 163: conv5_block2_3_bn, Typ: BatchNormalization, Shape: (None, None, None, 2048)\n",
      "Warstwa ResNet50 164: conv5_block2_add, Typ: Add, Shape: (None, None, None, 2048)\n",
      "Warstwa ResNet50 165: conv5_block2_out, Typ: Activation, Shape: (None, None, None, 2048)\n",
      "Warstwa ResNet50 166: conv5_block3_1_conv, Typ: Conv2D, Shape: (None, None, None, 512)\n",
      "Warstwa ResNet50 167: conv5_block3_1_bn, Typ: BatchNormalization, Shape: (None, None, None, 512)\n",
      "Warstwa ResNet50 168: conv5_block3_1_relu, Typ: Activation, Shape: (None, None, None, 512)\n",
      "Warstwa ResNet50 169: conv5_block3_2_conv, Typ: Conv2D, Shape: (None, None, None, 512)\n",
      "Warstwa ResNet50 170: conv5_block3_2_bn, Typ: BatchNormalization, Shape: (None, None, None, 512)\n",
      "Warstwa ResNet50 171: conv5_block3_2_relu, Typ: Activation, Shape: (None, None, None, 512)\n",
      "Warstwa ResNet50 172: conv5_block3_3_conv, Typ: Conv2D, Shape: (None, None, None, 2048)\n",
      "Warstwa ResNet50 173: conv5_block3_3_bn, Typ: BatchNormalization, Shape: (None, None, None, 2048)\n",
      "Warstwa ResNet50 174: conv5_block3_add, Typ: Add, Shape: (None, None, None, 2048)\n",
      "Warstwa ResNet50 175: conv5_block3_out, Typ: Activation, Shape: (None, None, None, 2048)\n",
      "Warstwa ResNet50 176: avg_pool, Typ: GlobalAveragePooling2D, Shape: (None, 2048)\n"
     ]
    }
   ],
   "source": [
    "resnet50_layers = model.layers[0].layers\n",
    "for i, warstwa in enumerate(resnet50_layers):\n",
    "    print(f'Warstwa ResNet50 {i + 1}: {warstwa.name}, Typ: {warstwa.__class__.__name__}, Shape: {warstwa.output_shape}')\n"
   ],
   "metadata": {
    "collapsed": false,
    "ExecuteTime": {
     "end_time": "2024-03-23T14:42:01.133008600Z",
     "start_time": "2024-03-23T14:42:01.091009100Z"
    }
   },
   "id": "1a72e779b9ae01c9"
  },
  {
   "cell_type": "code",
   "execution_count": 4,
   "outputs": [],
   "source": [
    "resnet_model = model.get_layer('resnet50')\n",
    "\n",
    "output_layer = 'conv4_block1_2_conv'\n",
    "\n",
    "layer = resnet_model.get_layer(output_layer)\n",
    "weights = layer.get_weights()[0]\n",
    "biases = layer.get_weights()[1] "
   ],
   "metadata": {
    "collapsed": false,
    "ExecuteTime": {
     "end_time": "2024-03-23T14:42:01.134010900Z",
     "start_time": "2024-03-23T14:42:01.107013400Z"
    }
   },
   "id": "270d00d5abaa413e"
  },
  {
   "cell_type": "code",
   "execution_count": 5,
   "outputs": [
    {
     "data": {
      "text/plain": "(3, 3, 256, 256)"
     },
     "execution_count": 5,
     "metadata": {},
     "output_type": "execute_result"
    }
   ],
   "source": [
    "weights.shape"
   ],
   "metadata": {
    "collapsed": false,
    "ExecuteTime": {
     "end_time": "2024-03-23T14:42:01.146010400Z",
     "start_time": "2024-03-23T14:42:01.124008200Z"
    }
   },
   "id": "3c0e2545d8fe22da"
  },
  {
   "cell_type": "code",
   "execution_count": 6,
   "outputs": [
    {
     "data": {
      "text/plain": "(256,)"
     },
     "execution_count": 6,
     "metadata": {},
     "output_type": "execute_result"
    }
   ],
   "source": [
    "biases.shape"
   ],
   "metadata": {
    "collapsed": false,
    "ExecuteTime": {
     "end_time": "2024-03-23T14:42:01.196010200Z",
     "start_time": "2024-03-23T14:42:01.139007600Z"
    }
   },
   "id": "d6e282866a51137b"
  },
  {
   "cell_type": "code",
   "execution_count": 7,
   "outputs": [],
   "source": [
    "num_filters_to_remove = 100\n",
    "\n",
    "filters_to_remove = np.random.choice(weights.shape[3], num_filters_to_remove, replace=False)\n",
    "\n",
    "new_weights = np.delete(weights, filters_to_remove, axis=3)\n",
    "new_biases = np.delete(biases, filters_to_remove)"
   ],
   "metadata": {
    "collapsed": false,
    "ExecuteTime": {
     "end_time": "2024-03-23T14:42:01.197011200Z",
     "start_time": "2024-03-23T14:42:01.151008400Z"
    }
   },
   "id": "8e39dce2b0a0efb7"
  },
  {
   "cell_type": "code",
   "execution_count": 8,
   "outputs": [],
   "source": [
    "def prune_filter(original_model, cut_off_layer_name, indexes):\n",
    "    # Warswtwa którą chcę przyciąć\n",
    "    layer_to_prune = resnet_model.get_layer(cut_off_layer_name)\n",
    "    \n",
    "    all_layers = original_model.layers\n",
    "\n",
    "    # Ideks warstwy do przycięcia\n",
    "    layer_to_prune_index = all_layers.index(layer_to_prune)\n",
    "\n",
    "    # Blok poprzedzający przycinany blok\n",
    "    previous_layer = next((layer for layer in all_layers[:layer_to_prune_index][::-1] if layer.name.endswith(\"out\")), None)\n",
    "    # Następny blok po przycinanym bloku\n",
    "    next_layer = next((layer for layer in all_layers[layer_to_prune_index + 1:] if layer.name.endswith(\"add\")), None)\n",
    "\n",
    "    # Tworzę 3 modele, które później złącze ze sobą, prev i nex nie będzie zmieniany a model_to_prune będzie przycięty\n",
    "    model_prev = Model(inputs=original_model.input, outputs=previous_layer.output)        \n",
    "    model_to_prune = Model(inputs=original_model.layers[all_layers.index(previous_layer) + 1].input, outputs=next_layer.output)       \n",
    "    model_next = Model(inputs=original_model.layers[all_layers.index(next_layer) + 1].input, outputs=original_model.output) \n",
    "\n",
    "    combined_input = Input(shape=(32, 32, 3))\n",
    "            \n",
    "    output_prev = model_prev(combined_input)\n",
    "    \n",
    "    # Kopiuję konfiguracje warstwy do przycięcia\n",
    "    config = layer_to_prune.get_config()\n",
    "    config['filters'] = len(indexes)\n",
    "\n",
    "    # Zamiast przycinania strej warstwy tworze nową z tą samą konfiguracja, wagami i biasem\n",
    "    new_layer = Conv2D(**config)\n",
    "    input_shape = layer_to_prune.input_shape\n",
    "    new_layer.build(input_shape)\n",
    "\n",
    "    # Ustawianie wag i biasów\n",
    "    weights = layer_to_prune.get_weights()[0][:, :, :, indexes]\n",
    "    if len(layer_to_prune.get_weights()) > 1:\n",
    "        biases = layer_to_prune.get_weights()[1][indexes]\n",
    "        new_weights = [weights, biases]\n",
    "    else:\n",
    "        new_weights = [weights]\n",
    "    new_layer.set_weights(new_weights)\n",
    "    \n",
    "    for layer_prune in model_to_prune.layers:\n",
    "        if layer_prune.name != cut_off_layer_name:\n",
    "            if layer_prune.name.endswith(\"_conv\"):\n",
    "                output_prev = Conv2D(filters=layer_prune.input_shape[-1], kernel_size=(1, 1))(output_prev)\n",
    "            if layer_prune.name.endswith(\"_add\"):\n",
    "                output_prev = layer_prune([output_prev])\n",
    "            else:\n",
    "                output_prev = layer_prune(output_prev)\n",
    "        else:\n",
    "            # output_prev = new_layer(output_prev)\n",
    "            output_prev = layer_prune(output_prev)\n",
    "            output_prev = Conv2D(filters=256, kernel_size=(1, 1), name='adaptation_conv')(output_prev)\n",
    "\n",
    "    # output_to_prune = model_to_prune(output_prev)\n",
    "    final_output = model_next(output_prev)\n",
    "    # print(final_output.layers)\n",
    "\n",
    "    # Na nowo łaczę przycięty model\n",
    "    combined_model = Model(inputs=combined_input, outputs=final_output)\n",
    "\n",
    "    # combined_model.compile(optimizer='adam', loss='categorical_crossentropy', metrics=['accuracy'])\n",
    "\n",
    "    return combined_model\n"
   ],
   "metadata": {
    "collapsed": false,
    "ExecuteTime": {
     "end_time": "2024-03-23T14:42:01.198008900Z",
     "start_time": "2024-03-23T14:42:01.165009700Z"
    }
   },
   "id": "5e72c626b4c177ae"
  },
  {
   "cell_type": "code",
   "execution_count": 9,
   "outputs": [
    {
     "data": {
      "text/plain": "(3, 3, 256, 256)"
     },
     "execution_count": 9,
     "metadata": {},
     "output_type": "execute_result"
    }
   ],
   "source": [
    "weights.shape"
   ],
   "metadata": {
    "collapsed": false,
    "ExecuteTime": {
     "end_time": "2024-03-23T14:42:01.222008800Z",
     "start_time": "2024-03-23T14:42:01.183009700Z"
    }
   },
   "id": "ac3df663de83e50b"
  },
  {
   "cell_type": "code",
   "execution_count": 10,
   "outputs": [
    {
     "data": {
      "text/plain": "(256, 2304)"
     },
     "execution_count": 10,
     "metadata": {},
     "output_type": "execute_result"
    }
   ],
   "source": [
    "# weights_list = np.array([weights[:, :, :, i] for i in range(weights.shape[-1])])\n",
    "weights_list = weights.reshape(256, -1)\n",
    "weights_list.shape\n",
    "# filter_indexes = cluster_filters(weights_list)"
   ],
   "metadata": {
    "collapsed": false,
    "ExecuteTime": {
     "end_time": "2024-03-23T14:42:01.225008800Z",
     "start_time": "2024-03-23T14:42:01.198008900Z"
    }
   },
   "id": "265256c59192e745"
  },
  {
   "cell_type": "code",
   "execution_count": 11,
   "outputs": [],
   "source": [
    "# from sklearn.cluster import KMeans\n",
    "# \n",
    "# k = 100  # Liczba klastrów\n",
    "# knn = KMeans(n_clusters=k)\n",
    "# knn.fit(weights_list)\n",
    "# klastry = knn.labels_\n",
    "# \n",
    "# indexes = []\n",
    "# for i in range(k):\n",
    "#     indeksy_klastra = np.where(klastry == i)[0]\n",
    "#     losowy_indeks = np.random.choice(indeksy_klastra)\n",
    "#     indexes.append(losowy_indeks)\n",
    "# \n",
    "# pruned_model = prune_filter(resnet_model, output_layer, indexes)"
   ],
   "metadata": {
    "collapsed": false,
    "ExecuteTime": {
     "end_time": "2024-03-23T14:42:01.286005200Z",
     "start_time": "2024-03-23T14:42:01.208008100Z"
    }
   },
   "id": "c6e8a30ef33b2eb5"
  },
  {
   "cell_type": "code",
   "execution_count": 12,
   "outputs": [],
   "source": [
    "from sklearn.cluster import DBSCAN\n",
    "dbscan = DBSCAN(eps=0.9, min_samples=1)\n",
    "dbscan.fit(weights_list)\n",
    "\n",
    "\n",
    "cluster_indices = np.unique(dbscan.labels_)\n",
    "\n",
    "indexes = []\n",
    "for cluster_index in cluster_indices:\n",
    "    cluster_points = np.where(dbscan.labels_ == cluster_index)[0]\n",
    "    index = np.random.choice(cluster_points)\n",
    "    indexes.append(index)\n",
    "    \n",
    "pruned_model = prune_filter(resnet_model, output_layer, indexes)"
   ],
   "metadata": {
    "collapsed": false,
    "ExecuteTime": {
     "end_time": "2024-03-23T14:42:02.016942400Z",
     "start_time": "2024-03-23T14:42:01.222008800Z"
    }
   },
   "id": "31ca3f89bbef9a5c"
  },
  {
   "cell_type": "code",
   "execution_count": 13,
   "outputs": [],
   "source": [
    "# import random\n",
    "# \n",
    "# indexes = [random.randint(0, 255) for _ in range(100)]\n",
    "# pruned_model = prune_filter(resnet_model, output_layer, indexes)"
   ],
   "metadata": {
    "collapsed": false,
    "ExecuteTime": {
     "end_time": "2024-03-23T14:42:02.025942300Z",
     "start_time": "2024-03-23T14:42:02.018940400Z"
    }
   },
   "id": "7f0df491594f013f"
  },
  {
   "cell_type": "code",
   "execution_count": 14,
   "outputs": [],
   "source": [
    "from keras import Sequential\n",
    "\n",
    "prune_input = Input(shape=(32, 32, 3))\n",
    "# prune_output = pruned_model(prune_input)\n",
    "# new_output = model.layers[1](prune_output)\n",
    "# new_model = Model(inputs=prune_input, outputs=new_output)\n",
    "new_model = Sequential()\n",
    "new_model.add(prune_input)\n",
    "new_model.add(pruned_model)\n",
    "new_model.add(model.layers[1])"
   ],
   "metadata": {
    "collapsed": false,
    "ExecuteTime": {
     "end_time": "2024-03-23T14:42:02.547396100Z",
     "start_time": "2024-03-23T14:42:02.031941900Z"
    }
   },
   "id": "b840ce2e1e64aeac"
  },
  {
   "cell_type": "code",
   "execution_count": 15,
   "outputs": [
    {
     "name": "stdout",
     "output_type": "stream",
     "text": [
      "1875/1875 [==============================] - 1698s 904ms/step - loss: 0.3518 - accuracy: 0.9287\n"
     ]
    },
    {
     "data": {
      "text/plain": "<keras.callbacks.History at 0x28260d94b50>"
     },
     "execution_count": 15,
     "metadata": {},
     "output_type": "execute_result"
    }
   ],
   "source": [
    "(train_X, train_y), (test_X, test_y) = mnist.load_data()\n",
    "new_model.compile(optimizer='adam', loss='categorical_crossentropy', metrics=['accuracy'])\n",
    "train_X = np.expand_dims(train_X, axis=-1)  # Add a channel dimension for ResNet50\n",
    "train_X = np.repeat(train_X, 3, axis=-1)  # Repeat the single channel to simulate 3 channels\n",
    "train_X = np.pad(train_X, ((0, 0), (2, 2), (2, 2), (0, 0)), mode='constant')  # Resize to 224x224\n",
    "train_y = to_categorical(train_y, 10)\n",
    "new_model.fit(x = train_X, y= train_y, epochs=1)"
   ],
   "metadata": {
    "collapsed": false,
    "ExecuteTime": {
     "end_time": "2024-03-23T15:10:21.282171300Z",
     "start_time": "2024-03-23T14:42:02.549408600Z"
    }
   },
   "id": "4b9969338efcc53c"
  },
  {
   "cell_type": "code",
   "execution_count": 16,
   "outputs": [
    {
     "name": "stdout",
     "output_type": "stream",
     "text": [
      "313/313 [==============================] - 24s 73ms/step - loss: 0.0883 - accuracy: 0.9753\n"
     ]
    }
   ],
   "source": [
    "test_X = np.expand_dims(test_X, axis=-1)\n",
    "test_X = np.repeat(test_X, 3, axis=-1)\n",
    "test_X = np.pad(test_X, ((0, 0), (2, 2), (2, 2), (0, 0)), mode='constant')\n",
    "result = new_model.evaluate(test_X, to_categorical(test_y, 10))"
   ],
   "metadata": {
    "collapsed": false,
    "ExecuteTime": {
     "end_time": "2024-03-23T15:10:45.469812500Z",
     "start_time": "2024-03-23T15:10:21.285164900Z"
    }
   },
   "id": "4bedba71cecc86bd"
  },
  {
   "cell_type": "code",
   "execution_count": 17,
   "outputs": [],
   "source": [
    "new_model.save('../NN/pruned_DBSCAN_model_mnist_renet50.h5')"
   ],
   "metadata": {
    "collapsed": false,
    "ExecuteTime": {
     "end_time": "2024-03-23T15:10:45.833813900Z",
     "start_time": "2024-03-23T15:10:45.467813800Z"
    }
   },
   "id": "9d6dd9612eee4ada"
  },
  {
   "cell_type": "code",
   "execution_count": 20,
   "outputs": [
    {
     "ename": "ValueError",
     "evalue": "A merge layer should be called on a list of inputs. Received: input_shape=(None, None, None, 1024) (not a list of shapes)",
     "output_type": "error",
     "traceback": [
      "\u001B[1;31m---------------------------------------------------------------------------\u001B[0m",
      "\u001B[1;31mValueError\u001B[0m                                Traceback (most recent call last)",
      "Cell \u001B[1;32mIn [20], line 1\u001B[0m\n\u001B[1;32m----> 1\u001B[0m model_final \u001B[38;5;241m=\u001B[39m \u001B[43mload_model\u001B[49m\u001B[43m(\u001B[49m\u001B[38;5;124;43m'\u001B[39;49m\u001B[38;5;124;43m../NN/pruned_DBSCAN_model_mnist_renet50.h5\u001B[39;49m\u001B[38;5;124;43m'\u001B[39;49m\u001B[43m)\u001B[49m\n",
      "File \u001B[1;32m~\\AppData\\Local\\Programs\\Python\\Python39\\lib\\site-packages\\keras\\utils\\traceback_utils.py:70\u001B[0m, in \u001B[0;36mfilter_traceback.<locals>.error_handler\u001B[1;34m(*args, **kwargs)\u001B[0m\n\u001B[0;32m     67\u001B[0m     filtered_tb \u001B[38;5;241m=\u001B[39m _process_traceback_frames(e\u001B[38;5;241m.\u001B[39m__traceback__)\n\u001B[0;32m     68\u001B[0m     \u001B[38;5;66;03m# To get the full stack trace, call:\u001B[39;00m\n\u001B[0;32m     69\u001B[0m     \u001B[38;5;66;03m# `tf.debugging.disable_traceback_filtering()`\u001B[39;00m\n\u001B[1;32m---> 70\u001B[0m     \u001B[38;5;28;01mraise\u001B[39;00m e\u001B[38;5;241m.\u001B[39mwith_traceback(filtered_tb) \u001B[38;5;28;01mfrom\u001B[39;00m \u001B[38;5;28mNone\u001B[39m\n\u001B[0;32m     71\u001B[0m \u001B[38;5;28;01mfinally\u001B[39;00m:\n\u001B[0;32m     72\u001B[0m     \u001B[38;5;28;01mdel\u001B[39;00m filtered_tb\n",
      "File \u001B[1;32m~\\AppData\\Local\\Programs\\Python\\Python39\\lib\\site-packages\\keras\\layers\\merging\\base_merge.py:85\u001B[0m, in \u001B[0;36m_Merge.build\u001B[1;34m(self, input_shape)\u001B[0m\n\u001B[0;32m     81\u001B[0m \u001B[38;5;129m@tf_utils\u001B[39m\u001B[38;5;241m.\u001B[39mshape_type_conversion\n\u001B[0;32m     82\u001B[0m \u001B[38;5;28;01mdef\u001B[39;00m \u001B[38;5;21mbuild\u001B[39m(\u001B[38;5;28mself\u001B[39m, input_shape):\n\u001B[0;32m     83\u001B[0m     \u001B[38;5;66;03m# Used purely for shape validation.\u001B[39;00m\n\u001B[0;32m     84\u001B[0m     \u001B[38;5;28;01mif\u001B[39;00m \u001B[38;5;129;01mnot\u001B[39;00m \u001B[38;5;28misinstance\u001B[39m(input_shape[\u001B[38;5;241m0\u001B[39m], \u001B[38;5;28mtuple\u001B[39m):\n\u001B[1;32m---> 85\u001B[0m         \u001B[38;5;28;01mraise\u001B[39;00m \u001B[38;5;167;01mValueError\u001B[39;00m(\n\u001B[0;32m     86\u001B[0m             \u001B[38;5;124m\"\u001B[39m\u001B[38;5;124mA merge layer should be called on a list of inputs. \u001B[39m\u001B[38;5;124m\"\u001B[39m\n\u001B[0;32m     87\u001B[0m             \u001B[38;5;124mf\u001B[39m\u001B[38;5;124m\"\u001B[39m\u001B[38;5;124mReceived: input_shape=\u001B[39m\u001B[38;5;132;01m{\u001B[39;00minput_shape\u001B[38;5;132;01m}\u001B[39;00m\u001B[38;5;124m (not a list of shapes)\u001B[39m\u001B[38;5;124m\"\u001B[39m\n\u001B[0;32m     88\u001B[0m         )\n\u001B[0;32m     89\u001B[0m     \u001B[38;5;28;01mif\u001B[39;00m \u001B[38;5;28mlen\u001B[39m(input_shape) \u001B[38;5;241m<\u001B[39m \u001B[38;5;241m1\u001B[39m:\n\u001B[0;32m     90\u001B[0m         \u001B[38;5;28;01mraise\u001B[39;00m \u001B[38;5;167;01mValueError\u001B[39;00m(\n\u001B[0;32m     91\u001B[0m             \u001B[38;5;124m\"\u001B[39m\u001B[38;5;124mA merge layer should be called \u001B[39m\u001B[38;5;124m\"\u001B[39m\n\u001B[0;32m     92\u001B[0m             \u001B[38;5;124m\"\u001B[39m\u001B[38;5;124mon a list of at least 1 input. \u001B[39m\u001B[38;5;124m\"\u001B[39m\n\u001B[0;32m     93\u001B[0m             \u001B[38;5;124mf\u001B[39m\u001B[38;5;124m\"\u001B[39m\u001B[38;5;124mGot \u001B[39m\u001B[38;5;132;01m{\u001B[39;00m\u001B[38;5;28mlen\u001B[39m(input_shape)\u001B[38;5;132;01m}\u001B[39;00m\u001B[38;5;124m inputs. \u001B[39m\u001B[38;5;124m\"\u001B[39m\n\u001B[0;32m     94\u001B[0m             \u001B[38;5;124mf\u001B[39m\u001B[38;5;124m\"\u001B[39m\u001B[38;5;124mFull input_shape received: \u001B[39m\u001B[38;5;132;01m{\u001B[39;00minput_shape\u001B[38;5;132;01m}\u001B[39;00m\u001B[38;5;124m\"\u001B[39m\n\u001B[0;32m     95\u001B[0m         )\n",
      "\u001B[1;31mValueError\u001B[0m: A merge layer should be called on a list of inputs. Received: input_shape=(None, None, None, 1024) (not a list of shapes)"
     ]
    }
   ],
   "source": [
    "model_final = load_model('../NN/pruned_DBSCAN_model_mnist_renet50.h5')\n",
    "# test_X = np.expand_dims(test_X, axis=-1)  # Add a channel dimension for ResNet50\n",
    "# test_X = np.repeat(test_X, 3, axis=-1)  # Repeat the single channel to simulate 3 channels\n",
    "# test_X = np.pad(test_X, ((0, 0), (2, 2), (2, 2), (0, 0)), mode='constant')  # Resize to 224x224\n",
    "# result = model_final.evaluate(test_X, to_categorical(test_y, 10))\n",
    "# print(result)"
   ],
   "metadata": {
    "collapsed": false,
    "ExecuteTime": {
     "end_time": "2024-03-23T15:11:26.356365200Z",
     "start_time": "2024-03-23T15:11:24.003174900Z"
    }
   },
   "id": "d029d8081a5812e1"
  },
  {
   "cell_type": "code",
   "execution_count": null,
   "outputs": [],
   "source": [],
   "metadata": {
    "collapsed": false,
    "ExecuteTime": {
     "start_time": "2024-03-23T15:10:48.166814Z"
    }
   },
   "id": "9383a55e69524c6c"
  },
  {
   "cell_type": "code",
   "execution_count": null,
   "outputs": [],
   "source": [],
   "metadata": {
    "collapsed": false,
    "ExecuteTime": {
     "start_time": "2024-03-23T15:10:48.168820500Z"
    }
   },
   "id": "81905f4d9d6aa6af"
  }
 ],
 "metadata": {
  "kernelspec": {
   "display_name": "Python 3",
   "language": "python",
   "name": "python3"
  },
  "language_info": {
   "codemirror_mode": {
    "name": "ipython",
    "version": 2
   },
   "file_extension": ".py",
   "mimetype": "text/x-python",
   "name": "python",
   "nbconvert_exporter": "python",
   "pygments_lexer": "ipython2",
   "version": "2.7.6"
  }
 },
 "nbformat": 4,
 "nbformat_minor": 5
}
