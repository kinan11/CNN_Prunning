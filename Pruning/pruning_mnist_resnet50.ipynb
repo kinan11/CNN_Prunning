{
 "cells": [
  {
   "cell_type": "code",
   "execution_count": 16,
   "id": "initial_id",
   "metadata": {
    "collapsed": true,
    "ExecuteTime": {
     "end_time": "2024-07-26T17:54:32.756189200Z",
     "start_time": "2024-07-26T17:54:32.656157400Z"
    }
   },
   "outputs": [],
   "source": [
    "from keras.datasets import mnist\n",
    "from keras.utils import to_categorical\n",
    "from keras.models import load_model\n",
    "import numpy as np\n",
    "from keras.models import Model\n",
    "from keras.layers import Input, Conv2D\n",
    "from keras.layers import Add, BatchNormalization, Activation\n",
    "from sklearn.cluster import DBSCAN\n",
    "from keras.models import Sequential\n",
    "from keras.layers import Dense\n",
    "from sklearn.preprocessing import StandardScaler\n",
    "\n",
    "from CGA.cluster_filters import cluster_filters"
   ]
  },
  {
   "cell_type": "code",
   "execution_count": 17,
   "outputs": [
    {
     "name": "stdout",
     "output_type": "stream",
     "text": [
      "Model: \"sequential_2\"\n",
      "_________________________________________________________________\n",
      " Layer (type)                Output Shape              Param #   \n",
      "=================================================================\n",
      " resnet50 (Functional)       (None, 2048)              23587712  \n",
      "                                                                 \n",
      " dense_2 (Dense)             (None, 10)                20490     \n",
      "                                                                 \n",
      "=================================================================\n",
      "Total params: 23,608,202\n",
      "Trainable params: 20,490\n",
      "Non-trainable params: 23,587,712\n",
      "_________________________________________________________________\n"
     ]
    }
   ],
   "source": [
    "model = load_model('../Models/NN/model_renet50.h5')\n",
    "model.summary()"
   ],
   "metadata": {
    "collapsed": false,
    "ExecuteTime": {
     "end_time": "2024-07-26T17:54:35.168366900Z",
     "start_time": "2024-07-26T17:54:32.662154800Z"
    }
   },
   "id": "24fb95d055826a96"
  },
  {
   "cell_type": "code",
   "execution_count": 18,
   "outputs": [
    {
     "name": "stdout",
     "output_type": "stream",
     "text": [
      "Warstwa ResNet50 1: input_3, Typ: InputLayer, Shape: [(None, None, None, 3)]\n",
      "Warstwa ResNet50 2: conv1_pad, Typ: ZeroPadding2D, Shape: (None, None, None, 3)\n",
      "Warstwa ResNet50 3: conv1_conv, Typ: Conv2D, Shape: (None, None, None, 64)\n",
      "Warstwa ResNet50 4: conv1_bn, Typ: BatchNormalization, Shape: (None, None, None, 64)\n",
      "Warstwa ResNet50 5: conv1_relu, Typ: Activation, Shape: (None, None, None, 64)\n",
      "Warstwa ResNet50 6: pool1_pad, Typ: ZeroPadding2D, Shape: (None, None, None, 64)\n",
      "Warstwa ResNet50 7: pool1_pool, Typ: MaxPooling2D, Shape: (None, None, None, 64)\n",
      "Warstwa ResNet50 8: conv2_block1_1_conv, Typ: Conv2D, Shape: (None, None, None, 64)\n",
      "Warstwa ResNet50 9: conv2_block1_1_bn, Typ: BatchNormalization, Shape: (None, None, None, 64)\n",
      "Warstwa ResNet50 10: conv2_block1_1_relu, Typ: Activation, Shape: (None, None, None, 64)\n",
      "Warstwa ResNet50 11: conv2_block1_2_conv, Typ: Conv2D, Shape: (None, None, None, 64)\n",
      "Warstwa ResNet50 12: conv2_block1_2_bn, Typ: BatchNormalization, Shape: (None, None, None, 64)\n",
      "Warstwa ResNet50 13: conv2_block1_2_relu, Typ: Activation, Shape: (None, None, None, 64)\n",
      "Warstwa ResNet50 14: conv2_block1_0_conv, Typ: Conv2D, Shape: (None, None, None, 256)\n",
      "Warstwa ResNet50 15: conv2_block1_3_conv, Typ: Conv2D, Shape: (None, None, None, 256)\n",
      "Warstwa ResNet50 16: conv2_block1_0_bn, Typ: BatchNormalization, Shape: (None, None, None, 256)\n",
      "Warstwa ResNet50 17: conv2_block1_3_bn, Typ: BatchNormalization, Shape: (None, None, None, 256)\n",
      "Warstwa ResNet50 18: conv2_block1_add, Typ: Add, Shape: (None, None, None, 256)\n",
      "Warstwa ResNet50 19: conv2_block1_out, Typ: Activation, Shape: (None, None, None, 256)\n",
      "Warstwa ResNet50 20: conv2_block2_1_conv, Typ: Conv2D, Shape: (None, None, None, 64)\n",
      "Warstwa ResNet50 21: conv2_block2_1_bn, Typ: BatchNormalization, Shape: (None, None, None, 64)\n",
      "Warstwa ResNet50 22: conv2_block2_1_relu, Typ: Activation, Shape: (None, None, None, 64)\n",
      "Warstwa ResNet50 23: conv2_block2_2_conv, Typ: Conv2D, Shape: (None, None, None, 64)\n",
      "Warstwa ResNet50 24: conv2_block2_2_bn, Typ: BatchNormalization, Shape: (None, None, None, 64)\n",
      "Warstwa ResNet50 25: conv2_block2_2_relu, Typ: Activation, Shape: (None, None, None, 64)\n",
      "Warstwa ResNet50 26: conv2_block2_3_conv, Typ: Conv2D, Shape: (None, None, None, 256)\n",
      "Warstwa ResNet50 27: conv2_block2_3_bn, Typ: BatchNormalization, Shape: (None, None, None, 256)\n",
      "Warstwa ResNet50 28: conv2_block2_add, Typ: Add, Shape: (None, None, None, 256)\n",
      "Warstwa ResNet50 29: conv2_block2_out, Typ: Activation, Shape: (None, None, None, 256)\n",
      "Warstwa ResNet50 30: conv2_block3_1_conv, Typ: Conv2D, Shape: (None, None, None, 64)\n",
      "Warstwa ResNet50 31: conv2_block3_1_bn, Typ: BatchNormalization, Shape: (None, None, None, 64)\n",
      "Warstwa ResNet50 32: conv2_block3_1_relu, Typ: Activation, Shape: (None, None, None, 64)\n",
      "Warstwa ResNet50 33: conv2_block3_2_conv, Typ: Conv2D, Shape: (None, None, None, 64)\n",
      "Warstwa ResNet50 34: conv2_block3_2_bn, Typ: BatchNormalization, Shape: (None, None, None, 64)\n",
      "Warstwa ResNet50 35: conv2_block3_2_relu, Typ: Activation, Shape: (None, None, None, 64)\n",
      "Warstwa ResNet50 36: conv2_block3_3_conv, Typ: Conv2D, Shape: (None, None, None, 256)\n",
      "Warstwa ResNet50 37: conv2_block3_3_bn, Typ: BatchNormalization, Shape: (None, None, None, 256)\n",
      "Warstwa ResNet50 38: conv2_block3_add, Typ: Add, Shape: (None, None, None, 256)\n",
      "Warstwa ResNet50 39: conv2_block3_out, Typ: Activation, Shape: (None, None, None, 256)\n",
      "Warstwa ResNet50 40: conv3_block1_1_conv, Typ: Conv2D, Shape: (None, None, None, 128)\n",
      "Warstwa ResNet50 41: conv3_block1_1_bn, Typ: BatchNormalization, Shape: (None, None, None, 128)\n",
      "Warstwa ResNet50 42: conv3_block1_1_relu, Typ: Activation, Shape: (None, None, None, 128)\n",
      "Warstwa ResNet50 43: conv3_block1_2_conv, Typ: Conv2D, Shape: (None, None, None, 128)\n",
      "Warstwa ResNet50 44: conv3_block1_2_bn, Typ: BatchNormalization, Shape: (None, None, None, 128)\n",
      "Warstwa ResNet50 45: conv3_block1_2_relu, Typ: Activation, Shape: (None, None, None, 128)\n",
      "Warstwa ResNet50 46: conv3_block1_0_conv, Typ: Conv2D, Shape: (None, None, None, 512)\n",
      "Warstwa ResNet50 47: conv3_block1_3_conv, Typ: Conv2D, Shape: (None, None, None, 512)\n",
      "Warstwa ResNet50 48: conv3_block1_0_bn, Typ: BatchNormalization, Shape: (None, None, None, 512)\n",
      "Warstwa ResNet50 49: conv3_block1_3_bn, Typ: BatchNormalization, Shape: (None, None, None, 512)\n",
      "Warstwa ResNet50 50: conv3_block1_add, Typ: Add, Shape: (None, None, None, 512)\n",
      "Warstwa ResNet50 51: conv3_block1_out, Typ: Activation, Shape: (None, None, None, 512)\n",
      "Warstwa ResNet50 52: conv3_block2_1_conv, Typ: Conv2D, Shape: (None, None, None, 128)\n",
      "Warstwa ResNet50 53: conv3_block2_1_bn, Typ: BatchNormalization, Shape: (None, None, None, 128)\n",
      "Warstwa ResNet50 54: conv3_block2_1_relu, Typ: Activation, Shape: (None, None, None, 128)\n",
      "Warstwa ResNet50 55: conv3_block2_2_conv, Typ: Conv2D, Shape: (None, None, None, 128)\n",
      "Warstwa ResNet50 56: conv3_block2_2_bn, Typ: BatchNormalization, Shape: (None, None, None, 128)\n",
      "Warstwa ResNet50 57: conv3_block2_2_relu, Typ: Activation, Shape: (None, None, None, 128)\n",
      "Warstwa ResNet50 58: conv3_block2_3_conv, Typ: Conv2D, Shape: (None, None, None, 512)\n",
      "Warstwa ResNet50 59: conv3_block2_3_bn, Typ: BatchNormalization, Shape: (None, None, None, 512)\n",
      "Warstwa ResNet50 60: conv3_block2_add, Typ: Add, Shape: (None, None, None, 512)\n",
      "Warstwa ResNet50 61: conv3_block2_out, Typ: Activation, Shape: (None, None, None, 512)\n",
      "Warstwa ResNet50 62: conv3_block3_1_conv, Typ: Conv2D, Shape: (None, None, None, 128)\n",
      "Warstwa ResNet50 63: conv3_block3_1_bn, Typ: BatchNormalization, Shape: (None, None, None, 128)\n",
      "Warstwa ResNet50 64: conv3_block3_1_relu, Typ: Activation, Shape: (None, None, None, 128)\n",
      "Warstwa ResNet50 65: conv3_block3_2_conv, Typ: Conv2D, Shape: (None, None, None, 128)\n",
      "Warstwa ResNet50 66: conv3_block3_2_bn, Typ: BatchNormalization, Shape: (None, None, None, 128)\n",
      "Warstwa ResNet50 67: conv3_block3_2_relu, Typ: Activation, Shape: (None, None, None, 128)\n",
      "Warstwa ResNet50 68: conv3_block3_3_conv, Typ: Conv2D, Shape: (None, None, None, 512)\n",
      "Warstwa ResNet50 69: conv3_block3_3_bn, Typ: BatchNormalization, Shape: (None, None, None, 512)\n",
      "Warstwa ResNet50 70: conv3_block3_add, Typ: Add, Shape: (None, None, None, 512)\n",
      "Warstwa ResNet50 71: conv3_block3_out, Typ: Activation, Shape: (None, None, None, 512)\n",
      "Warstwa ResNet50 72: conv3_block4_1_conv, Typ: Conv2D, Shape: (None, None, None, 128)\n",
      "Warstwa ResNet50 73: conv3_block4_1_bn, Typ: BatchNormalization, Shape: (None, None, None, 128)\n",
      "Warstwa ResNet50 74: conv3_block4_1_relu, Typ: Activation, Shape: (None, None, None, 128)\n",
      "Warstwa ResNet50 75: conv3_block4_2_conv, Typ: Conv2D, Shape: (None, None, None, 128)\n",
      "Warstwa ResNet50 76: conv3_block4_2_bn, Typ: BatchNormalization, Shape: (None, None, None, 128)\n",
      "Warstwa ResNet50 77: conv3_block4_2_relu, Typ: Activation, Shape: (None, None, None, 128)\n",
      "Warstwa ResNet50 78: conv3_block4_3_conv, Typ: Conv2D, Shape: (None, None, None, 512)\n",
      "Warstwa ResNet50 79: conv3_block4_3_bn, Typ: BatchNormalization, Shape: (None, None, None, 512)\n",
      "Warstwa ResNet50 80: conv3_block4_add, Typ: Add, Shape: (None, None, None, 512)\n",
      "Warstwa ResNet50 81: conv3_block4_out, Typ: Activation, Shape: (None, None, None, 512)\n",
      "Warstwa ResNet50 82: conv4_block1_1_conv, Typ: Conv2D, Shape: (None, None, None, 256)\n",
      "Warstwa ResNet50 83: conv4_block1_1_bn, Typ: BatchNormalization, Shape: (None, None, None, 256)\n",
      "Warstwa ResNet50 84: conv4_block1_1_relu, Typ: Activation, Shape: (None, None, None, 256)\n",
      "Warstwa ResNet50 85: conv4_block1_2_conv, Typ: Conv2D, Shape: (None, None, None, 256)\n",
      "Warstwa ResNet50 86: conv4_block1_2_bn, Typ: BatchNormalization, Shape: (None, None, None, 256)\n",
      "Warstwa ResNet50 87: conv4_block1_2_relu, Typ: Activation, Shape: (None, None, None, 256)\n",
      "Warstwa ResNet50 88: conv4_block1_0_conv, Typ: Conv2D, Shape: (None, None, None, 1024)\n",
      "Warstwa ResNet50 89: conv4_block1_3_conv, Typ: Conv2D, Shape: (None, None, None, 1024)\n",
      "Warstwa ResNet50 90: conv4_block1_0_bn, Typ: BatchNormalization, Shape: (None, None, None, 1024)\n",
      "Warstwa ResNet50 91: conv4_block1_3_bn, Typ: BatchNormalization, Shape: (None, None, None, 1024)\n",
      "Warstwa ResNet50 92: conv4_block1_add, Typ: Add, Shape: (None, None, None, 1024)\n",
      "Warstwa ResNet50 93: conv4_block1_out, Typ: Activation, Shape: (None, None, None, 1024)\n",
      "Warstwa ResNet50 94: conv4_block2_1_conv, Typ: Conv2D, Shape: (None, None, None, 256)\n",
      "Warstwa ResNet50 95: conv4_block2_1_bn, Typ: BatchNormalization, Shape: (None, None, None, 256)\n",
      "Warstwa ResNet50 96: conv4_block2_1_relu, Typ: Activation, Shape: (None, None, None, 256)\n",
      "Warstwa ResNet50 97: conv4_block2_2_conv, Typ: Conv2D, Shape: (None, None, None, 256)\n",
      "Warstwa ResNet50 98: conv4_block2_2_bn, Typ: BatchNormalization, Shape: (None, None, None, 256)\n",
      "Warstwa ResNet50 99: conv4_block2_2_relu, Typ: Activation, Shape: (None, None, None, 256)\n",
      "Warstwa ResNet50 100: conv4_block2_3_conv, Typ: Conv2D, Shape: (None, None, None, 1024)\n",
      "Warstwa ResNet50 101: conv4_block2_3_bn, Typ: BatchNormalization, Shape: (None, None, None, 1024)\n",
      "Warstwa ResNet50 102: conv4_block2_add, Typ: Add, Shape: (None, None, None, 1024)\n",
      "Warstwa ResNet50 103: conv4_block2_out, Typ: Activation, Shape: (None, None, None, 1024)\n",
      "Warstwa ResNet50 104: conv4_block3_1_conv, Typ: Conv2D, Shape: (None, None, None, 256)\n",
      "Warstwa ResNet50 105: conv4_block3_1_bn, Typ: BatchNormalization, Shape: (None, None, None, 256)\n",
      "Warstwa ResNet50 106: conv4_block3_1_relu, Typ: Activation, Shape: (None, None, None, 256)\n",
      "Warstwa ResNet50 107: conv4_block3_2_conv, Typ: Conv2D, Shape: (None, None, None, 256)\n",
      "Warstwa ResNet50 108: conv4_block3_2_bn, Typ: BatchNormalization, Shape: (None, None, None, 256)\n",
      "Warstwa ResNet50 109: conv4_block3_2_relu, Typ: Activation, Shape: (None, None, None, 256)\n",
      "Warstwa ResNet50 110: conv4_block3_3_conv, Typ: Conv2D, Shape: (None, None, None, 1024)\n",
      "Warstwa ResNet50 111: conv4_block3_3_bn, Typ: BatchNormalization, Shape: (None, None, None, 1024)\n",
      "Warstwa ResNet50 112: conv4_block3_add, Typ: Add, Shape: (None, None, None, 1024)\n",
      "Warstwa ResNet50 113: conv4_block3_out, Typ: Activation, Shape: (None, None, None, 1024)\n",
      "Warstwa ResNet50 114: conv4_block4_1_conv, Typ: Conv2D, Shape: (None, None, None, 256)\n",
      "Warstwa ResNet50 115: conv4_block4_1_bn, Typ: BatchNormalization, Shape: (None, None, None, 256)\n",
      "Warstwa ResNet50 116: conv4_block4_1_relu, Typ: Activation, Shape: (None, None, None, 256)\n",
      "Warstwa ResNet50 117: conv4_block4_2_conv, Typ: Conv2D, Shape: (None, None, None, 256)\n",
      "Warstwa ResNet50 118: conv4_block4_2_bn, Typ: BatchNormalization, Shape: (None, None, None, 256)\n",
      "Warstwa ResNet50 119: conv4_block4_2_relu, Typ: Activation, Shape: (None, None, None, 256)\n",
      "Warstwa ResNet50 120: conv4_block4_3_conv, Typ: Conv2D, Shape: (None, None, None, 1024)\n",
      "Warstwa ResNet50 121: conv4_block4_3_bn, Typ: BatchNormalization, Shape: (None, None, None, 1024)\n",
      "Warstwa ResNet50 122: conv4_block4_add, Typ: Add, Shape: (None, None, None, 1024)\n",
      "Warstwa ResNet50 123: conv4_block4_out, Typ: Activation, Shape: (None, None, None, 1024)\n",
      "Warstwa ResNet50 124: conv4_block5_1_conv, Typ: Conv2D, Shape: (None, None, None, 256)\n",
      "Warstwa ResNet50 125: conv4_block5_1_bn, Typ: BatchNormalization, Shape: (None, None, None, 256)\n",
      "Warstwa ResNet50 126: conv4_block5_1_relu, Typ: Activation, Shape: (None, None, None, 256)\n",
      "Warstwa ResNet50 127: conv4_block5_2_conv, Typ: Conv2D, Shape: (None, None, None, 256)\n",
      "Warstwa ResNet50 128: conv4_block5_2_bn, Typ: BatchNormalization, Shape: (None, None, None, 256)\n",
      "Warstwa ResNet50 129: conv4_block5_2_relu, Typ: Activation, Shape: (None, None, None, 256)\n",
      "Warstwa ResNet50 130: conv4_block5_3_conv, Typ: Conv2D, Shape: (None, None, None, 1024)\n",
      "Warstwa ResNet50 131: conv4_block5_3_bn, Typ: BatchNormalization, Shape: (None, None, None, 1024)\n",
      "Warstwa ResNet50 132: conv4_block5_add, Typ: Add, Shape: (None, None, None, 1024)\n",
      "Warstwa ResNet50 133: conv4_block5_out, Typ: Activation, Shape: (None, None, None, 1024)\n",
      "Warstwa ResNet50 134: conv4_block6_1_conv, Typ: Conv2D, Shape: (None, None, None, 256)\n",
      "Warstwa ResNet50 135: conv4_block6_1_bn, Typ: BatchNormalization, Shape: (None, None, None, 256)\n",
      "Warstwa ResNet50 136: conv4_block6_1_relu, Typ: Activation, Shape: (None, None, None, 256)\n",
      "Warstwa ResNet50 137: conv4_block6_2_conv, Typ: Conv2D, Shape: (None, None, None, 256)\n",
      "Warstwa ResNet50 138: conv4_block6_2_bn, Typ: BatchNormalization, Shape: (None, None, None, 256)\n",
      "Warstwa ResNet50 139: conv4_block6_2_relu, Typ: Activation, Shape: (None, None, None, 256)\n",
      "Warstwa ResNet50 140: conv4_block6_3_conv, Typ: Conv2D, Shape: (None, None, None, 1024)\n",
      "Warstwa ResNet50 141: conv4_block6_3_bn, Typ: BatchNormalization, Shape: (None, None, None, 1024)\n",
      "Warstwa ResNet50 142: conv4_block6_add, Typ: Add, Shape: (None, None, None, 1024)\n",
      "Warstwa ResNet50 143: conv4_block6_out, Typ: Activation, Shape: (None, None, None, 1024)\n",
      "Warstwa ResNet50 144: conv5_block1_1_conv, Typ: Conv2D, Shape: (None, None, None, 512)\n",
      "Warstwa ResNet50 145: conv5_block1_1_bn, Typ: BatchNormalization, Shape: (None, None, None, 512)\n",
      "Warstwa ResNet50 146: conv5_block1_1_relu, Typ: Activation, Shape: (None, None, None, 512)\n",
      "Warstwa ResNet50 147: conv5_block1_2_conv, Typ: Conv2D, Shape: (None, None, None, 512)\n",
      "Warstwa ResNet50 148: conv5_block1_2_bn, Typ: BatchNormalization, Shape: (None, None, None, 512)\n",
      "Warstwa ResNet50 149: conv5_block1_2_relu, Typ: Activation, Shape: (None, None, None, 512)\n",
      "Warstwa ResNet50 150: conv5_block1_0_conv, Typ: Conv2D, Shape: (None, None, None, 2048)\n",
      "Warstwa ResNet50 151: conv5_block1_3_conv, Typ: Conv2D, Shape: (None, None, None, 2048)\n",
      "Warstwa ResNet50 152: conv5_block1_0_bn, Typ: BatchNormalization, Shape: (None, None, None, 2048)\n",
      "Warstwa ResNet50 153: conv5_block1_3_bn, Typ: BatchNormalization, Shape: (None, None, None, 2048)\n",
      "Warstwa ResNet50 154: conv5_block1_add, Typ: Add, Shape: (None, None, None, 2048)\n",
      "Warstwa ResNet50 155: conv5_block1_out, Typ: Activation, Shape: (None, None, None, 2048)\n",
      "Warstwa ResNet50 156: conv5_block2_1_conv, Typ: Conv2D, Shape: (None, None, None, 512)\n",
      "Warstwa ResNet50 157: conv5_block2_1_bn, Typ: BatchNormalization, Shape: (None, None, None, 512)\n",
      "Warstwa ResNet50 158: conv5_block2_1_relu, Typ: Activation, Shape: (None, None, None, 512)\n",
      "Warstwa ResNet50 159: conv5_block2_2_conv, Typ: Conv2D, Shape: (None, None, None, 512)\n",
      "Warstwa ResNet50 160: conv5_block2_2_bn, Typ: BatchNormalization, Shape: (None, None, None, 512)\n",
      "Warstwa ResNet50 161: conv5_block2_2_relu, Typ: Activation, Shape: (None, None, None, 512)\n",
      "Warstwa ResNet50 162: conv5_block2_3_conv, Typ: Conv2D, Shape: (None, None, None, 2048)\n",
      "Warstwa ResNet50 163: conv5_block2_3_bn, Typ: BatchNormalization, Shape: (None, None, None, 2048)\n",
      "Warstwa ResNet50 164: conv5_block2_add, Typ: Add, Shape: (None, None, None, 2048)\n",
      "Warstwa ResNet50 165: conv5_block2_out, Typ: Activation, Shape: (None, None, None, 2048)\n",
      "Warstwa ResNet50 166: conv5_block3_1_conv, Typ: Conv2D, Shape: (None, None, None, 512)\n",
      "Warstwa ResNet50 167: conv5_block3_1_bn, Typ: BatchNormalization, Shape: (None, None, None, 512)\n",
      "Warstwa ResNet50 168: conv5_block3_1_relu, Typ: Activation, Shape: (None, None, None, 512)\n",
      "Warstwa ResNet50 169: conv5_block3_2_conv, Typ: Conv2D, Shape: (None, None, None, 512)\n",
      "Warstwa ResNet50 170: conv5_block3_2_bn, Typ: BatchNormalization, Shape: (None, None, None, 512)\n",
      "Warstwa ResNet50 171: conv5_block3_2_relu, Typ: Activation, Shape: (None, None, None, 512)\n",
      "Warstwa ResNet50 172: conv5_block3_3_conv, Typ: Conv2D, Shape: (None, None, None, 2048)\n",
      "Warstwa ResNet50 173: conv5_block3_3_bn, Typ: BatchNormalization, Shape: (None, None, None, 2048)\n",
      "Warstwa ResNet50 174: conv5_block3_add, Typ: Add, Shape: (None, None, None, 2048)\n",
      "Warstwa ResNet50 175: conv5_block3_out, Typ: Activation, Shape: (None, None, None, 2048)\n",
      "Warstwa ResNet50 176: avg_pool, Typ: GlobalAveragePooling2D, Shape: (None, 2048)\n"
     ]
    }
   ],
   "source": [
    "resnet50_layers = model.layers[0].layers\n",
    "for i, warstwa in enumerate(resnet50_layers):\n",
    "    print(f'Warstwa ResNet50 {i + 1}: {warstwa.name}, Typ: {warstwa.__class__.__name__}, Shape: {warstwa.output_shape}')\n"
   ],
   "metadata": {
    "collapsed": false,
    "ExecuteTime": {
     "end_time": "2024-07-26T17:54:35.172366200Z",
     "start_time": "2024-07-26T17:54:35.144367200Z"
    }
   },
   "id": "1a72e779b9ae01c9"
  },
  {
   "cell_type": "code",
   "execution_count": 19,
   "outputs": [],
   "source": [
    "resnet_model = model.get_layer('resnet50')\n",
    "\n",
    "output_layer = 'conv4_block1_2_conv'\n",
    "\n",
    "layer = resnet_model.get_layer(output_layer)\n",
    "weights = layer.get_weights()[0]\n",
    "biases = layer.get_weights()[1] "
   ],
   "metadata": {
    "collapsed": false,
    "ExecuteTime": {
     "end_time": "2024-07-26T17:54:35.196375100Z",
     "start_time": "2024-07-26T17:54:35.174367300Z"
    }
   },
   "id": "270d00d5abaa413e"
  },
  {
   "cell_type": "code",
   "execution_count": 20,
   "outputs": [
    {
     "data": {
      "text/plain": "(3, 3, 256, 256)"
     },
     "execution_count": 20,
     "metadata": {},
     "output_type": "execute_result"
    }
   ],
   "source": [
    "weights.shape"
   ],
   "metadata": {
    "collapsed": false,
    "ExecuteTime": {
     "end_time": "2024-07-26T17:54:35.248370700Z",
     "start_time": "2024-07-26T17:54:35.190368200Z"
    }
   },
   "id": "3c0e2545d8fe22da"
  },
  {
   "cell_type": "code",
   "execution_count": 21,
   "outputs": [
    {
     "data": {
      "text/plain": "(256,)"
     },
     "execution_count": 21,
     "metadata": {},
     "output_type": "execute_result"
    }
   ],
   "source": [
    "biases.shape"
   ],
   "metadata": {
    "collapsed": false,
    "ExecuteTime": {
     "end_time": "2024-07-26T17:54:35.262365900Z",
     "start_time": "2024-07-26T17:54:35.204368500Z"
    }
   },
   "id": "d6e282866a51137b"
  },
  {
   "cell_type": "code",
   "execution_count": 22,
   "outputs": [],
   "source": [
    "def prune_filter(original_model, cut_off_layer_name, indexes):\n",
    "    layer_to_prune = resnet_model.get_layer(cut_off_layer_name)\n",
    "\n",
    "    all_layers = original_model.layers\n",
    "\n",
    "    layer_to_prune_index = all_layers.index(layer_to_prune)\n",
    "\n",
    "    previous_layer = next((layer for layer in all_layers[:layer_to_prune_index][::-1] if layer.name.endswith(\"out\")), None)\n",
    "    next_layer = next((layer for layer in all_layers[layer_to_prune_index + 1:] if layer.name.endswith(\"add\")), None)\n",
    "    \n",
    "    model_prev = Model(inputs=original_model.input, outputs=previous_layer.output)          \n",
    "    model_to_prune = Model(inputs=original_model.layers[all_layers.index(previous_layer) + 1].input, outputs=next_layer.output)       \n",
    "    model_next = Model(inputs=original_model.layers[all_layers.index(next_layer) + 1].input, outputs=original_model.output)\n",
    "    \n",
    "    # for layer in model_prev.layers:\n",
    "    #     layer.trainable = False\n",
    "    #     \n",
    "    # for layer in model_next.layers:\n",
    "    #     layer.trainable = False  \n",
    "\n",
    "    combined_input = Input(shape=(32, 32, 3))\n",
    "\n",
    "    output_prev = model_prev(combined_input)\n",
    "\n",
    "    config = layer_to_prune.get_config()\n",
    "    config['filters'] = len(indexes)\n",
    "\n",
    "    new_layer = Conv2D(**config)\n",
    "    input_shape = layer_to_prune.input_shape\n",
    "    new_layer.build(input_shape)\n",
    "\n",
    "    weights = layer_to_prune.get_weights()[0][:, :, :, indexes]\n",
    "    \n",
    "    if len(layer_to_prune.get_weights()) > 1:\n",
    "        biases = layer_to_prune.get_weights()[1][indexes]\n",
    "        new_weights = [weights, biases]\n",
    "    else:\n",
    "        new_weights = [weights]\n",
    "    new_layer.set_weights(new_weights)\n",
    "    \n",
    "    input_tensor = Input(shape=model_prev.output_shape)\n",
    "\n",
    "    x = input_tensor\n",
    "    \n",
    "    for layer in model_to_prune.layers:\n",
    "        if layer.name == cut_off_layer_name:\n",
    "            output_prev = new_layer(output_prev)\n",
    "            output_prev = Conv2D(filters=256, kernel_size=(1, 1), name='adaptation_conv')(output_prev)\n",
    "        elif isinstance(layer, Conv2D):\n",
    "            new_layer = Conv2D(\n",
    "                filters=layer.filters,\n",
    "                kernel_size=layer.kernel_size,\n",
    "                strides=layer.strides,\n",
    "                padding=layer.padding,\n",
    "                activation=None,\n",
    "                use_bias=layer.use_bias,\n",
    "                kernel_initializer=layer.kernel_initializer,\n",
    "                bias_initializer=layer.bias_initializer\n",
    "            )\n",
    "            # new_layer.trainable = False\n",
    "            x = new_layer(x)\n",
    "        elif isinstance(layer, BatchNormalization):\n",
    "            new_layer = BatchNormalization()\n",
    "            # new_layer.trainable = False\n",
    "            x = new_layer(x)\n",
    "        elif isinstance(layer, Activation):\n",
    "            new_layer = Activation(layer.activation)\n",
    "            # new_layer.trainable = False\n",
    "            x = new_layer(x)\n",
    "        elif isinstance(layer, Add):\n",
    "            index_conv4_block1_add = model_to_prune.layers.index(layer)\n",
    "            index_conv4_block1_0_bn = index_conv4_block1_add - 2\n",
    "            index_conv4_block1_3_bn = index_conv4_block1_add - 1\n",
    "            output_conv4_block1_0_bn = model_to_prune.layers[index_conv4_block1_0_bn].output\n",
    "            output_conv4_block1_3_bn = model_to_prune.layers[index_conv4_block1_3_bn].output\n",
    "            x = Add()([output_conv4_block1_0_bn, output_conv4_block1_3_bn]) \n",
    "    \n",
    "    pruned_model = Model(inputs=model_prev.output, outputs=x)\n",
    "\n",
    "    new_model = Sequential()\n",
    "    new_model.add(model_prev)\n",
    "    new_model.add(pruned_model)\n",
    "    new_model.add(model_next)\n",
    "    return new_model\n"
   ],
   "metadata": {
    "collapsed": false,
    "ExecuteTime": {
     "end_time": "2024-07-26T17:54:35.263364300Z",
     "start_time": "2024-07-26T17:54:35.230368200Z"
    }
   },
   "id": "5e72c626b4c177ae"
  },
  {
   "cell_type": "code",
   "execution_count": 23,
   "outputs": [
    {
     "data": {
      "text/plain": "(3, 3, 256, 256)"
     },
     "execution_count": 23,
     "metadata": {},
     "output_type": "execute_result"
    }
   ],
   "source": [
    "weights.shape"
   ],
   "metadata": {
    "collapsed": false,
    "ExecuteTime": {
     "end_time": "2024-07-26T17:54:35.280365500Z",
     "start_time": "2024-07-26T17:54:35.251367500Z"
    }
   },
   "id": "ac3df663de83e50b"
  },
  {
   "cell_type": "code",
   "execution_count": 24,
   "outputs": [
    {
     "data": {
      "text/plain": "(256, 2304)"
     },
     "execution_count": 24,
     "metadata": {},
     "output_type": "execute_result"
    }
   ],
   "source": [
    "weights_list = weights.reshape(256, -1)\n",
    "weights_list.shape"
   ],
   "metadata": {
    "collapsed": false,
    "ExecuteTime": {
     "end_time": "2024-07-26T17:54:35.356363900Z",
     "start_time": "2024-07-26T17:54:35.268374700Z"
    }
   },
   "id": "265256c59192e745"
  },
  {
   "cell_type": "code",
   "execution_count": 25,
   "outputs": [],
   "source": [
    "# from sklearn.cluster import KMeans\n",
    "# \n",
    "# k = 100  # Liczba klastrów\n",
    "# knn = KMeans(n_clusters=k)\n",
    "# knn.fit(weights_list)\n",
    "# klastry = knn.labels_\n",
    "# \n",
    "# indexes = []\n",
    "# for i in range(k):\n",
    "#     indeksy_klastra = np.where(klastry == i)[0]\n",
    "#     losowy_indeks = np.random.choice(indeksy_klastra)\n",
    "#     indexes.append(losowy_indeks)\n",
    "# \n",
    "# pruned_model = prune_filter(resnet_model, output_layer, indexes)"
   ],
   "metadata": {
    "collapsed": false,
    "ExecuteTime": {
     "end_time": "2024-07-26T17:54:35.367366300Z",
     "start_time": "2024-07-26T17:54:35.289370100Z"
    }
   },
   "id": "c6e8a30ef33b2eb5"
  },
  {
   "cell_type": "code",
   "execution_count": 26,
   "outputs": [],
   "source": [
    "# dbscan = DBSCAN(eps=0.9, min_samples=1)\n",
    "# dbscan.fit(weights_list)\n",
    "# \n",
    "# \n",
    "# cluster_indices = np.unique(dbscan.labels_)\n",
    "# \n",
    "# indexes = []\n",
    "# for cluster_index in cluster_indices:\n",
    "#     cluster_points = np.where(dbscan.labels_ == cluster_index)[0]\n",
    "#     index = np.random.choice(cluster_points)\n",
    "#     indexes.append(index)\n",
    "#     \n",
    "# pruned_model = prune_filter(resnet_model, output_layer, indexes)"
   ],
   "metadata": {
    "collapsed": false,
    "ExecuteTime": {
     "end_time": "2024-07-26T17:54:35.368367900Z",
     "start_time": "2024-07-26T17:54:35.299367700Z"
    }
   },
   "id": "31ca3f89bbef9a5c"
  },
  {
   "cell_type": "code",
   "execution_count": 27,
   "outputs": [],
   "source": [
    "def extract_feature_maps(model_, layer_name, input_data):\n",
    "    intermediate_layer_model = Model(inputs=model_.input, outputs=model_.get_layer(layer_name).output)\n",
    "    intermediate_output = intermediate_layer_model.predict(input_data)\n",
    "    return intermediate_output"
   ],
   "metadata": {
    "collapsed": false,
    "ExecuteTime": {
     "end_time": "2024-07-26T17:54:35.368367900Z",
     "start_time": "2024-07-26T17:54:35.314381Z"
    }
   },
   "id": "ce13e31fb8e56181"
  },
  {
   "cell_type": "code",
   "execution_count": 28,
   "outputs": [],
   "source": [
    "(train_X, train_y), (test_X, test_y) = mnist.load_data()\n",
    "train_X = np.expand_dims(train_X, axis=-1)\n",
    "train_X = np.repeat(train_X, 3, axis=-1)\n",
    "train_X = np.pad(train_X, ((0, 0), (2, 2), (2, 2), (0, 0)), mode='constant')\n",
    "train_y = to_categorical(train_y, 10)"
   ],
   "metadata": {
    "collapsed": false,
    "ExecuteTime": {
     "end_time": "2024-07-26T17:54:36.240366900Z",
     "start_time": "2024-07-26T17:54:35.331368600Z"
    }
   },
   "id": "7d62c5394143a893"
  },
  {
   "cell_type": "code",
   "execution_count": 30,
   "outputs": [
    {
     "name": "stdout",
     "output_type": "stream",
     "text": [
      "1/1 [==============================] - 1s 555ms/step\n"
     ]
    }
   ],
   "source": [
    "feature_maps = extract_feature_maps(resnet_model, output_layer, np.random.rand(1, 224, 224, 3))"
   ],
   "metadata": {
    "collapsed": false,
    "ExecuteTime": {
     "end_time": "2024-07-26T17:59:40.390598800Z",
     "start_time": "2024-07-26T17:59:39.752598700Z"
    }
   },
   "id": "54f5ebe6fa157b21"
  },
  {
   "cell_type": "code",
   "execution_count": 31,
   "outputs": [],
   "source": [
    "num_samples, height, width, num_filters = feature_maps.shape\n",
    "feature_maps_flattened = feature_maps.reshape((num_samples, height * width, num_filters))\n",
    "\n",
    "# Reshape to (num_samples * height * width, num_filters) for clustering\n",
    "weights_list = feature_maps_flattened.reshape((num_filters,-1 ))"
   ],
   "metadata": {
    "collapsed": false,
    "ExecuteTime": {
     "end_time": "2024-07-26T17:59:54.371808400Z",
     "start_time": "2024-07-26T17:59:54.352799400Z"
    }
   },
   "id": "208ffad2d0e1c55"
  },
  {
   "cell_type": "code",
   "execution_count": 32,
   "outputs": [
    {
     "data": {
      "text/plain": "(256, 196)"
     },
     "execution_count": 32,
     "metadata": {},
     "output_type": "execute_result"
    }
   ],
   "source": [
    "weights_list.shape"
   ],
   "metadata": {
    "collapsed": false,
    "ExecuteTime": {
     "end_time": "2024-07-26T18:00:28.580415500Z",
     "start_time": "2024-07-26T18:00:28.566416800Z"
    }
   },
   "id": "4c45b231465f91b9"
  },
  {
   "cell_type": "code",
   "execution_count": null,
   "outputs": [],
   "source": [
    "from sklearn.decomposition import PCA\n",
    "from CGA.cluster_CGA import cluster_algorithm\n",
    "from CGA.CGA import complete_gradient_algorithm\n",
    "\n",
    "# pca = PCA(n_components=50)\n",
    "# data = pca.fit_transform(weights_list)\n",
    "\n",
    "scaler = StandardScaler()\n",
    "data = scaler.fit_transform(weights_list)\n",
    "x, h, s = complete_gradient_algorithm(data)\n",
    "\n",
    "x = scaler.fit_transform(x)\n",
    "z = cluster_algorithm(x, h, s, data)"
   ],
   "metadata": {
    "collapsed": false,
    "is_executing": true,
    "ExecuteTime": {
     "start_time": "2024-07-26T18:00:48.488226600Z"
    }
   },
   "id": "86b22064390a385b"
  },
  {
   "cell_type": "code",
   "execution_count": null,
   "outputs": [],
   "source": [
    "import random\n",
    "\n",
    "indexes = [random.choice(l) for l in z]\n",
    "pruned_model = prune_filter(resnet_model, output_layer, indexes)"
   ],
   "metadata": {
    "collapsed": false,
    "ExecuteTime": {
     "start_time": "2024-07-26T17:54:36.371366900Z"
    }
   },
   "id": "76303fd5ef819842"
  },
  {
   "cell_type": "code",
   "execution_count": null,
   "outputs": [],
   "source": [
    "prune_input = Input(shape=(32, 32, 3))\n",
    "\n",
    "# for layer in model.layers[1:]:\n",
    "#     layer.trainable = False\n",
    "\n",
    "new_model = Sequential()\n",
    "new_model.add(prune_input)\n",
    "new_model.add(pruned_model)\n",
    "# new_model.add(model.layers[1])\n",
    "new_model.add(Dense(10, activation='softmax'))"
   ],
   "metadata": {
    "collapsed": false,
    "ExecuteTime": {
     "start_time": "2024-07-26T17:54:36.374374900Z"
    }
   },
   "id": "b840ce2e1e64aeac"
  },
  {
   "cell_type": "code",
   "execution_count": null,
   "outputs": [],
   "source": [
    "new_model.compile(optimizer='adam', loss='categorical_crossentropy', metrics=['accuracy'])\n",
    "new_model.fit(x = train_X, y= train_y, epochs=10)"
   ],
   "metadata": {
    "collapsed": false,
    "ExecuteTime": {
     "start_time": "2024-07-26T17:54:36.377374400Z"
    }
   },
   "id": "4b9969338efcc53c"
  },
  {
   "cell_type": "code",
   "execution_count": null,
   "outputs": [],
   "source": [
    "test_X = np.expand_dims(test_X, axis=-1)\n",
    "test_X = np.repeat(test_X, 3, axis=-1)\n",
    "test_X = np.pad(test_X, ((0, 0), (2, 2), (2, 2), (0, 0)), mode='constant')\n",
    "result = new_model.evaluate(test_X, to_categorical(test_y, 10))"
   ],
   "metadata": {
    "collapsed": false,
    "ExecuteTime": {
     "start_time": "2024-07-26T17:54:36.381381600Z"
    }
   },
   "id": "4bedba71cecc86bd"
  },
  {
   "cell_type": "markdown",
   "source": [],
   "metadata": {
    "collapsed": false
   },
   "id": "eeefa6908913fb8f"
  },
  {
   "cell_type": "code",
   "execution_count": null,
   "outputs": [],
   "source": [
    "new_model.save('../NN/pruned_model_mnist_renet50_first_proba.h5')"
   ],
   "metadata": {
    "collapsed": false,
    "ExecuteTime": {
     "start_time": "2024-07-26T17:54:36.385371200Z"
    }
   },
   "id": "9d6dd9612eee4ada"
  },
  {
   "cell_type": "code",
   "execution_count": null,
   "outputs": [],
   "source": [
    "model_final = load_model('../NN/pruned_model_mnist_renet50_first_proba.h5')\n",
    "result = model_final.evaluate(test_X, to_categorical(test_y, 10))\n",
    "print(result)"
   ],
   "metadata": {
    "collapsed": false,
    "ExecuteTime": {
     "start_time": "2024-07-26T17:54:36.387365400Z"
    }
   },
   "id": "d029d8081a5812e1"
  },
  {
   "cell_type": "code",
   "execution_count": null,
   "outputs": [],
   "source": [],
   "metadata": {
    "collapsed": false,
    "ExecuteTime": {
     "start_time": "2024-07-26T17:54:36.390366Z"
    }
   },
   "id": "740b53fa3300a2d8"
  }
 ],
 "metadata": {
  "kernelspec": {
   "display_name": "Python 3",
   "language": "python",
   "name": "python3"
  },
  "language_info": {
   "codemirror_mode": {
    "name": "ipython",
    "version": 2
   },
   "file_extension": ".py",
   "mimetype": "text/x-python",
   "name": "python",
   "nbconvert_exporter": "python",
   "pygments_lexer": "ipython2",
   "version": "2.7.6"
  }
 },
 "nbformat": 4,
 "nbformat_minor": 5
}
