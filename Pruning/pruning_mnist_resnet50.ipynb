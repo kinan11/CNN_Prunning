{
 "cells": [
  {
   "cell_type": "code",
   "execution_count": 872,
   "id": "initial_id",
   "metadata": {
    "collapsed": true,
    "ExecuteTime": {
     "end_time": "2024-04-11T19:51:57.167341200Z",
     "start_time": "2024-04-11T19:51:57.083343100Z"
    }
   },
   "outputs": [],
   "source": [
    "from keras.datasets import mnist\n",
    "from keras.utils import to_categorical\n",
    "from tensorflow.keras.models import Model, load_model\n",
    "import numpy as np\n",
    "from keras.models import Model\n",
    "from keras.layers import Input, Conv2D\n",
    "from CGA.cluster_filters import cluster_filters"
   ]
  },
  {
   "cell_type": "code",
   "execution_count": 873,
   "outputs": [
    {
     "name": "stdout",
     "output_type": "stream",
     "text": [
      "Model: \"sequential_2\"\n",
      "_________________________________________________________________\n",
      " Layer (type)                Output Shape              Param #   \n",
      "=================================================================\n",
      " resnet50 (Functional)       (None, 2048)              23587712  \n",
      "                                                                 \n",
      " dense_2 (Dense)             (None, 10)                20490     \n",
      "                                                                 \n",
      "=================================================================\n",
      "Total params: 23,608,202\n",
      "Trainable params: 20,490\n",
      "Non-trainable params: 23,587,712\n",
      "_________________________________________________________________\n"
     ]
    }
   ],
   "source": [
    "model = load_model('../Models/NN/model_renet50.h5')\n",
    "model.summary()"
   ],
   "metadata": {
    "collapsed": false,
    "ExecuteTime": {
     "end_time": "2024-04-11T19:52:00.638494600Z",
     "start_time": "2024-04-11T19:51:57.089342Z"
    }
   },
   "id": "24fb95d055826a96"
  },
  {
   "cell_type": "code",
   "execution_count": 874,
   "outputs": [
    {
     "name": "stdout",
     "output_type": "stream",
     "text": [
      "Warstwa ResNet50 1: input_3, Typ: InputLayer, Shape: [(None, None, None, 3)]\n",
      "Warstwa ResNet50 2: conv1_pad, Typ: ZeroPadding2D, Shape: (None, None, None, 3)\n",
      "Warstwa ResNet50 3: conv1_conv, Typ: Conv2D, Shape: (None, None, None, 64)\n",
      "Warstwa ResNet50 4: conv1_bn, Typ: BatchNormalization, Shape: (None, None, None, 64)\n",
      "Warstwa ResNet50 5: conv1_relu, Typ: Activation, Shape: (None, None, None, 64)\n",
      "Warstwa ResNet50 6: pool1_pad, Typ: ZeroPadding2D, Shape: (None, None, None, 64)\n",
      "Warstwa ResNet50 7: pool1_pool, Typ: MaxPooling2D, Shape: (None, None, None, 64)\n",
      "Warstwa ResNet50 8: conv2_block1_1_conv, Typ: Conv2D, Shape: (None, None, None, 64)\n",
      "Warstwa ResNet50 9: conv2_block1_1_bn, Typ: BatchNormalization, Shape: (None, None, None, 64)\n",
      "Warstwa ResNet50 10: conv2_block1_1_relu, Typ: Activation, Shape: (None, None, None, 64)\n",
      "Warstwa ResNet50 11: conv2_block1_2_conv, Typ: Conv2D, Shape: (None, None, None, 64)\n",
      "Warstwa ResNet50 12: conv2_block1_2_bn, Typ: BatchNormalization, Shape: (None, None, None, 64)\n",
      "Warstwa ResNet50 13: conv2_block1_2_relu, Typ: Activation, Shape: (None, None, None, 64)\n",
      "Warstwa ResNet50 14: conv2_block1_0_conv, Typ: Conv2D, Shape: (None, None, None, 256)\n",
      "Warstwa ResNet50 15: conv2_block1_3_conv, Typ: Conv2D, Shape: (None, None, None, 256)\n",
      "Warstwa ResNet50 16: conv2_block1_0_bn, Typ: BatchNormalization, Shape: (None, None, None, 256)\n",
      "Warstwa ResNet50 17: conv2_block1_3_bn, Typ: BatchNormalization, Shape: (None, None, None, 256)\n",
      "Warstwa ResNet50 18: conv2_block1_add, Typ: Add, Shape: (None, None, None, 256)\n",
      "Warstwa ResNet50 19: conv2_block1_out, Typ: Activation, Shape: (None, None, None, 256)\n",
      "Warstwa ResNet50 20: conv2_block2_1_conv, Typ: Conv2D, Shape: (None, None, None, 64)\n",
      "Warstwa ResNet50 21: conv2_block2_1_bn, Typ: BatchNormalization, Shape: (None, None, None, 64)\n",
      "Warstwa ResNet50 22: conv2_block2_1_relu, Typ: Activation, Shape: (None, None, None, 64)\n",
      "Warstwa ResNet50 23: conv2_block2_2_conv, Typ: Conv2D, Shape: (None, None, None, 64)\n",
      "Warstwa ResNet50 24: conv2_block2_2_bn, Typ: BatchNormalization, Shape: (None, None, None, 64)\n",
      "Warstwa ResNet50 25: conv2_block2_2_relu, Typ: Activation, Shape: (None, None, None, 64)\n",
      "Warstwa ResNet50 26: conv2_block2_3_conv, Typ: Conv2D, Shape: (None, None, None, 256)\n",
      "Warstwa ResNet50 27: conv2_block2_3_bn, Typ: BatchNormalization, Shape: (None, None, None, 256)\n",
      "Warstwa ResNet50 28: conv2_block2_add, Typ: Add, Shape: (None, None, None, 256)\n",
      "Warstwa ResNet50 29: conv2_block2_out, Typ: Activation, Shape: (None, None, None, 256)\n",
      "Warstwa ResNet50 30: conv2_block3_1_conv, Typ: Conv2D, Shape: (None, None, None, 64)\n",
      "Warstwa ResNet50 31: conv2_block3_1_bn, Typ: BatchNormalization, Shape: (None, None, None, 64)\n",
      "Warstwa ResNet50 32: conv2_block3_1_relu, Typ: Activation, Shape: (None, None, None, 64)\n",
      "Warstwa ResNet50 33: conv2_block3_2_conv, Typ: Conv2D, Shape: (None, None, None, 64)\n",
      "Warstwa ResNet50 34: conv2_block3_2_bn, Typ: BatchNormalization, Shape: (None, None, None, 64)\n",
      "Warstwa ResNet50 35: conv2_block3_2_relu, Typ: Activation, Shape: (None, None, None, 64)\n",
      "Warstwa ResNet50 36: conv2_block3_3_conv, Typ: Conv2D, Shape: (None, None, None, 256)\n",
      "Warstwa ResNet50 37: conv2_block3_3_bn, Typ: BatchNormalization, Shape: (None, None, None, 256)\n",
      "Warstwa ResNet50 38: conv2_block3_add, Typ: Add, Shape: (None, None, None, 256)\n",
      "Warstwa ResNet50 39: conv2_block3_out, Typ: Activation, Shape: (None, None, None, 256)\n",
      "Warstwa ResNet50 40: conv3_block1_1_conv, Typ: Conv2D, Shape: (None, None, None, 128)\n",
      "Warstwa ResNet50 41: conv3_block1_1_bn, Typ: BatchNormalization, Shape: (None, None, None, 128)\n",
      "Warstwa ResNet50 42: conv3_block1_1_relu, Typ: Activation, Shape: (None, None, None, 128)\n",
      "Warstwa ResNet50 43: conv3_block1_2_conv, Typ: Conv2D, Shape: (None, None, None, 128)\n",
      "Warstwa ResNet50 44: conv3_block1_2_bn, Typ: BatchNormalization, Shape: (None, None, None, 128)\n",
      "Warstwa ResNet50 45: conv3_block1_2_relu, Typ: Activation, Shape: (None, None, None, 128)\n",
      "Warstwa ResNet50 46: conv3_block1_0_conv, Typ: Conv2D, Shape: (None, None, None, 512)\n",
      "Warstwa ResNet50 47: conv3_block1_3_conv, Typ: Conv2D, Shape: (None, None, None, 512)\n",
      "Warstwa ResNet50 48: conv3_block1_0_bn, Typ: BatchNormalization, Shape: (None, None, None, 512)\n",
      "Warstwa ResNet50 49: conv3_block1_3_bn, Typ: BatchNormalization, Shape: (None, None, None, 512)\n",
      "Warstwa ResNet50 50: conv3_block1_add, Typ: Add, Shape: (None, None, None, 512)\n",
      "Warstwa ResNet50 51: conv3_block1_out, Typ: Activation, Shape: (None, None, None, 512)\n",
      "Warstwa ResNet50 52: conv3_block2_1_conv, Typ: Conv2D, Shape: (None, None, None, 128)\n",
      "Warstwa ResNet50 53: conv3_block2_1_bn, Typ: BatchNormalization, Shape: (None, None, None, 128)\n",
      "Warstwa ResNet50 54: conv3_block2_1_relu, Typ: Activation, Shape: (None, None, None, 128)\n",
      "Warstwa ResNet50 55: conv3_block2_2_conv, Typ: Conv2D, Shape: (None, None, None, 128)\n",
      "Warstwa ResNet50 56: conv3_block2_2_bn, Typ: BatchNormalization, Shape: (None, None, None, 128)\n",
      "Warstwa ResNet50 57: conv3_block2_2_relu, Typ: Activation, Shape: (None, None, None, 128)\n",
      "Warstwa ResNet50 58: conv3_block2_3_conv, Typ: Conv2D, Shape: (None, None, None, 512)\n",
      "Warstwa ResNet50 59: conv3_block2_3_bn, Typ: BatchNormalization, Shape: (None, None, None, 512)\n",
      "Warstwa ResNet50 60: conv3_block2_add, Typ: Add, Shape: (None, None, None, 512)\n",
      "Warstwa ResNet50 61: conv3_block2_out, Typ: Activation, Shape: (None, None, None, 512)\n",
      "Warstwa ResNet50 62: conv3_block3_1_conv, Typ: Conv2D, Shape: (None, None, None, 128)\n",
      "Warstwa ResNet50 63: conv3_block3_1_bn, Typ: BatchNormalization, Shape: (None, None, None, 128)\n",
      "Warstwa ResNet50 64: conv3_block3_1_relu, Typ: Activation, Shape: (None, None, None, 128)\n",
      "Warstwa ResNet50 65: conv3_block3_2_conv, Typ: Conv2D, Shape: (None, None, None, 128)\n",
      "Warstwa ResNet50 66: conv3_block3_2_bn, Typ: BatchNormalization, Shape: (None, None, None, 128)\n",
      "Warstwa ResNet50 67: conv3_block3_2_relu, Typ: Activation, Shape: (None, None, None, 128)\n",
      "Warstwa ResNet50 68: conv3_block3_3_conv, Typ: Conv2D, Shape: (None, None, None, 512)\n",
      "Warstwa ResNet50 69: conv3_block3_3_bn, Typ: BatchNormalization, Shape: (None, None, None, 512)\n",
      "Warstwa ResNet50 70: conv3_block3_add, Typ: Add, Shape: (None, None, None, 512)\n",
      "Warstwa ResNet50 71: conv3_block3_out, Typ: Activation, Shape: (None, None, None, 512)\n",
      "Warstwa ResNet50 72: conv3_block4_1_conv, Typ: Conv2D, Shape: (None, None, None, 128)\n",
      "Warstwa ResNet50 73: conv3_block4_1_bn, Typ: BatchNormalization, Shape: (None, None, None, 128)\n",
      "Warstwa ResNet50 74: conv3_block4_1_relu, Typ: Activation, Shape: (None, None, None, 128)\n",
      "Warstwa ResNet50 75: conv3_block4_2_conv, Typ: Conv2D, Shape: (None, None, None, 128)\n",
      "Warstwa ResNet50 76: conv3_block4_2_bn, Typ: BatchNormalization, Shape: (None, None, None, 128)\n",
      "Warstwa ResNet50 77: conv3_block4_2_relu, Typ: Activation, Shape: (None, None, None, 128)\n",
      "Warstwa ResNet50 78: conv3_block4_3_conv, Typ: Conv2D, Shape: (None, None, None, 512)\n",
      "Warstwa ResNet50 79: conv3_block4_3_bn, Typ: BatchNormalization, Shape: (None, None, None, 512)\n",
      "Warstwa ResNet50 80: conv3_block4_add, Typ: Add, Shape: (None, None, None, 512)\n",
      "Warstwa ResNet50 81: conv3_block4_out, Typ: Activation, Shape: (None, None, None, 512)\n",
      "Warstwa ResNet50 82: conv4_block1_1_conv, Typ: Conv2D, Shape: (None, None, None, 256)\n",
      "Warstwa ResNet50 83: conv4_block1_1_bn, Typ: BatchNormalization, Shape: (None, None, None, 256)\n",
      "Warstwa ResNet50 84: conv4_block1_1_relu, Typ: Activation, Shape: (None, None, None, 256)\n",
      "Warstwa ResNet50 85: conv4_block1_2_conv, Typ: Conv2D, Shape: (None, None, None, 256)\n",
      "Warstwa ResNet50 86: conv4_block1_2_bn, Typ: BatchNormalization, Shape: (None, None, None, 256)\n",
      "Warstwa ResNet50 87: conv4_block1_2_relu, Typ: Activation, Shape: (None, None, None, 256)\n",
      "Warstwa ResNet50 88: conv4_block1_0_conv, Typ: Conv2D, Shape: (None, None, None, 1024)\n",
      "Warstwa ResNet50 89: conv4_block1_3_conv, Typ: Conv2D, Shape: (None, None, None, 1024)\n",
      "Warstwa ResNet50 90: conv4_block1_0_bn, Typ: BatchNormalization, Shape: (None, None, None, 1024)\n",
      "Warstwa ResNet50 91: conv4_block1_3_bn, Typ: BatchNormalization, Shape: (None, None, None, 1024)\n",
      "Warstwa ResNet50 92: conv4_block1_add, Typ: Add, Shape: (None, None, None, 1024)\n",
      "Warstwa ResNet50 93: conv4_block1_out, Typ: Activation, Shape: (None, None, None, 1024)\n",
      "Warstwa ResNet50 94: conv4_block2_1_conv, Typ: Conv2D, Shape: (None, None, None, 256)\n",
      "Warstwa ResNet50 95: conv4_block2_1_bn, Typ: BatchNormalization, Shape: (None, None, None, 256)\n",
      "Warstwa ResNet50 96: conv4_block2_1_relu, Typ: Activation, Shape: (None, None, None, 256)\n",
      "Warstwa ResNet50 97: conv4_block2_2_conv, Typ: Conv2D, Shape: (None, None, None, 256)\n",
      "Warstwa ResNet50 98: conv4_block2_2_bn, Typ: BatchNormalization, Shape: (None, None, None, 256)\n",
      "Warstwa ResNet50 99: conv4_block2_2_relu, Typ: Activation, Shape: (None, None, None, 256)\n",
      "Warstwa ResNet50 100: conv4_block2_3_conv, Typ: Conv2D, Shape: (None, None, None, 1024)\n",
      "Warstwa ResNet50 101: conv4_block2_3_bn, Typ: BatchNormalization, Shape: (None, None, None, 1024)\n",
      "Warstwa ResNet50 102: conv4_block2_add, Typ: Add, Shape: (None, None, None, 1024)\n",
      "Warstwa ResNet50 103: conv4_block2_out, Typ: Activation, Shape: (None, None, None, 1024)\n",
      "Warstwa ResNet50 104: conv4_block3_1_conv, Typ: Conv2D, Shape: (None, None, None, 256)\n",
      "Warstwa ResNet50 105: conv4_block3_1_bn, Typ: BatchNormalization, Shape: (None, None, None, 256)\n",
      "Warstwa ResNet50 106: conv4_block3_1_relu, Typ: Activation, Shape: (None, None, None, 256)\n",
      "Warstwa ResNet50 107: conv4_block3_2_conv, Typ: Conv2D, Shape: (None, None, None, 256)\n",
      "Warstwa ResNet50 108: conv4_block3_2_bn, Typ: BatchNormalization, Shape: (None, None, None, 256)\n",
      "Warstwa ResNet50 109: conv4_block3_2_relu, Typ: Activation, Shape: (None, None, None, 256)\n",
      "Warstwa ResNet50 110: conv4_block3_3_conv, Typ: Conv2D, Shape: (None, None, None, 1024)\n",
      "Warstwa ResNet50 111: conv4_block3_3_bn, Typ: BatchNormalization, Shape: (None, None, None, 1024)\n",
      "Warstwa ResNet50 112: conv4_block3_add, Typ: Add, Shape: (None, None, None, 1024)\n",
      "Warstwa ResNet50 113: conv4_block3_out, Typ: Activation, Shape: (None, None, None, 1024)\n",
      "Warstwa ResNet50 114: conv4_block4_1_conv, Typ: Conv2D, Shape: (None, None, None, 256)\n",
      "Warstwa ResNet50 115: conv4_block4_1_bn, Typ: BatchNormalization, Shape: (None, None, None, 256)\n",
      "Warstwa ResNet50 116: conv4_block4_1_relu, Typ: Activation, Shape: (None, None, None, 256)\n",
      "Warstwa ResNet50 117: conv4_block4_2_conv, Typ: Conv2D, Shape: (None, None, None, 256)\n",
      "Warstwa ResNet50 118: conv4_block4_2_bn, Typ: BatchNormalization, Shape: (None, None, None, 256)\n",
      "Warstwa ResNet50 119: conv4_block4_2_relu, Typ: Activation, Shape: (None, None, None, 256)\n",
      "Warstwa ResNet50 120: conv4_block4_3_conv, Typ: Conv2D, Shape: (None, None, None, 1024)\n",
      "Warstwa ResNet50 121: conv4_block4_3_bn, Typ: BatchNormalization, Shape: (None, None, None, 1024)\n",
      "Warstwa ResNet50 122: conv4_block4_add, Typ: Add, Shape: (None, None, None, 1024)\n",
      "Warstwa ResNet50 123: conv4_block4_out, Typ: Activation, Shape: (None, None, None, 1024)\n",
      "Warstwa ResNet50 124: conv4_block5_1_conv, Typ: Conv2D, Shape: (None, None, None, 256)\n",
      "Warstwa ResNet50 125: conv4_block5_1_bn, Typ: BatchNormalization, Shape: (None, None, None, 256)\n",
      "Warstwa ResNet50 126: conv4_block5_1_relu, Typ: Activation, Shape: (None, None, None, 256)\n",
      "Warstwa ResNet50 127: conv4_block5_2_conv, Typ: Conv2D, Shape: (None, None, None, 256)\n",
      "Warstwa ResNet50 128: conv4_block5_2_bn, Typ: BatchNormalization, Shape: (None, None, None, 256)\n",
      "Warstwa ResNet50 129: conv4_block5_2_relu, Typ: Activation, Shape: (None, None, None, 256)\n",
      "Warstwa ResNet50 130: conv4_block5_3_conv, Typ: Conv2D, Shape: (None, None, None, 1024)\n",
      "Warstwa ResNet50 131: conv4_block5_3_bn, Typ: BatchNormalization, Shape: (None, None, None, 1024)\n",
      "Warstwa ResNet50 132: conv4_block5_add, Typ: Add, Shape: (None, None, None, 1024)\n",
      "Warstwa ResNet50 133: conv4_block5_out, Typ: Activation, Shape: (None, None, None, 1024)\n",
      "Warstwa ResNet50 134: conv4_block6_1_conv, Typ: Conv2D, Shape: (None, None, None, 256)\n",
      "Warstwa ResNet50 135: conv4_block6_1_bn, Typ: BatchNormalization, Shape: (None, None, None, 256)\n",
      "Warstwa ResNet50 136: conv4_block6_1_relu, Typ: Activation, Shape: (None, None, None, 256)\n",
      "Warstwa ResNet50 137: conv4_block6_2_conv, Typ: Conv2D, Shape: (None, None, None, 256)\n",
      "Warstwa ResNet50 138: conv4_block6_2_bn, Typ: BatchNormalization, Shape: (None, None, None, 256)\n",
      "Warstwa ResNet50 139: conv4_block6_2_relu, Typ: Activation, Shape: (None, None, None, 256)\n",
      "Warstwa ResNet50 140: conv4_block6_3_conv, Typ: Conv2D, Shape: (None, None, None, 1024)\n",
      "Warstwa ResNet50 141: conv4_block6_3_bn, Typ: BatchNormalization, Shape: (None, None, None, 1024)\n",
      "Warstwa ResNet50 142: conv4_block6_add, Typ: Add, Shape: (None, None, None, 1024)\n",
      "Warstwa ResNet50 143: conv4_block6_out, Typ: Activation, Shape: (None, None, None, 1024)\n",
      "Warstwa ResNet50 144: conv5_block1_1_conv, Typ: Conv2D, Shape: (None, None, None, 512)\n",
      "Warstwa ResNet50 145: conv5_block1_1_bn, Typ: BatchNormalization, Shape: (None, None, None, 512)\n",
      "Warstwa ResNet50 146: conv5_block1_1_relu, Typ: Activation, Shape: (None, None, None, 512)\n",
      "Warstwa ResNet50 147: conv5_block1_2_conv, Typ: Conv2D, Shape: (None, None, None, 512)\n",
      "Warstwa ResNet50 148: conv5_block1_2_bn, Typ: BatchNormalization, Shape: (None, None, None, 512)\n",
      "Warstwa ResNet50 149: conv5_block1_2_relu, Typ: Activation, Shape: (None, None, None, 512)\n",
      "Warstwa ResNet50 150: conv5_block1_0_conv, Typ: Conv2D, Shape: (None, None, None, 2048)\n",
      "Warstwa ResNet50 151: conv5_block1_3_conv, Typ: Conv2D, Shape: (None, None, None, 2048)\n",
      "Warstwa ResNet50 152: conv5_block1_0_bn, Typ: BatchNormalization, Shape: (None, None, None, 2048)\n",
      "Warstwa ResNet50 153: conv5_block1_3_bn, Typ: BatchNormalization, Shape: (None, None, None, 2048)\n",
      "Warstwa ResNet50 154: conv5_block1_add, Typ: Add, Shape: (None, None, None, 2048)\n",
      "Warstwa ResNet50 155: conv5_block1_out, Typ: Activation, Shape: (None, None, None, 2048)\n",
      "Warstwa ResNet50 156: conv5_block2_1_conv, Typ: Conv2D, Shape: (None, None, None, 512)\n",
      "Warstwa ResNet50 157: conv5_block2_1_bn, Typ: BatchNormalization, Shape: (None, None, None, 512)\n",
      "Warstwa ResNet50 158: conv5_block2_1_relu, Typ: Activation, Shape: (None, None, None, 512)\n",
      "Warstwa ResNet50 159: conv5_block2_2_conv, Typ: Conv2D, Shape: (None, None, None, 512)\n",
      "Warstwa ResNet50 160: conv5_block2_2_bn, Typ: BatchNormalization, Shape: (None, None, None, 512)\n",
      "Warstwa ResNet50 161: conv5_block2_2_relu, Typ: Activation, Shape: (None, None, None, 512)\n",
      "Warstwa ResNet50 162: conv5_block2_3_conv, Typ: Conv2D, Shape: (None, None, None, 2048)\n",
      "Warstwa ResNet50 163: conv5_block2_3_bn, Typ: BatchNormalization, Shape: (None, None, None, 2048)\n",
      "Warstwa ResNet50 164: conv5_block2_add, Typ: Add, Shape: (None, None, None, 2048)\n",
      "Warstwa ResNet50 165: conv5_block2_out, Typ: Activation, Shape: (None, None, None, 2048)\n",
      "Warstwa ResNet50 166: conv5_block3_1_conv, Typ: Conv2D, Shape: (None, None, None, 512)\n",
      "Warstwa ResNet50 167: conv5_block3_1_bn, Typ: BatchNormalization, Shape: (None, None, None, 512)\n",
      "Warstwa ResNet50 168: conv5_block3_1_relu, Typ: Activation, Shape: (None, None, None, 512)\n",
      "Warstwa ResNet50 169: conv5_block3_2_conv, Typ: Conv2D, Shape: (None, None, None, 512)\n",
      "Warstwa ResNet50 170: conv5_block3_2_bn, Typ: BatchNormalization, Shape: (None, None, None, 512)\n",
      "Warstwa ResNet50 171: conv5_block3_2_relu, Typ: Activation, Shape: (None, None, None, 512)\n",
      "Warstwa ResNet50 172: conv5_block3_3_conv, Typ: Conv2D, Shape: (None, None, None, 2048)\n",
      "Warstwa ResNet50 173: conv5_block3_3_bn, Typ: BatchNormalization, Shape: (None, None, None, 2048)\n",
      "Warstwa ResNet50 174: conv5_block3_add, Typ: Add, Shape: (None, None, None, 2048)\n",
      "Warstwa ResNet50 175: conv5_block3_out, Typ: Activation, Shape: (None, None, None, 2048)\n",
      "Warstwa ResNet50 176: avg_pool, Typ: GlobalAveragePooling2D, Shape: (None, 2048)\n"
     ]
    }
   ],
   "source": [
    "resnet50_layers = model.layers[0].layers\n",
    "for i, warstwa in enumerate(resnet50_layers):\n",
    "    print(f'Warstwa ResNet50 {i + 1}: {warstwa.name}, Typ: {warstwa.__class__.__name__}, Shape: {warstwa.output_shape}')\n"
   ],
   "metadata": {
    "collapsed": false,
    "ExecuteTime": {
     "end_time": "2024-04-11T19:52:00.700493200Z",
     "start_time": "2024-04-11T19:52:00.636481Z"
    }
   },
   "id": "1a72e779b9ae01c9"
  },
  {
   "cell_type": "code",
   "execution_count": 875,
   "outputs": [],
   "source": [
    "resnet_model = model.get_layer('resnet50')\n",
    "\n",
    "output_layer = 'conv4_block1_2_conv'\n",
    "\n",
    "layer = resnet_model.get_layer(output_layer)\n",
    "weights = layer.get_weights()[0]\n",
    "biases = layer.get_weights()[1] "
   ],
   "metadata": {
    "collapsed": false,
    "ExecuteTime": {
     "end_time": "2024-04-11T19:52:00.701481500Z",
     "start_time": "2024-04-11T19:52:00.651481200Z"
    }
   },
   "id": "270d00d5abaa413e"
  },
  {
   "cell_type": "code",
   "execution_count": 876,
   "outputs": [
    {
     "data": {
      "text/plain": "(3, 3, 256, 256)"
     },
     "execution_count": 876,
     "metadata": {},
     "output_type": "execute_result"
    }
   ],
   "source": [
    "weights.shape"
   ],
   "metadata": {
    "collapsed": false,
    "ExecuteTime": {
     "end_time": "2024-04-11T19:52:00.701481500Z",
     "start_time": "2024-04-11T19:52:00.667482300Z"
    }
   },
   "id": "3c0e2545d8fe22da"
  },
  {
   "cell_type": "code",
   "execution_count": 877,
   "outputs": [
    {
     "data": {
      "text/plain": "(256,)"
     },
     "execution_count": 877,
     "metadata": {},
     "output_type": "execute_result"
    }
   ],
   "source": [
    "biases.shape"
   ],
   "metadata": {
    "collapsed": false,
    "ExecuteTime": {
     "end_time": "2024-04-11T19:52:00.701481500Z",
     "start_time": "2024-04-11T19:52:00.673485Z"
    }
   },
   "id": "d6e282866a51137b"
  },
  {
   "cell_type": "code",
   "execution_count": 878,
   "outputs": [],
   "source": [
    "num_filters_to_remove = 100\n",
    "\n",
    "filters_to_remove = np.random.choice(weights.shape[3], num_filters_to_remove, replace=False)\n",
    "\n",
    "new_weights = np.delete(weights, filters_to_remove, axis=3)\n",
    "new_biases = np.delete(biases, filters_to_remove)"
   ],
   "metadata": {
    "collapsed": false,
    "ExecuteTime": {
     "end_time": "2024-04-11T19:52:00.702480800Z",
     "start_time": "2024-04-11T19:52:00.684479500Z"
    }
   },
   "id": "8e39dce2b0a0efb7"
  },
  {
   "cell_type": "code",
   "execution_count": 879,
   "outputs": [],
   "source": [
    "# from keras.layers import Add, Dense\n",
    "# from tensorflow.keras.models import Model\n",
    "# #proba\n",
    "# def prune_filter(original_model, cut_off_layer_name, indexes):\n",
    "#     \n",
    "#     layer_to_prune = resnet_model.get_layer(cut_off_layer_name)\n",
    "#     \n",
    "#     all_layers = original_model.layers\n",
    "# \n",
    "#     # Ideks warstwy do przycięcia\n",
    "#     layer_to_prune_index = all_layers.index(layer_to_prune)\n",
    "# \n",
    "#     # Blok poprzedzający przycinany blok\n",
    "#     previous_layer = next((layer for layer in all_layers[:layer_to_prune_index][::-1] if layer.name.endswith(\"out\")), None)\n",
    "#     # Następny blok po przycinanym bloku\n",
    "#     next_layer = next((layer for layer in all_layers[layer_to_prune_index + 1:] if layer.name.endswith(\"add\")), None)\n",
    "# \n",
    "#     # Tworzę 3 modele, które później złącze ze sobą, prev i nex nie będzie zmieniany a model_to_prune będzie przycięty\n",
    "#     model_prev = Model(inputs=original_model.input, outputs=previous_layer.output)        \n",
    "#     model_to_prune = Model(inputs=original_model.layers[all_layers.index(previous_layer) + 1].input, outputs=next_layer.output)       \n",
    "#     model_next = Model(inputs=original_model.layers[all_layers.index(next_layer) + 1].input, outputs=original_model.output)\n",
    "#     \n",
    "#     # Kopiuję konfiguracje warstwy do przycięcia\n",
    "#     config = layer_to_prune.get_config()\n",
    "#     config['filters'] = len(indexes)\n",
    "# \n",
    "#     # Zamiast przycinania strej warstwy tworze nową z tą samą konfiguracja, wagami i biasem\n",
    "#     new_layer = Conv2D(**config)\n",
    "#     input_shape = layer_to_prune.input_shape\n",
    "#     new_layer.build(input_shape)\n",
    "# \n",
    "#     # Ustawianie wag i biasów\n",
    "#     weights = layer_to_prune.get_weights()[0][:, :, :, indexes]\n",
    "#     if len(layer_to_prune.get_weights()) > 1:\n",
    "#         biases = layer_to_prune.get_weights()[1][indexes]\n",
    "#         new_weights = [weights, biases]\n",
    "#     else:\n",
    "#         new_weights = [weights]\n",
    "#     new_layer.set_weights(new_weights)\n",
    "#     \n",
    "#     pruned_model = Sequential()\n",
    "#     \n",
    "#     for layer_prune in model_to_prune.layers:\n",
    "#         print(layer_prune.name)\n",
    "#         print(layer_prune.input_shape)\n",
    "#         if layer_prune.name != cut_off_layer_name:\n",
    "#             if layer_prune.name.endswith(\"_conv\"):\n",
    "#                 pruned_model.add(Conv2D(filters=layer_prune.input_shape[-1], kernel_size=(1, 1)))\n",
    "#             if layer_prune.name.endswith(\"_add\"):\n",
    "#                 # pruned_model.add(Add()(layer_prune.input))\n",
    "#                 \n",
    "#                 index_conv4_block1_add = model_to_prune.layers.index(layer_prune)\n",
    "#                 index_conv4_block1_0_bn = index_conv4_block1_add - 2  # Poprzedza warstwę Add\n",
    "#                 index_conv4_block1_3_bn = index_conv4_block1_add - 1  # Poprzedza warstwę Add\n",
    "# \n",
    "#                 \n",
    "#                 # Uzyskaj wyjścia tych warstw\n",
    "#                 output_conv4_block1_0_bn = model_to_prune.layers[index_conv4_block1_0_bn].output\n",
    "#                 output_conv4_block1_3_bn = model_to_prune.layers[index_conv4_block1_3_bn].output\n",
    "#                 \n",
    "#                 add_layer = Add()([output_conv4_block1_0_bn, output_conv4_block1_3_bn])\n",
    "#             else:\n",
    "#                 pruned_model.add(layer_prune)\n",
    "#         else:\n",
    "#             pruned_model.add(layer_prune)\n",
    "#             pruned_model.add(Conv2D(filters=256, kernel_size=(1, 1), name='adaptation_conv'))\n",
    "#     \n",
    "#     new_model = Sequential()\n",
    "#     new_model.add(model_prev)\n",
    "#     new_model.add(model_to_prune)\n",
    "#     new_model.add(model_next)\n",
    "#     return new_model\n"
   ],
   "metadata": {
    "collapsed": false,
    "ExecuteTime": {
     "end_time": "2024-04-11T19:52:00.719486500Z",
     "start_time": "2024-04-11T19:52:00.695484Z"
    }
   },
   "id": "ec14c7ce265c8a23"
  },
  {
   "cell_type": "code",
   "execution_count": 880,
   "outputs": [],
   "source": [
    "from keras.layers import Add, BatchNormalization, Activation\n",
    "\n",
    "\n",
    "def prune_filter(original_model, cut_off_layer_name, indexes):\n",
    "    # Warswtwa którą chcę przyciąć\n",
    "    layer_to_prune = resnet_model.get_layer(cut_off_layer_name)\n",
    "\n",
    "    all_layers = original_model.layers\n",
    "\n",
    "    # Ideks warstwy do przycięcia\n",
    "    layer_to_prune_index = all_layers.index(layer_to_prune)\n",
    "\n",
    "    # Blok poprzedzający przycinany blok\n",
    "    previous_layer = next((layer for layer in all_layers[:layer_to_prune_index][::-1] if layer.name.endswith(\"out\")), None)\n",
    "    # Następny blok po przycinanym bloku\n",
    "    next_layer = next((layer for layer in all_layers[layer_to_prune_index + 1:] if layer.name.endswith(\"add\")), None)\n",
    "\n",
    "    # Tworzę 3 modele, które później złącze ze sobą, prev i nex nie będzie zmieniany a model_to_prune będzie przycięty\n",
    "    model_prev = Model(inputs=original_model.input, outputs=previous_layer.output)        \n",
    "    model_to_prune = Model(inputs=original_model.layers[all_layers.index(previous_layer) + 1].input, outputs=next_layer.output)       \n",
    "    model_next = Model(inputs=original_model.layers[all_layers.index(next_layer) + 1].input, outputs=original_model.output) \n",
    "\n",
    "    combined_input = Input(shape=(32, 32, 3))\n",
    "\n",
    "    output_prev = model_prev(combined_input)\n",
    "\n",
    "    # Kopiuję konfiguracje warstwy do przycięcia\n",
    "    config = layer_to_prune.get_config()\n",
    "    config['filters'] = len(indexes)\n",
    "\n",
    "    # Zamiast przycinania strej warstwy tworze nową z tą samą konfiguracja, wagami i biasem\n",
    "    new_layer = Conv2D(**config)\n",
    "    input_shape = layer_to_prune.input_shape\n",
    "    new_layer.build(input_shape)\n",
    "\n",
    "    # Ustawianie wag i biasów\n",
    "    weights = layer_to_prune.get_weights()[0][:, :, :, indexes]\n",
    "    if len(layer_to_prune.get_weights()) > 1:\n",
    "        biases = layer_to_prune.get_weights()[1][indexes]\n",
    "        new_weights = [weights, biases]\n",
    "    else:\n",
    "        new_weights = [weights]\n",
    "    new_layer.set_weights(new_weights)\n",
    "    print(model_to_prune.summary())\n",
    "    \n",
    "    \n",
    "    \n",
    "    input_tensor = Input(shape=model_prev.output_shape)\n",
    "\n",
    "    # Rozpoczynamy przepływ danych od tensora wejściowego\n",
    "    x = input_tensor\n",
    "    \n",
    "    # Tworzymy nowe warstwy na podstawie warstw oryginalnego modelu i aplikujemy je po kolei\n",
    "    for layer in model_to_prune.layers: # [1:] oznacza pominięcie warstwy wejściowej\n",
    "        if layer.name == cut_off_layer_name:\n",
    "            output_prev = new_layer(output_prev)\n",
    "            output_prev = Conv2D(filters=256, kernel_size=(1, 1), name='adaptation_conv')(output_prev)\n",
    "        elif isinstance(layer, Conv2D):\n",
    "            # Nowa warstwa Conv2D z takimi samymi parametrami jak oryginalna\n",
    "            new_layer = Conv2D(\n",
    "                filters=layer.filters,\n",
    "                kernel_size=layer.kernel_size,\n",
    "                strides=layer.strides,\n",
    "                padding=layer.padding,\n",
    "                activation=None,\n",
    "                use_bias=layer.use_bias,\n",
    "                kernel_initializer=layer.kernel_initializer,\n",
    "                bias_initializer=layer.bias_initializer\n",
    "            )\n",
    "            x = new_layer(x)\n",
    "        elif isinstance(layer, BatchNormalization):\n",
    "            # Nowa warstwa BatchNormalization z takimi samymi parametrami\n",
    "            new_layer = BatchNormalization()\n",
    "            x = new_layer(x)\n",
    "        elif isinstance(layer, Activation):\n",
    "            # Nowa warstwa Activation (ReLU) z takimi samymi parametrami\n",
    "            new_layer = Activation(layer.activation)\n",
    "            x = new_layer(x)\n",
    "        elif isinstance(layer, Add):\n",
    "            # W przypadku warstwy Add, należy zastosować ją do odpowiednich tensorów\n",
    "            # Przykład poniżej zakłada, że warstwa Add sumuje dwie poprzednie aktywacje\n",
    "            # Musisz dostosować ten kod, aby odpowiadał Twojemu przepływowi danych\n",
    "            index_conv4_block1_add = model_to_prune.layers.index(layer)\n",
    "            index_conv4_block1_0_bn = index_conv4_block1_add - 2\n",
    "            index_conv4_block1_3_bn = index_conv4_block1_add - 1\n",
    "            output_conv4_block1_0_bn = model_to_prune.layers[index_conv4_block1_0_bn].output\n",
    "            output_conv4_block1_3_bn = model_to_prune.layers[index_conv4_block1_3_bn].output\n",
    "            x = Add()([output_conv4_block1_0_bn, output_conv4_block1_3_bn]) \n",
    "        # Dodaj więcej `elif` dla innych rodzajów warstw, które mogą wystąpić\n",
    "    \n",
    "    # Po przejściu przez wszystkie warstwy, tworzymy nowy model\n",
    "    \n",
    "    pruned_model = Model(inputs=model_prev.output, outputs=x)\n",
    "    print('aaa')\n",
    "    \n",
    "    \n",
    "    \n",
    "    # output_prev = Input(shape=model_prev.output_shape)\n",
    "    # \n",
    "    # for layer_prune in model_to_prune.layers:\n",
    "    #     print(layer_prune.name)\n",
    "    #     if layer_prune.name != cut_off_layer_name:\n",
    "    #         if layer_prune.name.endswith(\"_conv\"):\n",
    "    #             output_prev = Conv2D(filters=layer_prune.input_shape[-1], kernel_size=(1, 1))(output_prev)\n",
    "    #         if layer_prune.name.endswith(\"_add\"):\n",
    "    #             index_conv4_block1_add = model_to_prune.layers.index(layer_prune)\n",
    "    #             index_conv4_block1_0_bn = index_conv4_block1_add - 2\n",
    "    #             index_conv4_block1_3_bn = index_conv4_block1_add - 1\n",
    "    #             output_conv4_block1_0_bn = model_to_prune.layers[index_conv4_block1_0_bn].output\n",
    "    #             output_conv4_block1_3_bn = model_to_prune.layers[index_conv4_block1_3_bn].output\n",
    "    #             output_prev = Add()([output_conv4_block1_0_bn, output_conv4_block1_3_bn])              \n",
    "    #         else:\n",
    "    #             output_prev = layer_prune(output_prev)\n",
    "    #     else:\n",
    "    #         output_prev = new_layer(output_prev)\n",
    "    #         output_prev = Conv2D(filters=256, kernel_size=(1, 1), name='adaptation_conv')(output_prev)\n",
    "\n",
    "    # final_output = model_next(output_prev)\n",
    "    # final_output = model_next(model_to_prune)\n",
    "\n",
    "    # Na nowo łaczę przycięty model\n",
    "    # combined_model = Model(inputs=combined_input, outputs=final_output)\n",
    "    # \n",
    "    # return combined_model\n",
    "    new_model = Sequential()\n",
    "    new_model.add(model_prev)\n",
    "    new_model.add(pruned_model)\n",
    "    new_model.add(model_next)\n",
    "    return new_model\n"
   ],
   "metadata": {
    "collapsed": false,
    "ExecuteTime": {
     "end_time": "2024-04-11T19:52:00.791482500Z",
     "start_time": "2024-04-11T19:52:00.704480500Z"
    }
   },
   "id": "5e72c626b4c177ae"
  },
  {
   "cell_type": "code",
   "execution_count": 881,
   "outputs": [
    {
     "data": {
      "text/plain": "(3, 3, 256, 256)"
     },
     "execution_count": 881,
     "metadata": {},
     "output_type": "execute_result"
    }
   ],
   "source": [
    "weights.shape"
   ],
   "metadata": {
    "collapsed": false,
    "ExecuteTime": {
     "end_time": "2024-04-11T19:52:00.805482500Z",
     "start_time": "2024-04-11T19:52:00.730482700Z"
    }
   },
   "id": "ac3df663de83e50b"
  },
  {
   "cell_type": "code",
   "execution_count": 882,
   "outputs": [
    {
     "data": {
      "text/plain": "(256, 2304)"
     },
     "execution_count": 882,
     "metadata": {},
     "output_type": "execute_result"
    }
   ],
   "source": [
    "# weights_list = np.array([weights[:, :, :, i] for i in range(weights.shape[-1])])\n",
    "weights_list = weights.reshape(256, -1)\n",
    "weights_list.shape\n",
    "# filter_indexes = cluster_filters(weights_list)"
   ],
   "metadata": {
    "collapsed": false,
    "ExecuteTime": {
     "end_time": "2024-04-11T19:52:00.806484900Z",
     "start_time": "2024-04-11T19:52:00.741492200Z"
    }
   },
   "id": "265256c59192e745"
  },
  {
   "cell_type": "code",
   "execution_count": 883,
   "outputs": [],
   "source": [
    "# from sklearn.cluster import KMeans\n",
    "# \n",
    "# k = 100  # Liczba klastrów\n",
    "# knn = KMeans(n_clusters=k)\n",
    "# knn.fit(weights_list)\n",
    "# klastry = knn.labels_\n",
    "# \n",
    "# indexes = []\n",
    "# for i in range(k):\n",
    "#     indeksy_klastra = np.where(klastry == i)[0]\n",
    "#     losowy_indeks = np.random.choice(indeksy_klastra)\n",
    "#     indexes.append(losowy_indeks)\n",
    "# \n",
    "# pruned_model = prune_filter(resnet_model, output_layer, indexes)"
   ],
   "metadata": {
    "collapsed": false,
    "ExecuteTime": {
     "end_time": "2024-04-11T19:52:00.807481200Z",
     "start_time": "2024-04-11T19:52:00.750480600Z"
    }
   },
   "id": "c6e8a30ef33b2eb5"
  },
  {
   "cell_type": "code",
   "execution_count": 884,
   "outputs": [
    {
     "name": "stdout",
     "output_type": "stream",
     "text": [
      "Model: \"model_224\"\n",
      "__________________________________________________________________________________________________\n",
      " Layer (type)                   Output Shape         Param #     Connected to                     \n",
      "==================================================================================================\n",
      " input_211 (InputLayer)         [(None, None, None,  0           []                               \n",
      "                                 512)]                                                            \n",
      "                                                                                                  \n",
      " conv4_block1_1_conv (Conv2D)   (None, None, None,   131328      ['input_211[0][0]']              \n",
      "                                256)                                                              \n",
      "                                                                                                  \n",
      " conv4_block1_1_bn (BatchNormal  (None, None, None,   1024       ['conv4_block1_1_conv[1][0]']    \n",
      " ization)                       256)                                                              \n",
      "                                                                                                  \n",
      " conv4_block1_1_relu (Activatio  (None, None, None,   0          ['conv4_block1_1_bn[1][0]']      \n",
      " n)                             256)                                                              \n",
      "                                                                                                  \n",
      " conv4_block1_2_conv (Conv2D)   (None, None, None,   590080      ['conv4_block1_1_relu[1][0]']    \n",
      "                                256)                                                              \n",
      "                                                                                                  \n",
      " conv4_block1_2_bn (BatchNormal  (None, None, None,   1024       ['conv4_block1_2_conv[1][0]']    \n",
      " ization)                       256)                                                              \n",
      "                                                                                                  \n",
      " conv4_block1_2_relu (Activatio  (None, None, None,   0          ['conv4_block1_2_bn[1][0]']      \n",
      " n)                             256)                                                              \n",
      "                                                                                                  \n",
      " conv4_block1_0_conv (Conv2D)   (None, None, None,   525312      ['input_211[0][0]']              \n",
      "                                1024)                                                             \n",
      "                                                                                                  \n",
      " conv4_block1_3_conv (Conv2D)   (None, None, None,   263168      ['conv4_block1_2_relu[1][0]']    \n",
      "                                1024)                                                             \n",
      "                                                                                                  \n",
      " conv4_block1_0_bn (BatchNormal  (None, None, None,   4096       ['conv4_block1_0_conv[1][0]']    \n",
      " ization)                       1024)                                                             \n",
      "                                                                                                  \n",
      " conv4_block1_3_bn (BatchNormal  (None, None, None,   4096       ['conv4_block1_3_conv[1][0]']    \n",
      " ization)                       1024)                                                             \n",
      "                                                                                                  \n",
      " conv4_block1_add (Add)         (None, None, None,   0           ['conv4_block1_0_bn[1][0]',      \n",
      "                                1024)                             'conv4_block1_3_bn[1][0]']      \n",
      "                                                                                                  \n",
      "==================================================================================================\n",
      "Total params: 1,520,128\n",
      "Trainable params: 0\n",
      "Non-trainable params: 1,520,128\n",
      "__________________________________________________________________________________________________\n",
      "None\n",
      "uuuuuu\n"
     ]
    },
    {
     "name": "stderr",
     "output_type": "stream",
     "text": [
      "C:\\Users\\User\\AppData\\Local\\Programs\\Python\\Python39\\lib\\site-packages\\keras\\initializers\\initializers_v2.py:120: UserWarning: The initializer GlorotUniform is unseeded and being called multiple times, which will return identical values  each time (even if the initializer is unseeded). Please update your code to provide a seed to the initializer, or avoid using the same initalizer instance more than once.\n",
      "  warnings.warn(\n"
     ]
    },
    {
     "name": "stdout",
     "output_type": "stream",
     "text": [
      "aaa\n"
     ]
    }
   ],
   "source": [
    "from sklearn.cluster import DBSCAN\n",
    "from keras.models import Sequential\n",
    "dbscan = DBSCAN(eps=0.9, min_samples=1)\n",
    "dbscan.fit(weights_list)\n",
    "\n",
    "\n",
    "cluster_indices = np.unique(dbscan.labels_)\n",
    "\n",
    "indexes = []\n",
    "for cluster_index in cluster_indices:\n",
    "    cluster_points = np.where(dbscan.labels_ == cluster_index)[0]\n",
    "    index = np.random.choice(cluster_points)\n",
    "    indexes.append(index)\n",
    "    \n",
    "pruned_model = prune_filter(resnet_model, output_layer, indexes)"
   ],
   "metadata": {
    "collapsed": false,
    "ExecuteTime": {
     "end_time": "2024-04-11T19:52:02.035488600Z",
     "start_time": "2024-04-11T19:52:00.762483500Z"
    }
   },
   "id": "31ca3f89bbef9a5c"
  },
  {
   "cell_type": "code",
   "execution_count": 885,
   "outputs": [],
   "source": [
    "# import random\n",
    "# \n",
    "# indexes = [random.randint(0, 255) for _ in range(100)]\n",
    "# pruned_model = prune_filter(resnet_model, output_layer, indexes)"
   ],
   "metadata": {
    "collapsed": false,
    "ExecuteTime": {
     "end_time": "2024-04-11T19:52:02.046481400Z",
     "start_time": "2024-04-11T19:52:02.039486600Z"
    }
   },
   "id": "7f0df491594f013f"
  },
  {
   "cell_type": "code",
   "execution_count": 886,
   "outputs": [],
   "source": [
    "from keras import Sequential\n",
    "\n",
    "prune_input = Input(shape=(32, 32, 3))\n",
    "# prune_output = pruned_model(prune_input)\n",
    "# new_output = model.layers[1](prune_output)\n",
    "# new_model = Model(inputs=prune_input, outputs=new_output)\n",
    "new_model = Sequential()\n",
    "new_model.add(prune_input)\n",
    "new_model.add(pruned_model)\n",
    "new_model.add(model.layers[1])"
   ],
   "metadata": {
    "collapsed": false,
    "ExecuteTime": {
     "end_time": "2024-04-11T19:52:02.575480500Z",
     "start_time": "2024-04-11T19:52:02.046481400Z"
    }
   },
   "id": "b840ce2e1e64aeac"
  },
  {
   "cell_type": "code",
   "execution_count": 887,
   "outputs": [
    {
     "name": "stdout",
     "output_type": "stream",
     "text": [
      "1875/1875 [==============================] - 160s 84ms/step - loss: 0.1220 - accuracy: 0.9609\n"
     ]
    },
    {
     "data": {
      "text/plain": "<keras.callbacks.History at 0x1f5a32d6af0>"
     },
     "execution_count": 887,
     "metadata": {},
     "output_type": "execute_result"
    }
   ],
   "source": [
    "(train_X, train_y), (test_X, test_y) = mnist.load_data()\n",
    "new_model.compile(optimizer='adam', loss='categorical_crossentropy', metrics=['accuracy'])\n",
    "train_X = np.expand_dims(train_X, axis=-1)  # Add a channel dimension for ResNet50\n",
    "train_X = np.repeat(train_X, 3, axis=-1)  # Repeat the single channel to simulate 3 channels\n",
    "train_X = np.pad(train_X, ((0, 0), (2, 2), (2, 2), (0, 0)), mode='constant')  # Resize to 224x224\n",
    "train_y = to_categorical(train_y, 10)\n",
    "new_model.fit(x = train_X, y= train_y, epochs=1)"
   ],
   "metadata": {
    "collapsed": false,
    "ExecuteTime": {
     "end_time": "2024-04-11T19:54:43.862950400Z",
     "start_time": "2024-04-11T19:52:02.579481900Z"
    }
   },
   "id": "4b9969338efcc53c"
  },
  {
   "cell_type": "code",
   "execution_count": 888,
   "outputs": [
    {
     "name": "stdout",
     "output_type": "stream",
     "text": [
      "313/313 [==============================] - 27s 82ms/step - loss: 0.1922 - accuracy: 0.9443\n"
     ]
    }
   ],
   "source": [
    "test_X = np.expand_dims(test_X, axis=-1)\n",
    "test_X = np.repeat(test_X, 3, axis=-1)\n",
    "test_X = np.pad(test_X, ((0, 0), (2, 2), (2, 2), (0, 0)), mode='constant')\n",
    "result = new_model.evaluate(test_X, to_categorical(test_y, 10))"
   ],
   "metadata": {
    "collapsed": false,
    "ExecuteTime": {
     "end_time": "2024-04-11T19:55:11.191698Z",
     "start_time": "2024-04-11T19:54:43.862950400Z"
    }
   },
   "id": "4bedba71cecc86bd"
  },
  {
   "cell_type": "code",
   "execution_count": 889,
   "outputs": [],
   "source": [
    "new_model.save('../NN/pruned_DBSCAN_model_mnist_renet50.h5')"
   ],
   "metadata": {
    "collapsed": false,
    "ExecuteTime": {
     "end_time": "2024-04-11T19:55:11.497752Z",
     "start_time": "2024-04-11T19:55:11.189698600Z"
    }
   },
   "id": "9d6dd9612eee4ada"
  },
  {
   "cell_type": "code",
   "execution_count": 890,
   "outputs": [
    {
     "name": "stdout",
     "output_type": "stream",
     "text": [
      "313/313 [==============================] - 28s 85ms/step - loss: 0.1922 - accuracy: 0.9443\n",
      "[0.19223903119564056, 0.9442999958992004]\n"
     ]
    }
   ],
   "source": [
    "model_final = load_model('../NN/pruned_DBSCAN_model_mnist_renet50.h5')\n",
    "result = model_final.evaluate(test_X, to_categorical(test_y, 10))\n",
    "print(result)"
   ],
   "metadata": {
    "collapsed": false,
    "ExecuteTime": {
     "end_time": "2024-04-11T19:55:41.933687Z",
     "start_time": "2024-04-11T19:55:11.500730700Z"
    }
   },
   "id": "d029d8081a5812e1"
  },
  {
   "cell_type": "code",
   "execution_count": 890,
   "outputs": [],
   "source": [],
   "metadata": {
    "collapsed": false,
    "ExecuteTime": {
     "end_time": "2024-04-11T19:55:41.948199400Z",
     "start_time": "2024-04-11T19:55:41.931687Z"
    }
   },
   "id": "9383a55e69524c6c"
  }
 ],
 "metadata": {
  "kernelspec": {
   "display_name": "Python 3",
   "language": "python",
   "name": "python3"
  },
  "language_info": {
   "codemirror_mode": {
    "name": "ipython",
    "version": 2
   },
   "file_extension": ".py",
   "mimetype": "text/x-python",
   "name": "python",
   "nbconvert_exporter": "python",
   "pygments_lexer": "ipython2",
   "version": "2.7.6"
  }
 },
 "nbformat": 4,
 "nbformat_minor": 5
}
