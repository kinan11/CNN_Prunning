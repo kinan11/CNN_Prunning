{
 "cells": [
  {
   "cell_type": "code",
   "execution_count": 16,
   "id": "initial_id",
   "metadata": {
    "collapsed": true,
    "ExecuteTime": {
     "end_time": "2024-07-26T17:54:32.756189200Z",
     "start_time": "2024-07-26T17:54:32.656157400Z"
    }
   },
   "outputs": [],
   "source": [
    "from keras.datasets import mnist\n",
    "from keras.utils import to_categorical\n",
    "from keras.models import load_model\n",
    "import numpy as np\n",
    "from keras.models import Model\n",
    "from keras.layers import Input, Conv2D\n",
    "from keras.layers import Add, BatchNormalization, Activation\n",
    "from sklearn.cluster import DBSCAN\n",
    "from keras.models import Sequential\n",
    "from keras.layers import Dense\n",
    "from sklearn.preprocessing import StandardScaler\n",
    "\n",
    "from CGA.cluster_filters import cluster_filters"
   ]
  },
  {
   "cell_type": "code",
   "execution_count": 17,
   "outputs": [
    {
     "name": "stdout",
     "output_type": "stream",
     "text": [
      "Model: \"sequential_2\"\n",
      "_________________________________________________________________\n",
      " Layer (type)                Output Shape              Param #   \n",
      "=================================================================\n",
      " resnet50 (Functional)       (None, 2048)              23587712  \n",
      "                                                                 \n",
      " dense_2 (Dense)             (None, 10)                20490     \n",
      "                                                                 \n",
      "=================================================================\n",
      "Total params: 23,608,202\n",
      "Trainable params: 20,490\n",
      "Non-trainable params: 23,587,712\n",
      "_________________________________________________________________\n"
     ]
    }
   ],
   "source": [
    "model = load_model('../Models/NN/model_renet50.h5')\n",
    "model.summary()"
   ],
   "metadata": {
    "collapsed": false,
    "ExecuteTime": {
     "end_time": "2024-07-26T17:54:35.168366900Z",
     "start_time": "2024-07-26T17:54:32.662154800Z"
    }
   },
   "id": "24fb95d055826a96"
  },
  {
   "cell_type": "code",
   "execution_count": 18,
   "outputs": [
    {
     "name": "stdout",
     "output_type": "stream",
     "text": [
      "Warstwa ResNet50 1: input_3, Typ: InputLayer, Shape: [(None, None, None, 3)]\n",
      "Warstwa ResNet50 2: conv1_pad, Typ: ZeroPadding2D, Shape: (None, None, None, 3)\n",
      "Warstwa ResNet50 3: conv1_conv, Typ: Conv2D, Shape: (None, None, None, 64)\n",
      "Warstwa ResNet50 4: conv1_bn, Typ: BatchNormalization, Shape: (None, None, None, 64)\n",
      "Warstwa ResNet50 5: conv1_relu, Typ: Activation, Shape: (None, None, None, 64)\n",
      "Warstwa ResNet50 6: pool1_pad, Typ: ZeroPadding2D, Shape: (None, None, None, 64)\n",
      "Warstwa ResNet50 7: pool1_pool, Typ: MaxPooling2D, Shape: (None, None, None, 64)\n",
      "Warstwa ResNet50 8: conv2_block1_1_conv, Typ: Conv2D, Shape: (None, None, None, 64)\n",
      "Warstwa ResNet50 9: conv2_block1_1_bn, Typ: BatchNormalization, Shape: (None, None, None, 64)\n",
      "Warstwa ResNet50 10: conv2_block1_1_relu, Typ: Activation, Shape: (None, None, None, 64)\n",
      "Warstwa ResNet50 11: conv2_block1_2_conv, Typ: Conv2D, Shape: (None, None, None, 64)\n",
      "Warstwa ResNet50 12: conv2_block1_2_bn, Typ: BatchNormalization, Shape: (None, None, None, 64)\n",
      "Warstwa ResNet50 13: conv2_block1_2_relu, Typ: Activation, Shape: (None, None, None, 64)\n",
      "Warstwa ResNet50 14: conv2_block1_0_conv, Typ: Conv2D, Shape: (None, None, None, 256)\n",
      "Warstwa ResNet50 15: conv2_block1_3_conv, Typ: Conv2D, Shape: (None, None, None, 256)\n",
      "Warstwa ResNet50 16: conv2_block1_0_bn, Typ: BatchNormalization, Shape: (None, None, None, 256)\n",
      "Warstwa ResNet50 17: conv2_block1_3_bn, Typ: BatchNormalization, Shape: (None, None, None, 256)\n",
      "Warstwa ResNet50 18: conv2_block1_add, Typ: Add, Shape: (None, None, None, 256)\n",
      "Warstwa ResNet50 19: conv2_block1_out, Typ: Activation, Shape: (None, None, None, 256)\n",
      "Warstwa ResNet50 20: conv2_block2_1_conv, Typ: Conv2D, Shape: (None, None, None, 64)\n",
      "Warstwa ResNet50 21: conv2_block2_1_bn, Typ: BatchNormalization, Shape: (None, None, None, 64)\n",
      "Warstwa ResNet50 22: conv2_block2_1_relu, Typ: Activation, Shape: (None, None, None, 64)\n",
      "Warstwa ResNet50 23: conv2_block2_2_conv, Typ: Conv2D, Shape: (None, None, None, 64)\n",
      "Warstwa ResNet50 24: conv2_block2_2_bn, Typ: BatchNormalization, Shape: (None, None, None, 64)\n",
      "Warstwa ResNet50 25: conv2_block2_2_relu, Typ: Activation, Shape: (None, None, None, 64)\n",
      "Warstwa ResNet50 26: conv2_block2_3_conv, Typ: Conv2D, Shape: (None, None, None, 256)\n",
      "Warstwa ResNet50 27: conv2_block2_3_bn, Typ: BatchNormalization, Shape: (None, None, None, 256)\n",
      "Warstwa ResNet50 28: conv2_block2_add, Typ: Add, Shape: (None, None, None, 256)\n",
      "Warstwa ResNet50 29: conv2_block2_out, Typ: Activation, Shape: (None, None, None, 256)\n",
      "Warstwa ResNet50 30: conv2_block3_1_conv, Typ: Conv2D, Shape: (None, None, None, 64)\n",
      "Warstwa ResNet50 31: conv2_block3_1_bn, Typ: BatchNormalization, Shape: (None, None, None, 64)\n",
      "Warstwa ResNet50 32: conv2_block3_1_relu, Typ: Activation, Shape: (None, None, None, 64)\n",
      "Warstwa ResNet50 33: conv2_block3_2_conv, Typ: Conv2D, Shape: (None, None, None, 64)\n",
      "Warstwa ResNet50 34: conv2_block3_2_bn, Typ: BatchNormalization, Shape: (None, None, None, 64)\n",
      "Warstwa ResNet50 35: conv2_block3_2_relu, Typ: Activation, Shape: (None, None, None, 64)\n",
      "Warstwa ResNet50 36: conv2_block3_3_conv, Typ: Conv2D, Shape: (None, None, None, 256)\n",
      "Warstwa ResNet50 37: conv2_block3_3_bn, Typ: BatchNormalization, Shape: (None, None, None, 256)\n",
      "Warstwa ResNet50 38: conv2_block3_add, Typ: Add, Shape: (None, None, None, 256)\n",
      "Warstwa ResNet50 39: conv2_block3_out, Typ: Activation, Shape: (None, None, None, 256)\n",
      "Warstwa ResNet50 40: conv3_block1_1_conv, Typ: Conv2D, Shape: (None, None, None, 128)\n",
      "Warstwa ResNet50 41: conv3_block1_1_bn, Typ: BatchNormalization, Shape: (None, None, None, 128)\n",
      "Warstwa ResNet50 42: conv3_block1_1_relu, Typ: Activation, Shape: (None, None, None, 128)\n",
      "Warstwa ResNet50 43: conv3_block1_2_conv, Typ: Conv2D, Shape: (None, None, None, 128)\n",
      "Warstwa ResNet50 44: conv3_block1_2_bn, Typ: BatchNormalization, Shape: (None, None, None, 128)\n",
      "Warstwa ResNet50 45: conv3_block1_2_relu, Typ: Activation, Shape: (None, None, None, 128)\n",
      "Warstwa ResNet50 46: conv3_block1_0_conv, Typ: Conv2D, Shape: (None, None, None, 512)\n",
      "Warstwa ResNet50 47: conv3_block1_3_conv, Typ: Conv2D, Shape: (None, None, None, 512)\n",
      "Warstwa ResNet50 48: conv3_block1_0_bn, Typ: BatchNormalization, Shape: (None, None, None, 512)\n",
      "Warstwa ResNet50 49: conv3_block1_3_bn, Typ: BatchNormalization, Shape: (None, None, None, 512)\n",
      "Warstwa ResNet50 50: conv3_block1_add, Typ: Add, Shape: (None, None, None, 512)\n",
      "Warstwa ResNet50 51: conv3_block1_out, Typ: Activation, Shape: (None, None, None, 512)\n",
      "Warstwa ResNet50 52: conv3_block2_1_conv, Typ: Conv2D, Shape: (None, None, None, 128)\n",
      "Warstwa ResNet50 53: conv3_block2_1_bn, Typ: BatchNormalization, Shape: (None, None, None, 128)\n",
      "Warstwa ResNet50 54: conv3_block2_1_relu, Typ: Activation, Shape: (None, None, None, 128)\n",
      "Warstwa ResNet50 55: conv3_block2_2_conv, Typ: Conv2D, Shape: (None, None, None, 128)\n",
      "Warstwa ResNet50 56: conv3_block2_2_bn, Typ: BatchNormalization, Shape: (None, None, None, 128)\n",
      "Warstwa ResNet50 57: conv3_block2_2_relu, Typ: Activation, Shape: (None, None, None, 128)\n",
      "Warstwa ResNet50 58: conv3_block2_3_conv, Typ: Conv2D, Shape: (None, None, None, 512)\n",
      "Warstwa ResNet50 59: conv3_block2_3_bn, Typ: BatchNormalization, Shape: (None, None, None, 512)\n",
      "Warstwa ResNet50 60: conv3_block2_add, Typ: Add, Shape: (None, None, None, 512)\n",
      "Warstwa ResNet50 61: conv3_block2_out, Typ: Activation, Shape: (None, None, None, 512)\n",
      "Warstwa ResNet50 62: conv3_block3_1_conv, Typ: Conv2D, Shape: (None, None, None, 128)\n",
      "Warstwa ResNet50 63: conv3_block3_1_bn, Typ: BatchNormalization, Shape: (None, None, None, 128)\n",
      "Warstwa ResNet50 64: conv3_block3_1_relu, Typ: Activation, Shape: (None, None, None, 128)\n",
      "Warstwa ResNet50 65: conv3_block3_2_conv, Typ: Conv2D, Shape: (None, None, None, 128)\n",
      "Warstwa ResNet50 66: conv3_block3_2_bn, Typ: BatchNormalization, Shape: (None, None, None, 128)\n",
      "Warstwa ResNet50 67: conv3_block3_2_relu, Typ: Activation, Shape: (None, None, None, 128)\n",
      "Warstwa ResNet50 68: conv3_block3_3_conv, Typ: Conv2D, Shape: (None, None, None, 512)\n",
      "Warstwa ResNet50 69: conv3_block3_3_bn, Typ: BatchNormalization, Shape: (None, None, None, 512)\n",
      "Warstwa ResNet50 70: conv3_block3_add, Typ: Add, Shape: (None, None, None, 512)\n",
      "Warstwa ResNet50 71: conv3_block3_out, Typ: Activation, Shape: (None, None, None, 512)\n",
      "Warstwa ResNet50 72: conv3_block4_1_conv, Typ: Conv2D, Shape: (None, None, None, 128)\n",
      "Warstwa ResNet50 73: conv3_block4_1_bn, Typ: BatchNormalization, Shape: (None, None, None, 128)\n",
      "Warstwa ResNet50 74: conv3_block4_1_relu, Typ: Activation, Shape: (None, None, None, 128)\n",
      "Warstwa ResNet50 75: conv3_block4_2_conv, Typ: Conv2D, Shape: (None, None, None, 128)\n",
      "Warstwa ResNet50 76: conv3_block4_2_bn, Typ: BatchNormalization, Shape: (None, None, None, 128)\n",
      "Warstwa ResNet50 77: conv3_block4_2_relu, Typ: Activation, Shape: (None, None, None, 128)\n",
      "Warstwa ResNet50 78: conv3_block4_3_conv, Typ: Conv2D, Shape: (None, None, None, 512)\n",
      "Warstwa ResNet50 79: conv3_block4_3_bn, Typ: BatchNormalization, Shape: (None, None, None, 512)\n",
      "Warstwa ResNet50 80: conv3_block4_add, Typ: Add, Shape: (None, None, None, 512)\n",
      "Warstwa ResNet50 81: conv3_block4_out, Typ: Activation, Shape: (None, None, None, 512)\n",
      "Warstwa ResNet50 82: conv4_block1_1_conv, Typ: Conv2D, Shape: (None, None, None, 256)\n",
      "Warstwa ResNet50 83: conv4_block1_1_bn, Typ: BatchNormalization, Shape: (None, None, None, 256)\n",
      "Warstwa ResNet50 84: conv4_block1_1_relu, Typ: Activation, Shape: (None, None, None, 256)\n",
      "Warstwa ResNet50 85: conv4_block1_2_conv, Typ: Conv2D, Shape: (None, None, None, 256)\n",
      "Warstwa ResNet50 86: conv4_block1_2_bn, Typ: BatchNormalization, Shape: (None, None, None, 256)\n",
      "Warstwa ResNet50 87: conv4_block1_2_relu, Typ: Activation, Shape: (None, None, None, 256)\n",
      "Warstwa ResNet50 88: conv4_block1_0_conv, Typ: Conv2D, Shape: (None, None, None, 1024)\n",
      "Warstwa ResNet50 89: conv4_block1_3_conv, Typ: Conv2D, Shape: (None, None, None, 1024)\n",
      "Warstwa ResNet50 90: conv4_block1_0_bn, Typ: BatchNormalization, Shape: (None, None, None, 1024)\n",
      "Warstwa ResNet50 91: conv4_block1_3_bn, Typ: BatchNormalization, Shape: (None, None, None, 1024)\n",
      "Warstwa ResNet50 92: conv4_block1_add, Typ: Add, Shape: (None, None, None, 1024)\n",
      "Warstwa ResNet50 93: conv4_block1_out, Typ: Activation, Shape: (None, None, None, 1024)\n",
      "Warstwa ResNet50 94: conv4_block2_1_conv, Typ: Conv2D, Shape: (None, None, None, 256)\n",
      "Warstwa ResNet50 95: conv4_block2_1_bn, Typ: BatchNormalization, Shape: (None, None, None, 256)\n",
      "Warstwa ResNet50 96: conv4_block2_1_relu, Typ: Activation, Shape: (None, None, None, 256)\n",
      "Warstwa ResNet50 97: conv4_block2_2_conv, Typ: Conv2D, Shape: (None, None, None, 256)\n",
      "Warstwa ResNet50 98: conv4_block2_2_bn, Typ: BatchNormalization, Shape: (None, None, None, 256)\n",
      "Warstwa ResNet50 99: conv4_block2_2_relu, Typ: Activation, Shape: (None, None, None, 256)\n",
      "Warstwa ResNet50 100: conv4_block2_3_conv, Typ: Conv2D, Shape: (None, None, None, 1024)\n",
      "Warstwa ResNet50 101: conv4_block2_3_bn, Typ: BatchNormalization, Shape: (None, None, None, 1024)\n",
      "Warstwa ResNet50 102: conv4_block2_add, Typ: Add, Shape: (None, None, None, 1024)\n",
      "Warstwa ResNet50 103: conv4_block2_out, Typ: Activation, Shape: (None, None, None, 1024)\n",
      "Warstwa ResNet50 104: conv4_block3_1_conv, Typ: Conv2D, Shape: (None, None, None, 256)\n",
      "Warstwa ResNet50 105: conv4_block3_1_bn, Typ: BatchNormalization, Shape: (None, None, None, 256)\n",
      "Warstwa ResNet50 106: conv4_block3_1_relu, Typ: Activation, Shape: (None, None, None, 256)\n",
      "Warstwa ResNet50 107: conv4_block3_2_conv, Typ: Conv2D, Shape: (None, None, None, 256)\n",
      "Warstwa ResNet50 108: conv4_block3_2_bn, Typ: BatchNormalization, Shape: (None, None, None, 256)\n",
      "Warstwa ResNet50 109: conv4_block3_2_relu, Typ: Activation, Shape: (None, None, None, 256)\n",
      "Warstwa ResNet50 110: conv4_block3_3_conv, Typ: Conv2D, Shape: (None, None, None, 1024)\n",
      "Warstwa ResNet50 111: conv4_block3_3_bn, Typ: BatchNormalization, Shape: (None, None, None, 1024)\n",
      "Warstwa ResNet50 112: conv4_block3_add, Typ: Add, Shape: (None, None, None, 1024)\n",
      "Warstwa ResNet50 113: conv4_block3_out, Typ: Activation, Shape: (None, None, None, 1024)\n",
      "Warstwa ResNet50 114: conv4_block4_1_conv, Typ: Conv2D, Shape: (None, None, None, 256)\n",
      "Warstwa ResNet50 115: conv4_block4_1_bn, Typ: BatchNormalization, Shape: (None, None, None, 256)\n",
      "Warstwa ResNet50 116: conv4_block4_1_relu, Typ: Activation, Shape: (None, None, None, 256)\n",
      "Warstwa ResNet50 117: conv4_block4_2_conv, Typ: Conv2D, Shape: (None, None, None, 256)\n",
      "Warstwa ResNet50 118: conv4_block4_2_bn, Typ: BatchNormalization, Shape: (None, None, None, 256)\n",
      "Warstwa ResNet50 119: conv4_block4_2_relu, Typ: Activation, Shape: (None, None, None, 256)\n",
      "Warstwa ResNet50 120: conv4_block4_3_conv, Typ: Conv2D, Shape: (None, None, None, 1024)\n",
      "Warstwa ResNet50 121: conv4_block4_3_bn, Typ: BatchNormalization, Shape: (None, None, None, 1024)\n",
      "Warstwa ResNet50 122: conv4_block4_add, Typ: Add, Shape: (None, None, None, 1024)\n",
      "Warstwa ResNet50 123: conv4_block4_out, Typ: Activation, Shape: (None, None, None, 1024)\n",
      "Warstwa ResNet50 124: conv4_block5_1_conv, Typ: Conv2D, Shape: (None, None, None, 256)\n",
      "Warstwa ResNet50 125: conv4_block5_1_bn, Typ: BatchNormalization, Shape: (None, None, None, 256)\n",
      "Warstwa ResNet50 126: conv4_block5_1_relu, Typ: Activation, Shape: (None, None, None, 256)\n",
      "Warstwa ResNet50 127: conv4_block5_2_conv, Typ: Conv2D, Shape: (None, None, None, 256)\n",
      "Warstwa ResNet50 128: conv4_block5_2_bn, Typ: BatchNormalization, Shape: (None, None, None, 256)\n",
      "Warstwa ResNet50 129: conv4_block5_2_relu, Typ: Activation, Shape: (None, None, None, 256)\n",
      "Warstwa ResNet50 130: conv4_block5_3_conv, Typ: Conv2D, Shape: (None, None, None, 1024)\n",
      "Warstwa ResNet50 131: conv4_block5_3_bn, Typ: BatchNormalization, Shape: (None, None, None, 1024)\n",
      "Warstwa ResNet50 132: conv4_block5_add, Typ: Add, Shape: (None, None, None, 1024)\n",
      "Warstwa ResNet50 133: conv4_block5_out, Typ: Activation, Shape: (None, None, None, 1024)\n",
      "Warstwa ResNet50 134: conv4_block6_1_conv, Typ: Conv2D, Shape: (None, None, None, 256)\n",
      "Warstwa ResNet50 135: conv4_block6_1_bn, Typ: BatchNormalization, Shape: (None, None, None, 256)\n",
      "Warstwa ResNet50 136: conv4_block6_1_relu, Typ: Activation, Shape: (None, None, None, 256)\n",
      "Warstwa ResNet50 137: conv4_block6_2_conv, Typ: Conv2D, Shape: (None, None, None, 256)\n",
      "Warstwa ResNet50 138: conv4_block6_2_bn, Typ: BatchNormalization, Shape: (None, None, None, 256)\n",
      "Warstwa ResNet50 139: conv4_block6_2_relu, Typ: Activation, Shape: (None, None, None, 256)\n",
      "Warstwa ResNet50 140: conv4_block6_3_conv, Typ: Conv2D, Shape: (None, None, None, 1024)\n",
      "Warstwa ResNet50 141: conv4_block6_3_bn, Typ: BatchNormalization, Shape: (None, None, None, 1024)\n",
      "Warstwa ResNet50 142: conv4_block6_add, Typ: Add, Shape: (None, None, None, 1024)\n",
      "Warstwa ResNet50 143: conv4_block6_out, Typ: Activation, Shape: (None, None, None, 1024)\n",
      "Warstwa ResNet50 144: conv5_block1_1_conv, Typ: Conv2D, Shape: (None, None, None, 512)\n",
      "Warstwa ResNet50 145: conv5_block1_1_bn, Typ: BatchNormalization, Shape: (None, None, None, 512)\n",
      "Warstwa ResNet50 146: conv5_block1_1_relu, Typ: Activation, Shape: (None, None, None, 512)\n",
      "Warstwa ResNet50 147: conv5_block1_2_conv, Typ: Conv2D, Shape: (None, None, None, 512)\n",
      "Warstwa ResNet50 148: conv5_block1_2_bn, Typ: BatchNormalization, Shape: (None, None, None, 512)\n",
      "Warstwa ResNet50 149: conv5_block1_2_relu, Typ: Activation, Shape: (None, None, None, 512)\n",
      "Warstwa ResNet50 150: conv5_block1_0_conv, Typ: Conv2D, Shape: (None, None, None, 2048)\n",
      "Warstwa ResNet50 151: conv5_block1_3_conv, Typ: Conv2D, Shape: (None, None, None, 2048)\n",
      "Warstwa ResNet50 152: conv5_block1_0_bn, Typ: BatchNormalization, Shape: (None, None, None, 2048)\n",
      "Warstwa ResNet50 153: conv5_block1_3_bn, Typ: BatchNormalization, Shape: (None, None, None, 2048)\n",
      "Warstwa ResNet50 154: conv5_block1_add, Typ: Add, Shape: (None, None, None, 2048)\n",
      "Warstwa ResNet50 155: conv5_block1_out, Typ: Activation, Shape: (None, None, None, 2048)\n",
      "Warstwa ResNet50 156: conv5_block2_1_conv, Typ: Conv2D, Shape: (None, None, None, 512)\n",
      "Warstwa ResNet50 157: conv5_block2_1_bn, Typ: BatchNormalization, Shape: (None, None, None, 512)\n",
      "Warstwa ResNet50 158: conv5_block2_1_relu, Typ: Activation, Shape: (None, None, None, 512)\n",
      "Warstwa ResNet50 159: conv5_block2_2_conv, Typ: Conv2D, Shape: (None, None, None, 512)\n",
      "Warstwa ResNet50 160: conv5_block2_2_bn, Typ: BatchNormalization, Shape: (None, None, None, 512)\n",
      "Warstwa ResNet50 161: conv5_block2_2_relu, Typ: Activation, Shape: (None, None, None, 512)\n",
      "Warstwa ResNet50 162: conv5_block2_3_conv, Typ: Conv2D, Shape: (None, None, None, 2048)\n",
      "Warstwa ResNet50 163: conv5_block2_3_bn, Typ: BatchNormalization, Shape: (None, None, None, 2048)\n",
      "Warstwa ResNet50 164: conv5_block2_add, Typ: Add, Shape: (None, None, None, 2048)\n",
      "Warstwa ResNet50 165: conv5_block2_out, Typ: Activation, Shape: (None, None, None, 2048)\n",
      "Warstwa ResNet50 166: conv5_block3_1_conv, Typ: Conv2D, Shape: (None, None, None, 512)\n",
      "Warstwa ResNet50 167: conv5_block3_1_bn, Typ: BatchNormalization, Shape: (None, None, None, 512)\n",
      "Warstwa ResNet50 168: conv5_block3_1_relu, Typ: Activation, Shape: (None, None, None, 512)\n",
      "Warstwa ResNet50 169: conv5_block3_2_conv, Typ: Conv2D, Shape: (None, None, None, 512)\n",
      "Warstwa ResNet50 170: conv5_block3_2_bn, Typ: BatchNormalization, Shape: (None, None, None, 512)\n",
      "Warstwa ResNet50 171: conv5_block3_2_relu, Typ: Activation, Shape: (None, None, None, 512)\n",
      "Warstwa ResNet50 172: conv5_block3_3_conv, Typ: Conv2D, Shape: (None, None, None, 2048)\n",
      "Warstwa ResNet50 173: conv5_block3_3_bn, Typ: BatchNormalization, Shape: (None, None, None, 2048)\n",
      "Warstwa ResNet50 174: conv5_block3_add, Typ: Add, Shape: (None, None, None, 2048)\n",
      "Warstwa ResNet50 175: conv5_block3_out, Typ: Activation, Shape: (None, None, None, 2048)\n",
      "Warstwa ResNet50 176: avg_pool, Typ: GlobalAveragePooling2D, Shape: (None, 2048)\n"
     ]
    }
   ],
   "source": [
    "resnet50_layers = model.layers[0].layers\n",
    "for i, warstwa in enumerate(resnet50_layers):\n",
    "    print(f'Warstwa ResNet50 {i + 1}: {warstwa.name}, Typ: {warstwa.__class__.__name__}, Shape: {warstwa.output_shape}')\n"
   ],
   "metadata": {
    "collapsed": false,
    "ExecuteTime": {
     "end_time": "2024-07-26T17:54:35.172366200Z",
     "start_time": "2024-07-26T17:54:35.144367200Z"
    }
   },
   "id": "1a72e779b9ae01c9"
  },
  {
   "cell_type": "code",
   "execution_count": 19,
   "outputs": [],
   "source": [
    "resnet_model = model.get_layer('resnet50')\n",
    "\n",
    "output_layer = 'conv4_block1_2_conv'\n",
    "\n",
    "layer = resnet_model.get_layer(output_layer)\n",
    "weights = layer.get_weights()[0]\n",
    "biases = layer.get_weights()[1] "
   ],
   "metadata": {
    "collapsed": false,
    "ExecuteTime": {
     "end_time": "2024-07-26T17:54:35.196375100Z",
     "start_time": "2024-07-26T17:54:35.174367300Z"
    }
   },
   "id": "270d00d5abaa413e"
  },
  {
   "cell_type": "code",
   "execution_count": 20,
   "outputs": [
    {
     "data": {
      "text/plain": "(3, 3, 256, 256)"
     },
     "execution_count": 20,
     "metadata": {},
     "output_type": "execute_result"
    }
   ],
   "source": [
    "weights.shape"
   ],
   "metadata": {
    "collapsed": false,
    "ExecuteTime": {
     "end_time": "2024-07-26T17:54:35.248370700Z",
     "start_time": "2024-07-26T17:54:35.190368200Z"
    }
   },
   "id": "3c0e2545d8fe22da"
  },
  {
   "cell_type": "code",
   "execution_count": 21,
   "outputs": [
    {
     "data": {
      "text/plain": "(256,)"
     },
     "execution_count": 21,
     "metadata": {},
     "output_type": "execute_result"
    }
   ],
   "source": [
    "biases.shape"
   ],
   "metadata": {
    "collapsed": false,
    "ExecuteTime": {
     "end_time": "2024-07-26T17:54:35.262365900Z",
     "start_time": "2024-07-26T17:54:35.204368500Z"
    }
   },
   "id": "d6e282866a51137b"
  },
  {
   "cell_type": "code",
   "execution_count": 58,
   "outputs": [],
   "source": [
    "def prune_filter(original_model, cut_off_layer_name, indexes):\n",
    "    layer_to_prune = original_model.get_layer(cut_off_layer_name)\n",
    "    all_layers = original_model.layers\n",
    "    layer_to_prune_index = all_layers.index(layer_to_prune)\n",
    "\n",
    "    # Find previous and next layers\n",
    "    previous_layer = next((layer for layer in all_layers[:layer_to_prune_index][::-1] if isinstance(layer, Conv2D)), None)\n",
    "    next_layer = next((layer for layer in all_layers[layer_to_prune_index + 1:] if isinstance(layer, Add)), None)\n",
    "    \n",
    "    # Models to slice the original model\n",
    "    model_prev = Model(inputs=original_model.input, outputs=previous_layer.output)\n",
    "    model_to_prune = Model(inputs=previous_layer.output, outputs=next_layer.output)\n",
    "    model_next = Model(inputs=next_layer.output, outputs=original_model.output)\n",
    "    \n",
    "    combined_input = Input(shape=model_prev.input_shape[1:])\n",
    "    output_prev = model_prev(combined_input)\n",
    "    \n",
    "    # Create pruned layer\n",
    "    config = layer_to_prune.get_config()\n",
    "    config['filters'] = len(indexes)\n",
    "    \n",
    "    new_layer = Conv2D(**config)\n",
    "    input_shape = layer_to_prune.input_shape\n",
    "    new_layer.build(input_shape)\n",
    "    \n",
    "    weights = layer_to_prune.get_weights()[0][:, :, :, indexes]\n",
    "    if len(layer_to_prune.get_weights()) > 1:\n",
    "        biases = layer_to_prune.get_weights()[1][indexes]\n",
    "        new_weights = [weights, biases]\n",
    "    else:\n",
    "        new_weights = [weights]\n",
    "    new_layer.set_weights(new_weights)\n",
    "    \n",
    "    x = output_prev\n",
    "    for layer in model_to_prune.layers:\n",
    "        if layer.name == cut_off_layer_name:\n",
    "            x = new_layer(x)\n",
    "            x = Conv2D(filters=256, kernel_size=(1, 1), name='adaptation_conv')(x)\n",
    "        elif isinstance(layer, Conv2D):\n",
    "            x = Conv2D(\n",
    "                filters=layer.filters,\n",
    "                kernel_size=layer.kernel_size,\n",
    "                strides=layer.strides,\n",
    "                padding=layer.padding,\n",
    "                activation=None,\n",
    "                use_bias=layer.use_bias,\n",
    "                kernel_initializer=layer.kernel_initializer,\n",
    "                bias_initializer=layer.bias_initializer\n",
    "            )(x)\n",
    "        elif isinstance(layer, BatchNormalization):\n",
    "            x = BatchNormalization()(x)\n",
    "        elif isinstance(layer, Activation):\n",
    "            x = Activation(layer.activation)(x)\n",
    "        elif isinstance(layer, Add):\n",
    "            # Handling Add layer to connect branches\n",
    "            skip_connection = x\n",
    "            x = layer.input[1]\n",
    "            x = Conv2D(\n",
    "                filters=skip_connection.shape[-1],\n",
    "                kernel_size=(1, 1),\n",
    "                strides=(1, 1),\n",
    "                padding='same',\n",
    "                use_bias=False\n",
    "            )(x)\n",
    "            x = BatchNormalization()(x)\n",
    "            x = Add()([skip_connection, x])\n",
    "\n",
    "    output_next = model_next(x)\n",
    "    pruned_model = Model(inputs=combined_input, outputs=output_next)\n",
    "    print(pruned_model.summary())\n",
    "\n",
    "    new_model = Sequential()\n",
    "    new_model.add(model_prev)\n",
    "    new_model.add(pruned_model)\n",
    "    new_model.add(model_next)\n",
    "    return new_model\n"
   ],
   "metadata": {
    "collapsed": false,
    "ExecuteTime": {
     "end_time": "2024-07-26T23:00:28.668856200Z",
     "start_time": "2024-07-26T23:00:28.644857600Z"
    }
   },
   "id": "5e72c626b4c177ae"
  },
  {
   "cell_type": "code",
   "execution_count": 23,
   "outputs": [
    {
     "data": {
      "text/plain": "(3, 3, 256, 256)"
     },
     "execution_count": 23,
     "metadata": {},
     "output_type": "execute_result"
    }
   ],
   "source": [
    "weights.shape"
   ],
   "metadata": {
    "collapsed": false,
    "ExecuteTime": {
     "end_time": "2024-07-26T17:54:35.280365500Z",
     "start_time": "2024-07-26T17:54:35.251367500Z"
    }
   },
   "id": "ac3df663de83e50b"
  },
  {
   "cell_type": "code",
   "execution_count": 24,
   "outputs": [
    {
     "data": {
      "text/plain": "(256, 2304)"
     },
     "execution_count": 24,
     "metadata": {},
     "output_type": "execute_result"
    }
   ],
   "source": [
    "weights_list = weights.reshape(256, -1)\n",
    "weights_list.shape"
   ],
   "metadata": {
    "collapsed": false,
    "ExecuteTime": {
     "end_time": "2024-07-26T17:54:35.356363900Z",
     "start_time": "2024-07-26T17:54:35.268374700Z"
    }
   },
   "id": "265256c59192e745"
  },
  {
   "cell_type": "code",
   "execution_count": 25,
   "outputs": [],
   "source": [
    "# from sklearn.cluster import KMeans\n",
    "# \n",
    "# k = 100  # Liczba klastrów\n",
    "# knn = KMeans(n_clusters=k)\n",
    "# knn.fit(weights_list)\n",
    "# klastry = knn.labels_\n",
    "# \n",
    "# indexes = []\n",
    "# for i in range(k):\n",
    "#     indeksy_klastra = np.where(klastry == i)[0]\n",
    "#     losowy_indeks = np.random.choice(indeksy_klastra)\n",
    "#     indexes.append(losowy_indeks)\n",
    "# \n",
    "# pruned_model = prune_filter(resnet_model, output_layer, indexes)"
   ],
   "metadata": {
    "collapsed": false,
    "ExecuteTime": {
     "end_time": "2024-07-26T17:54:35.367366300Z",
     "start_time": "2024-07-26T17:54:35.289370100Z"
    }
   },
   "id": "c6e8a30ef33b2eb5"
  },
  {
   "cell_type": "code",
   "execution_count": 26,
   "outputs": [],
   "source": [
    "# dbscan = DBSCAN(eps=0.9, min_samples=1)\n",
    "# dbscan.fit(weights_list)\n",
    "# \n",
    "# \n",
    "# cluster_indices = np.unique(dbscan.labels_)\n",
    "# \n",
    "# indexes = []\n",
    "# for cluster_index in cluster_indices:\n",
    "#     cluster_points = np.where(dbscan.labels_ == cluster_index)[0]\n",
    "#     index = np.random.choice(cluster_points)\n",
    "#     indexes.append(index)\n",
    "#     \n",
    "# pruned_model = prune_filter(resnet_model, output_layer, indexes)"
   ],
   "metadata": {
    "collapsed": false,
    "ExecuteTime": {
     "end_time": "2024-07-26T17:54:35.368367900Z",
     "start_time": "2024-07-26T17:54:35.299367700Z"
    }
   },
   "id": "31ca3f89bbef9a5c"
  },
  {
   "cell_type": "code",
   "execution_count": 27,
   "outputs": [],
   "source": [
    "def extract_feature_maps(model_, layer_name, input_data):\n",
    "    intermediate_layer_model = Model(inputs=model_.input, outputs=model_.get_layer(layer_name).output)\n",
    "    intermediate_output = intermediate_layer_model.predict(input_data)\n",
    "    return intermediate_output"
   ],
   "metadata": {
    "collapsed": false,
    "ExecuteTime": {
     "end_time": "2024-07-26T17:54:35.368367900Z",
     "start_time": "2024-07-26T17:54:35.314381Z"
    }
   },
   "id": "ce13e31fb8e56181"
  },
  {
   "cell_type": "code",
   "execution_count": 28,
   "outputs": [],
   "source": [
    "(train_X, train_y), (test_X, test_y) = mnist.load_data()\n",
    "train_X = np.expand_dims(train_X, axis=-1)\n",
    "train_X = np.repeat(train_X, 3, axis=-1)\n",
    "train_X = np.pad(train_X, ((0, 0), (2, 2), (2, 2), (0, 0)), mode='constant')\n",
    "train_y = to_categorical(train_y, 10)"
   ],
   "metadata": {
    "collapsed": false,
    "ExecuteTime": {
     "end_time": "2024-07-26T17:54:36.240366900Z",
     "start_time": "2024-07-26T17:54:35.331368600Z"
    }
   },
   "id": "7d62c5394143a893"
  },
  {
   "cell_type": "code",
   "execution_count": 30,
   "outputs": [
    {
     "name": "stdout",
     "output_type": "stream",
     "text": [
      "1/1 [==============================] - 1s 555ms/step\n"
     ]
    }
   ],
   "source": [
    "feature_maps = extract_feature_maps(resnet_model, output_layer, np.random.rand(1, 224, 224, 3))"
   ],
   "metadata": {
    "collapsed": false,
    "ExecuteTime": {
     "end_time": "2024-07-26T17:59:40.390598800Z",
     "start_time": "2024-07-26T17:59:39.752598700Z"
    }
   },
   "id": "54f5ebe6fa157b21"
  },
  {
   "cell_type": "code",
   "execution_count": 31,
   "outputs": [],
   "source": [
    "num_samples, height, width, num_filters = feature_maps.shape\n",
    "feature_maps_flattened = feature_maps.reshape((num_samples, height * width, num_filters))\n",
    "\n",
    "# Reshape to (num_samples * height * width, num_filters) for clustering\n",
    "weights_list = feature_maps_flattened.reshape((num_filters,-1 ))"
   ],
   "metadata": {
    "collapsed": false,
    "ExecuteTime": {
     "end_time": "2024-07-26T17:59:54.371808400Z",
     "start_time": "2024-07-26T17:59:54.352799400Z"
    }
   },
   "id": "208ffad2d0e1c55"
  },
  {
   "cell_type": "code",
   "execution_count": 32,
   "outputs": [
    {
     "data": {
      "text/plain": "(256, 196)"
     },
     "execution_count": 32,
     "metadata": {},
     "output_type": "execute_result"
    }
   ],
   "source": [
    "weights_list.shape"
   ],
   "metadata": {
    "collapsed": false,
    "ExecuteTime": {
     "end_time": "2024-07-26T18:00:28.580415500Z",
     "start_time": "2024-07-26T18:00:28.566416800Z"
    }
   },
   "id": "4c45b231465f91b9"
  },
  {
   "cell_type": "code",
   "execution_count": 42,
   "outputs": [
    {
     "name": "stdout",
     "output_type": "stream",
     "text": [
      "0\n",
      "Max_d:  28.799713\n",
      "Avg distances:  19.70332\n",
      "Sigma:  1.6942488\n",
      "x_d:  [15.79039877]\n",
      "Cluster 1: [132, 4, 43, 68, 157, 171, 196, 107, 235, 29, 93, 221]\n",
      "Cluster 2: [59, 123, 187, 251]\n",
      "Cluster 3: [77, 13, 102, 141, 205, 38, 166, 230]\n",
      "Cluster 4: [64, 0, 128, 192]\n",
      "Cluster 5: [86, 22, 150, 214]\n",
      "Cluster 6: [58, 122, 186, 250]\n",
      "Cluster 7: [62, 126, 190, 254]\n",
      "Cluster 8: [65, 1, 129, 193]\n",
      "Cluster 9: [57, 121, 185, 249]\n",
      "Cluster 10: [61, 125, 189, 253]\n",
      "Cluster 11: [63, 191, 255, 127]\n",
      "Cluster 12: [60, 51, 85, 124, 149, 188, 213, 252, 115, 154, 179, 243, 21, 46, 174, 76, 140, 204, 26, 90, 218, 110, 238, 12]\n",
      "Cluster 13: [56, 120, 184, 248]\n",
      "Cluster 14: [66, 2, 130, 194]\n",
      "Cluster 15: [55, 119, 183, 247, 80, 94, 158, 208, 16, 144, 30, 222]\n",
      "Cluster 16: [73, 9, 137, 201]\n",
      "Cluster 17: [195, 3, 67, 131]\n",
      "Cluster 18: [197, 5, 69, 133]\n",
      "Cluster 19: [71, 7, 135, 199]\n",
      "Cluster 20: [72, 200]\n",
      "Cluster 21: [114, 50, 178, 242]\n",
      "Cluster 22: [70, 6, 134, 198]\n",
      "Cluster 23: [95, 31, 159, 223]\n",
      "Cluster 24: [81, 209]\n",
      "Cluster 25: [87, 23, 151, 215]\n",
      "Cluster 26: [74, 10, 138, 202]\n",
      "Cluster 27: [78, 14, 142, 206]\n",
      "Cluster 28: [82, 18, 146, 210]\n",
      "Cluster 29: [75, 11, 139, 203]\n",
      "Cluster 30: [88, 24, 152, 216]\n",
      "Cluster 31: [79, 15, 143, 207]\n",
      "Cluster 32: [83, 19, 147, 211]\n",
      "Cluster 33: [84, 20, 148, 212]\n",
      "Cluster 34: [105, 41, 169, 233]\n",
      "Cluster 35: [89, 25, 153, 217]\n",
      "Cluster 36: [113, 49, 177, 241]\n",
      "Cluster 37: [168, 40, 104, 232]\n",
      "Cluster 38: [96, 32, 160, 224]\n",
      "Cluster 39: [170, 42, 106, 234]\n",
      "Cluster 40: [37, 101, 165, 229]\n",
      "Cluster 41: [54, 182]\n",
      "Cluster 42: [97, 33, 136, 161, 225, 8]\n",
      "Cluster 43: [53, 117, 181, 245]\n",
      "Cluster 44: [47, 111, 175, 239]\n",
      "Cluster 45: [167, 39, 103, 231]\n",
      "Cluster 46: [52, 116, 180, 244]\n",
      "Cluster 47: [44, 108, 172, 236]\n",
      "Cluster 48: [45, 109, 173, 237]\n",
      "Cluster 49: [48, 112, 176, 240]\n",
      "Cluster 50: [17, 145]\n",
      "Cluster 51: [27, 91, 155, 219]\n",
      "Cluster 52: [28, 92, 156, 220]\n",
      "Cluster 53: [34, 98, 162, 226]\n",
      "Cluster 54: [35, 99, 163, 227]\n",
      "Cluster 55: [36, 100, 164, 228]\n",
      "Cluster 56: [118, 246]\n"
     ]
    }
   ],
   "source": [
    "from sklearn.decomposition import PCA\n",
    "from CGA.cluster_CGA import cluster_algorithm\n",
    "from CGA.CGA import complete_gradient_algorithm\n",
    "\n",
    "pca = PCA(n_components=10)\n",
    "data = pca.fit_transform(weights_list)\n",
    "\n",
    "scaler = StandardScaler()\n",
    "data = scaler.fit_transform(weights_list)\n",
    "x, h, s = complete_gradient_algorithm(data)\n",
    "\n",
    "x = scaler.fit_transform(x)\n",
    "z = cluster_algorithm(x, h, s, data)"
   ],
   "metadata": {
    "collapsed": false,
    "ExecuteTime": {
     "end_time": "2024-07-26T22:11:03.792893100Z",
     "start_time": "2024-07-26T20:39:06.808950Z"
    }
   },
   "id": "86b22064390a385b"
  },
  {
   "cell_type": "code",
   "execution_count": 59,
   "outputs": [
    {
     "ename": "ValueError",
     "evalue": "Found input tensor cannot be reached given provided output tensors. Please make sure the tensor KerasTensor(type_spec=TensorSpec(shape=(None, None, None, 3), dtype=tf.float32, name='input_3'), name='input_3', description=\"created by layer 'input_3'\") is included in the model inputs when building functional model.",
     "output_type": "error",
     "traceback": [
      "\u001B[1;31m---------------------------------------------------------------------------\u001B[0m",
      "\u001B[1;31mValueError\u001B[0m                                Traceback (most recent call last)",
      "Cell \u001B[1;32mIn [59], line 4\u001B[0m\n\u001B[0;32m      1\u001B[0m \u001B[38;5;28;01mimport\u001B[39;00m \u001B[38;5;21;01mrandom\u001B[39;00m\n\u001B[0;32m      3\u001B[0m indexes \u001B[38;5;241m=\u001B[39m [random\u001B[38;5;241m.\u001B[39mchoice(l) \u001B[38;5;28;01mfor\u001B[39;00m l \u001B[38;5;129;01min\u001B[39;00m z]\n\u001B[1;32m----> 4\u001B[0m pruned_model \u001B[38;5;241m=\u001B[39m \u001B[43mprune_filter\u001B[49m\u001B[43m(\u001B[49m\u001B[43mresnet_model\u001B[49m\u001B[43m,\u001B[49m\u001B[43m \u001B[49m\u001B[43moutput_layer\u001B[49m\u001B[43m,\u001B[49m\u001B[43m \u001B[49m\u001B[43mindexes\u001B[49m\u001B[43m)\u001B[49m\n",
      "Cell \u001B[1;32mIn [58], line 12\u001B[0m, in \u001B[0;36mprune_filter\u001B[1;34m(original_model, cut_off_layer_name, indexes)\u001B[0m\n\u001B[0;32m     10\u001B[0m \u001B[38;5;66;03m# Models to slice the original model\u001B[39;00m\n\u001B[0;32m     11\u001B[0m model_prev \u001B[38;5;241m=\u001B[39m Model(inputs\u001B[38;5;241m=\u001B[39moriginal_model\u001B[38;5;241m.\u001B[39minput, outputs\u001B[38;5;241m=\u001B[39mprevious_layer\u001B[38;5;241m.\u001B[39moutput)\n\u001B[1;32m---> 12\u001B[0m model_to_prune \u001B[38;5;241m=\u001B[39m \u001B[43mModel\u001B[49m\u001B[43m(\u001B[49m\u001B[43minputs\u001B[49m\u001B[38;5;241;43m=\u001B[39;49m\u001B[43mprevious_layer\u001B[49m\u001B[38;5;241;43m.\u001B[39;49m\u001B[43moutput\u001B[49m\u001B[43m,\u001B[49m\u001B[43m \u001B[49m\u001B[43moutputs\u001B[49m\u001B[38;5;241;43m=\u001B[39;49m\u001B[43mnext_layer\u001B[49m\u001B[38;5;241;43m.\u001B[39;49m\u001B[43moutput\u001B[49m\u001B[43m)\u001B[49m\n\u001B[0;32m     13\u001B[0m model_next \u001B[38;5;241m=\u001B[39m Model(inputs\u001B[38;5;241m=\u001B[39mnext_layer\u001B[38;5;241m.\u001B[39moutput, outputs\u001B[38;5;241m=\u001B[39moriginal_model\u001B[38;5;241m.\u001B[39moutput)\n\u001B[0;32m     15\u001B[0m combined_input \u001B[38;5;241m=\u001B[39m Input(shape\u001B[38;5;241m=\u001B[39mmodel_prev\u001B[38;5;241m.\u001B[39minput_shape[\u001B[38;5;241m1\u001B[39m:])\n",
      "File \u001B[1;32m~\\AppData\\Local\\Programs\\Python\\Python39\\lib\\site-packages\\tensorflow\\python\\trackable\\base.py:205\u001B[0m, in \u001B[0;36mno_automatic_dependency_tracking.<locals>._method_wrapper\u001B[1;34m(self, *args, **kwargs)\u001B[0m\n\u001B[0;32m    203\u001B[0m \u001B[38;5;28mself\u001B[39m\u001B[38;5;241m.\u001B[39m_self_setattr_tracking \u001B[38;5;241m=\u001B[39m \u001B[38;5;28;01mFalse\u001B[39;00m  \u001B[38;5;66;03m# pylint: disable=protected-access\u001B[39;00m\n\u001B[0;32m    204\u001B[0m \u001B[38;5;28;01mtry\u001B[39;00m:\n\u001B[1;32m--> 205\u001B[0m   result \u001B[38;5;241m=\u001B[39m method(\u001B[38;5;28mself\u001B[39m, \u001B[38;5;241m*\u001B[39margs, \u001B[38;5;241m*\u001B[39m\u001B[38;5;241m*\u001B[39mkwargs)\n\u001B[0;32m    206\u001B[0m \u001B[38;5;28;01mfinally\u001B[39;00m:\n\u001B[0;32m    207\u001B[0m   \u001B[38;5;28mself\u001B[39m\u001B[38;5;241m.\u001B[39m_self_setattr_tracking \u001B[38;5;241m=\u001B[39m previous_value  \u001B[38;5;66;03m# pylint: disable=protected-access\u001B[39;00m\n",
      "File \u001B[1;32m~\\AppData\\Local\\Programs\\Python\\Python39\\lib\\site-packages\\keras\\engine\\functional.py:162\u001B[0m, in \u001B[0;36mFunctional.__init__\u001B[1;34m(self, inputs, outputs, name, trainable, **kwargs)\u001B[0m\n\u001B[0;32m    155\u001B[0m \u001B[38;5;28;01mif\u001B[39;00m tf\u001B[38;5;241m.\u001B[39mcompat\u001B[38;5;241m.\u001B[39mv1\u001B[38;5;241m.\u001B[39mexecuting_eagerly_outside_functions():\n\u001B[0;32m    156\u001B[0m     \u001B[38;5;28;01mif\u001B[39;00m \u001B[38;5;129;01mnot\u001B[39;00m \u001B[38;5;28mall\u001B[39m(\n\u001B[0;32m    157\u001B[0m         [\n\u001B[0;32m    158\u001B[0m             functional_utils\u001B[38;5;241m.\u001B[39mis_input_keras_tensor(t)\n\u001B[0;32m    159\u001B[0m             \u001B[38;5;28;01mfor\u001B[39;00m t \u001B[38;5;129;01min\u001B[39;00m tf\u001B[38;5;241m.\u001B[39mnest\u001B[38;5;241m.\u001B[39mflatten(inputs)\n\u001B[0;32m    160\u001B[0m         ]\n\u001B[0;32m    161\u001B[0m     ):\n\u001B[1;32m--> 162\u001B[0m         inputs, outputs \u001B[38;5;241m=\u001B[39m \u001B[43mfunctional_utils\u001B[49m\u001B[38;5;241;43m.\u001B[39;49m\u001B[43mclone_graph_nodes\u001B[49m\u001B[43m(\u001B[49m\n\u001B[0;32m    163\u001B[0m \u001B[43m            \u001B[49m\u001B[43minputs\u001B[49m\u001B[43m,\u001B[49m\u001B[43m \u001B[49m\u001B[43moutputs\u001B[49m\n\u001B[0;32m    164\u001B[0m \u001B[43m        \u001B[49m\u001B[43m)\u001B[49m\n\u001B[0;32m    165\u001B[0m \u001B[38;5;28mself\u001B[39m\u001B[38;5;241m.\u001B[39m_init_graph_network(inputs, outputs)\n",
      "File \u001B[1;32m~\\AppData\\Local\\Programs\\Python\\Python39\\lib\\site-packages\\keras\\engine\\functional_utils.py:155\u001B[0m, in \u001B[0;36mclone_graph_nodes\u001B[1;34m(inputs, outputs)\u001B[0m\n\u001B[0;32m    136\u001B[0m \u001B[38;5;28;01mdef\u001B[39;00m \u001B[38;5;21mclone_graph_nodes\u001B[39m(inputs, outputs):\n\u001B[0;32m    137\u001B[0m     \u001B[38;5;124;03m\"\"\"Clone the `Node` between the inputs and output tensors.\u001B[39;00m\n\u001B[0;32m    138\u001B[0m \n\u001B[0;32m    139\u001B[0m \u001B[38;5;124;03m    This function is used to create a new functional model from any intermediate\u001B[39;00m\n\u001B[1;32m   (...)\u001B[0m\n\u001B[0;32m    153\u001B[0m \u001B[38;5;124;03m      to create a new functional model.\u001B[39;00m\n\u001B[0;32m    154\u001B[0m \u001B[38;5;124;03m    \"\"\"\u001B[39;00m\n\u001B[1;32m--> 155\u001B[0m     nodes_to_clone \u001B[38;5;241m=\u001B[39m \u001B[43mfind_nodes_by_inputs_and_outputs\u001B[49m\u001B[43m(\u001B[49m\u001B[43minputs\u001B[49m\u001B[43m,\u001B[49m\u001B[43m \u001B[49m\u001B[43moutputs\u001B[49m\u001B[43m)\u001B[49m\n\u001B[0;32m    156\u001B[0m     cloned_inputs \u001B[38;5;241m=\u001B[39m []\n\u001B[0;32m    157\u001B[0m     cloned_outputs \u001B[38;5;241m=\u001B[39m []\n",
      "File \u001B[1;32m~\\AppData\\Local\\Programs\\Python\\Python39\\lib\\site-packages\\keras\\engine\\functional_utils.py:115\u001B[0m, in \u001B[0;36mfind_nodes_by_inputs_and_outputs\u001B[1;34m(inputs, outputs)\u001B[0m\n\u001B[0;32m    110\u001B[0m         \u001B[38;5;66;03m# In case this is the tf.keras.Input node, we have reached the end\u001B[39;00m\n\u001B[0;32m    111\u001B[0m         \u001B[38;5;66;03m# of the tracing of upstream nodes. Any further tracing will just be\u001B[39;00m\n\u001B[0;32m    112\u001B[0m         \u001B[38;5;66;03m# an infinite loop. we should raise an error here since we didn't\u001B[39;00m\n\u001B[0;32m    113\u001B[0m         \u001B[38;5;66;03m# find the input in the user-specified inputs.\u001B[39;00m\n\u001B[0;32m    114\u001B[0m         \u001B[38;5;28;01mif\u001B[39;00m inbound_node\u001B[38;5;241m.\u001B[39mis_input:\n\u001B[1;32m--> 115\u001B[0m             \u001B[38;5;28;01mraise\u001B[39;00m \u001B[38;5;167;01mValueError\u001B[39;00m(\n\u001B[0;32m    116\u001B[0m                 \u001B[38;5;124m\"\u001B[39m\u001B[38;5;124mFound input tensor cannot be reached given provided \u001B[39m\u001B[38;5;124m\"\u001B[39m\n\u001B[0;32m    117\u001B[0m                 \u001B[38;5;124m\"\u001B[39m\u001B[38;5;124moutput tensors. Please make sure the tensor \u001B[39m\u001B[38;5;132;01m{}\u001B[39;00m\u001B[38;5;124m is \u001B[39m\u001B[38;5;124m\"\u001B[39m\n\u001B[0;32m    118\u001B[0m                 \u001B[38;5;124m\"\u001B[39m\u001B[38;5;124mincluded in the model inputs when building \u001B[39m\u001B[38;5;124m\"\u001B[39m\n\u001B[0;32m    119\u001B[0m                 \u001B[38;5;124m\"\u001B[39m\u001B[38;5;124mfunctional model.\u001B[39m\u001B[38;5;124m\"\u001B[39m\u001B[38;5;241m.\u001B[39mformat(kt)\n\u001B[0;32m    120\u001B[0m             )\n\u001B[0;32m    121\u001B[0m         nodes_to_visit\u001B[38;5;241m.\u001B[39mappend(inbound_node)\n\u001B[0;32m    123\u001B[0m \u001B[38;5;66;03m# Do a final check and make sure we have reached all the user-specified\u001B[39;00m\n\u001B[0;32m    124\u001B[0m \u001B[38;5;66;03m# inputs\u001B[39;00m\n",
      "\u001B[1;31mValueError\u001B[0m: Found input tensor cannot be reached given provided output tensors. Please make sure the tensor KerasTensor(type_spec=TensorSpec(shape=(None, None, None, 3), dtype=tf.float32, name='input_3'), name='input_3', description=\"created by layer 'input_3'\") is included in the model inputs when building functional model."
     ]
    }
   ],
   "source": [
    "import random\n",
    "\n",
    "indexes = [random.choice(l) for l in z]\n",
    "pruned_model = prune_filter(resnet_model, output_layer, indexes)"
   ],
   "metadata": {
    "collapsed": false,
    "ExecuteTime": {
     "end_time": "2024-07-26T23:00:44.860138800Z",
     "start_time": "2024-07-26T23:00:44.713137300Z"
    }
   },
   "id": "76303fd5ef819842"
  },
  {
   "cell_type": "code",
   "execution_count": 37,
   "outputs": [],
   "source": [
    "prune_input = Input(shape=(32, 32, 3))\n",
    "\n",
    "# for layer in model.layers[1:]:\n",
    "#     layer.trainable = False\n",
    "\n",
    "new_model = Sequential()\n",
    "new_model.add(prune_input)\n",
    "new_model.add(pruned_model)\n",
    "# new_model.add(model.layers[1])\n",
    "new_model.add(Dense(10, activation='softmax'))"
   ],
   "metadata": {
    "collapsed": false,
    "ExecuteTime": {
     "end_time": "2024-07-26T20:33:53.585876200Z",
     "start_time": "2024-07-26T20:33:52.949876700Z"
    }
   },
   "id": "b840ce2e1e64aeac"
  },
  {
   "cell_type": "code",
   "execution_count": 38,
   "outputs": [
    {
     "name": "stdout",
     "output_type": "stream",
     "text": [
      "1875/1875 [==============================] - 142s 73ms/step - loss: 0.3566 - accuracy: 0.8878\n"
     ]
    },
    {
     "data": {
      "text/plain": "<keras.callbacks.History at 0x16b13e778b0>"
     },
     "execution_count": 38,
     "metadata": {},
     "output_type": "execute_result"
    }
   ],
   "source": [
    "new_model.compile(optimizer='adam', loss='categorical_crossentropy', metrics=['accuracy'])\n",
    "new_model.fit(x = train_X, y= train_y, epochs=1)"
   ],
   "metadata": {
    "collapsed": false,
    "ExecuteTime": {
     "end_time": "2024-07-26T20:36:19.706797200Z",
     "start_time": "2024-07-26T20:33:58.030854900Z"
    }
   },
   "id": "4b9969338efcc53c"
  },
  {
   "cell_type": "code",
   "execution_count": 39,
   "outputs": [
    {
     "name": "stdout",
     "output_type": "stream",
     "text": [
      "313/313 [==============================] - 24s 72ms/step - loss: 0.2121 - accuracy: 0.9333\n"
     ]
    }
   ],
   "source": [
    "test_X = np.expand_dims(test_X, axis=-1)\n",
    "test_X = np.repeat(test_X, 3, axis=-1)\n",
    "test_X = np.pad(test_X, ((0, 0), (2, 2), (2, 2), (0, 0)), mode='constant')\n",
    "result = new_model.evaluate(test_X, to_categorical(test_y, 10))"
   ],
   "metadata": {
    "collapsed": false,
    "ExecuteTime": {
     "end_time": "2024-07-26T20:36:49.703671700Z",
     "start_time": "2024-07-26T20:36:25.823938900Z"
    }
   },
   "id": "4bedba71cecc86bd"
  },
  {
   "cell_type": "markdown",
   "source": [],
   "metadata": {
    "collapsed": false
   },
   "id": "eeefa6908913fb8f"
  },
  {
   "cell_type": "code",
   "execution_count": 40,
   "outputs": [],
   "source": [
    "new_model.save('../NN/pruned_model_mnist_renet50_first_proba_kde.h5')"
   ],
   "metadata": {
    "collapsed": false,
    "ExecuteTime": {
     "end_time": "2024-07-26T20:37:15.038456400Z",
     "start_time": "2024-07-26T20:37:14.691461900Z"
    }
   },
   "id": "9d6dd9612eee4ada"
  },
  {
   "cell_type": "code",
   "execution_count": 41,
   "outputs": [
    {
     "name": "stdout",
     "output_type": "stream",
     "text": [
      "313/313 [==============================] - 24s 73ms/step - loss: 0.2121 - accuracy: 0.9333\n",
      "[0.21214155852794647, 0.9333000183105469]\n"
     ]
    }
   ],
   "source": [
    "model_final = load_model('../NN/pruned_model_mnist_renet50_first_proba_kde.h5')\n",
    "result = model_final.evaluate(test_X, to_categorical(test_y, 10))\n",
    "print(result)"
   ],
   "metadata": {
    "collapsed": false,
    "ExecuteTime": {
     "end_time": "2024-07-26T20:37:57.937660100Z",
     "start_time": "2024-07-26T20:37:30.303144100Z"
    }
   },
   "id": "d029d8081a5812e1"
  },
  {
   "cell_type": "code",
   "execution_count": null,
   "outputs": [],
   "source": [],
   "metadata": {
    "collapsed": false,
    "ExecuteTime": {
     "start_time": "2024-07-26T17:54:36.390366Z"
    }
   },
   "id": "740b53fa3300a2d8"
  }
 ],
 "metadata": {
  "kernelspec": {
   "display_name": "Python 3",
   "language": "python",
   "name": "python3"
  },
  "language_info": {
   "codemirror_mode": {
    "name": "ipython",
    "version": 2
   },
   "file_extension": ".py",
   "mimetype": "text/x-python",
   "name": "python",
   "nbconvert_exporter": "python",
   "pygments_lexer": "ipython2",
   "version": "2.7.6"
  }
 },
 "nbformat": 4,
 "nbformat_minor": 5
}
