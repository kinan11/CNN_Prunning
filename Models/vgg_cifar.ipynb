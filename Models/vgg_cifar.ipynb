{
 "cells": [
  {
   "cell_type": "code",
   "execution_count": 9,
   "id": "initial_id",
   "metadata": {
    "collapsed": true,
    "ExecuteTime": {
     "end_time": "2023-12-29T10:23:04.346270100Z",
     "start_time": "2023-12-29T10:22:53.858165200Z"
    }
   },
   "outputs": [],
   "source": [
    "import cv2\n",
    "import numpy as np\n",
    "from keras.datasets import cifar10\n",
    "from tensorflow.keras.utils import to_categorical\n",
    "from torchvision.models import VGG"
   ]
  },
  {
   "cell_type": "code",
   "execution_count": 28,
   "outputs": [],
   "source": [
    "(X_train, y_train), (X_test, y_test) = cifar10.load_data()\n",
    "\n",
    "X_train = np.array([cv2.resize(im, (128, 128)) for im in X_train])\n",
    "X_test = np.array([cv2.resize(im, (128, 128)) for im in X_test])"
   ],
   "metadata": {
    "collapsed": false,
    "ExecuteTime": {
     "end_time": "2023-12-29T10:33:42.618264100Z",
     "start_time": "2023-12-29T10:33:28.985196700Z"
    }
   },
   "id": "78bdbf5ff6ccefae"
  },
  {
   "cell_type": "code",
   "execution_count": 33,
   "outputs": [],
   "source": [
    "y_train = to_categorical(y_train, num_classes=10)\n",
    "y_test = to_categorical(y_test, num_classes=10)"
   ],
   "metadata": {
    "collapsed": false,
    "ExecuteTime": {
     "end_time": "2023-12-29T10:35:00.667284200Z",
     "start_time": "2023-12-29T10:35:00.648280200Z"
    }
   },
   "id": "dcf8232c760f520e"
  },
  {
   "cell_type": "code",
   "execution_count": 11,
   "outputs": [
    {
     "data": {
      "text/plain": "(50000, 128, 128, 3)"
     },
     "execution_count": 11,
     "metadata": {},
     "output_type": "execute_result"
    }
   ],
   "source": [
    "X_train.shape"
   ],
   "metadata": {
    "collapsed": false,
    "ExecuteTime": {
     "end_time": "2023-12-29T10:23:28.442660900Z",
     "start_time": "2023-12-29T10:23:28.359654900Z"
    }
   },
   "id": "f1bec87fd0f4ef95"
  },
  {
   "cell_type": "code",
   "execution_count": 36,
   "outputs": [],
   "source": [
    "from keras.applications import VGG16\n",
    "from keras import Model\n",
    "from keras.layers import Dense, Flatten\n",
    "\n",
    "base_model = VGG16(weights='imagenet', include_top=False, input_shape=(128, 128, 3))\n",
    "\n",
    "# Zamień warstwy w pełni połączone na własne\n",
    "x = base_model.output\n",
    "x = Flatten()(x)  # Dodaj warstwę Flatten, aby przekształcić dane z warstw konwolucyjnych do jednego wymiaru\n",
    "x = Dense(128, activation='relu')(x)\n",
    "x = Dense(10, activation='softmax')(x)\n",
    "\n",
    "# Utwórz nowy model\n",
    "model = Model(inputs=base_model.input, outputs=x)\n",
    "\n",
    "for layer in base_model.layers:\n",
    "    layer.trainable = False"
   ],
   "metadata": {
    "collapsed": false,
    "ExecuteTime": {
     "end_time": "2023-12-29T10:36:43.700806600Z",
     "start_time": "2023-12-29T10:36:43.063807400Z"
    }
   },
   "id": "5712c3a1b286051e"
  },
  {
   "cell_type": "code",
   "execution_count": 37,
   "outputs": [],
   "source": [
    "from keras.optimizers import Adam\n",
    "\n",
    "model.compile(optimizer=Adam(), loss='categorical_crossentropy', metrics=['accuracy'])"
   ],
   "metadata": {
    "collapsed": false,
    "ExecuteTime": {
     "end_time": "2023-12-29T10:36:45.389964300Z",
     "start_time": "2023-12-29T10:36:45.370941400Z"
    }
   },
   "id": "4c910abe1e3cd595"
  },
  {
   "cell_type": "code",
   "execution_count": 38,
   "outputs": [],
   "source": [
    "from keras_preprocessing.image import ImageDataGenerator\n",
    "\n",
    "datagen = ImageDataGenerator(rescale=1./255)"
   ],
   "metadata": {
    "collapsed": false,
    "ExecuteTime": {
     "end_time": "2023-12-29T10:36:46.768940Z",
     "start_time": "2023-12-29T10:36:46.757923Z"
    }
   },
   "id": "a8a8e07b87b36f0e"
  },
  {
   "cell_type": "code",
   "execution_count": 39,
   "outputs": [
    {
     "name": "stdout",
     "output_type": "stream",
     "text": [
      "Epoch 1/10\n",
      "1563/1563 [==============================] - 1909s 1s/step - loss: 0.9070 - accuracy: 0.7387\n",
      "Epoch 2/10\n",
      "1563/1563 [==============================] - 1854s 1s/step - loss: 0.4725 - accuracy: 0.8404\n",
      "Epoch 3/10\n",
      "1563/1563 [==============================] - 1837s 1s/step - loss: 0.3711 - accuracy: 0.8732\n",
      "Epoch 4/10\n",
      "1563/1563 [==============================] - 1849s 1s/step - loss: 0.3126 - accuracy: 0.8915\n",
      "Epoch 5/10\n",
      "1563/1563 [==============================] - 1890s 1s/step - loss: 0.2615 - accuracy: 0.9112\n",
      "Epoch 6/10\n",
      "1563/1563 [==============================] - 1945s 1s/step - loss: 0.2211 - accuracy: 0.9242\n",
      "Epoch 7/10\n",
      "1563/1563 [==============================] - 1980s 1s/step - loss: 0.1917 - accuracy: 0.9346\n",
      "Epoch 8/10\n",
      "1563/1563 [==============================] - 1903s 1s/step - loss: 0.1660 - accuracy: 0.9443\n",
      "Epoch 9/10\n",
      "1563/1563 [==============================] - 1865s 1s/step - loss: 0.1443 - accuracy: 0.9505\n",
      "Epoch 10/10\n",
      "1563/1563 [==============================] - 1874s 1s/step - loss: 0.1418 - accuracy: 0.9544\n"
     ]
    }
   ],
   "source": [
    "batch_size = 32\n",
    "epochs = 10\n",
    "\n",
    "history = model.fit(X_train, y_train, batch_size=batch_size, epochs=epochs)"
   ],
   "metadata": {
    "collapsed": false,
    "ExecuteTime": {
     "end_time": "2023-12-29T15:51:54.000830700Z",
     "start_time": "2023-12-29T10:36:47.312736700Z"
    }
   },
   "id": "b99281867f949a0b"
  },
  {
   "cell_type": "code",
   "execution_count": 34,
   "outputs": [
    {
     "data": {
      "text/plain": "(50000, 10)"
     },
     "execution_count": 34,
     "metadata": {},
     "output_type": "execute_result"
    }
   ],
   "source": [
    "y_train.shape"
   ],
   "metadata": {
    "collapsed": false,
    "ExecuteTime": {
     "end_time": "2023-12-29T10:35:05.219722600Z",
     "start_time": "2023-12-29T10:35:05.210727300Z"
    }
   },
   "id": "8f4489643989aca8"
  },
  {
   "cell_type": "code",
   "execution_count": 40,
   "outputs": [
    {
     "name": "stdout",
     "output_type": "stream",
     "text": [
      "313/313 - 373s - loss: 1.1752 - accuracy: 0.7964 - 373s/epoch - 1s/step\n",
      "\n",
      "Test accuracy: 0.7964000105857849\n"
     ]
    }
   ],
   "source": [
    "test_loss, test_acc = model.evaluate(X_test, y_test, verbose=2)\n",
    "print(f'\\nTest accuracy: {test_acc}')"
   ],
   "metadata": {
    "collapsed": false,
    "ExecuteTime": {
     "end_time": "2023-12-29T15:58:14.248491600Z",
     "start_time": "2023-12-29T15:52:01.142065500Z"
    }
   },
   "id": "a44d5d0d86e46aec"
  },
  {
   "cell_type": "code",
   "execution_count": 41,
   "outputs": [],
   "source": [
    "model.save('NN/cifar10_vgg.h5')"
   ],
   "metadata": {
    "collapsed": false,
    "ExecuteTime": {
     "end_time": "2023-12-29T15:58:14.499367100Z",
     "start_time": "2023-12-29T15:58:14.250492800Z"
    }
   },
   "id": "62b995c98f90f5a0"
  },
  {
   "cell_type": "code",
   "execution_count": null,
   "outputs": [],
   "source": [],
   "metadata": {
    "collapsed": false
   },
   "id": "d36eaa8a4990472a"
  }
 ],
 "metadata": {
  "kernelspec": {
   "display_name": "Python 3",
   "language": "python",
   "name": "python3"
  },
  "language_info": {
   "codemirror_mode": {
    "name": "ipython",
    "version": 2
   },
   "file_extension": ".py",
   "mimetype": "text/x-python",
   "name": "python",
   "nbconvert_exporter": "python",
   "pygments_lexer": "ipython2",
   "version": "2.7.6"
  }
 },
 "nbformat": 4,
 "nbformat_minor": 5
}
