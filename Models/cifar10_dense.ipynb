{
 "cells": [
  {
   "cell_type": "code",
   "execution_count": 2,
   "id": "initial_id",
   "metadata": {
    "collapsed": true,
    "ExecuteTime": {
     "end_time": "2024-09-18T09:23:27.457849700Z",
     "start_time": "2024-09-18T09:23:19.508850500Z"
    }
   },
   "outputs": [
    {
     "name": "stderr",
     "output_type": "stream",
     "text": [
      "C:\\Users\\User\\AppData\\Local\\Programs\\Python\\Python39\\lib\\site-packages\\scipy\\__init__.py:146: UserWarning: A NumPy version >=1.17.3 and <1.25.0 is required for this version of SciPy (detected version 1.26.4\n",
      "  warnings.warn(f\"A NumPy version >={np_minversion} and <{np_maxversion}\"\n"
     ]
    }
   ],
   "source": [
    "import cv2\n",
    "import numpy as np\n",
    "from tensorflow.keras.utils import to_categorical\n",
    "from tensorflow.keras.datasets import fashion_mnist\n",
    "from keras.applications import DenseNet121"
   ]
  },
  {
   "cell_type": "code",
   "execution_count": 3,
   "outputs": [],
   "source": [
    "from keras.datasets import cifar10\n",
    "\n",
    "(X_train, y_train), (X_test, y_test) = cifar10.load_data()\n",
    "\n",
    "X_train = np.array([cv2.resize(im, (128, 128)) for im in X_train])\n",
    "X_test = np.array([cv2.resize(im, (128, 128)) for im in X_test])\n",
    "\n",
    "train_y = to_categorical(y_train, 10)\n",
    "test_y = to_categorical(y_test, 10)"
   ],
   "metadata": {
    "collapsed": false,
    "ExecuteTime": {
     "end_time": "2024-09-18T09:23:39.602778500Z",
     "start_time": "2024-09-18T09:23:27.459847900Z"
    }
   },
   "id": "6b320c4810db1089"
  },
  {
   "cell_type": "code",
   "execution_count": 4,
   "outputs": [],
   "source": [
    "from tensorflow.keras.applications import DenseNet121\n",
    "from tensorflow.keras import layers, models\n",
    "from tensorflow.keras.optimizers import Adam\n",
    "\n",
    "base_model = DenseNet121(include_top=False, weights='imagenet', input_shape=(128, 128, 3))\n",
    "base_model.trainable = False\n",
    "\n",
    "x = base_model.output\n",
    "x = layers.GlobalAveragePooling2D()(x)\n",
    "x = layers.Dense(128, activation='relu')(x)\n",
    "x = layers.Dense(10, activation='softmax')(x)\n",
    "\n",
    "model = models.Model(inputs=base_model.input, outputs=x)"
   ],
   "metadata": {
    "collapsed": false,
    "ExecuteTime": {
     "end_time": "2024-09-18T09:23:46.313553400Z",
     "start_time": "2024-09-18T09:23:39.603780800Z"
    }
   },
   "id": "82b5048f4b522b8e"
  },
  {
   "cell_type": "code",
   "execution_count": null,
   "outputs": [],
   "source": [
    "from keras.optimizers import Adam\n",
    "\n",
    "model.compile(optimizer=Adam(), loss='categorical_crossentropy', metrics=['accuracy'])"
   ],
   "metadata": {
    "collapsed": false
   },
   "id": "978c94fee2b36a33"
  },
  {
   "cell_type": "code",
   "execution_count": null,
   "outputs": [],
   "source": [
    "from keras.callbacks import EarlyStopping\n",
    "\n",
    "batch_size = 32\n",
    "epochs = 10\n",
    "early_stopping = EarlyStopping(\n",
    "    monitor='accuracy',\n",
    "    patience=1,\n",
    "    restore_best_weights=True\n",
    ")\n",
    "history = model.fit(X_train, train_y, batch_size=batch_size, epochs = epochs, callbacks=[early_stopping])"
   ],
   "metadata": {
    "collapsed": false
   },
   "id": "9a24b7b4bd6b708a"
  },
  {
   "cell_type": "code",
   "execution_count": null,
   "outputs": [],
   "source": [
    "test_loss, test_acc = model.evaluate(X_test, test_y, verbose=2)\n",
    "print(f'\\nTest accuracy: {test_acc}')"
   ],
   "metadata": {
    "collapsed": false
   },
   "id": "c13bd9507a488619"
  },
  {
   "cell_type": "code",
   "execution_count": null,
   "outputs": [],
   "source": [
    "model.save('NN/model_cifar_dense.h5')"
   ],
   "metadata": {
    "collapsed": false
   },
   "id": "72f7a657970ae982"
  },
  {
   "cell_type": "code",
   "execution_count": null,
   "outputs": [],
   "source": [],
   "metadata": {
    "collapsed": false
   },
   "id": "d8c21f8f9746fc3f"
  }
 ],
 "metadata": {
  "kernelspec": {
   "display_name": "Python 3",
   "language": "python",
   "name": "python3"
  },
  "language_info": {
   "codemirror_mode": {
    "name": "ipython",
    "version": 2
   },
   "file_extension": ".py",
   "mimetype": "text/x-python",
   "name": "python",
   "nbconvert_exporter": "python",
   "pygments_lexer": "ipython2",
   "version": "2.7.6"
  }
 },
 "nbformat": 4,
 "nbformat_minor": 5
}
