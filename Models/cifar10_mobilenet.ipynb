{
 "cells": [
  {
   "cell_type": "code",
   "execution_count": 1,
   "id": "08184906-633b-40b3-8b69-376b3b93c891",
   "metadata": {
    "ExecuteTime": {
     "end_time": "2024-09-18T09:24:32.343612300Z",
     "start_time": "2024-09-18T09:24:28.305614300Z"
    }
   },
   "outputs": [
    {
     "name": "stderr",
     "output_type": "stream",
     "text": [
      "C:\\Users\\User\\AppData\\Local\\Programs\\Python\\Python39\\lib\\site-packages\\scipy\\__init__.py:146: UserWarning: A NumPy version >=1.17.3 and <1.25.0 is required for this version of SciPy (detected version 1.26.4\n",
      "  warnings.warn(f\"A NumPy version >={np_minversion} and <{np_maxversion}\"\n"
     ]
    }
   ],
   "source": [
    "import numpy as np\n",
    "from keras import Sequential\n",
    "from tensorflow.keras.utils import to_categorical\n",
    "from tensorflow.keras.optimizers import SGD,Adam\n",
    "from tensorflow.keras.layers import Input,Flatten,Dense,BatchNormalization,Activation,Dropout,GlobalAveragePooling2D,MaxPooling2D,RandomFlip,RandomZoom,RandomRotation\n",
    "from keras.datasets import cifar10\n",
    "import keras"
   ]
  },
  {
   "cell_type": "code",
   "execution_count": 2,
   "id": "7ae438bd-6e4b-49a4-8458-0f1e31869ddc",
   "metadata": {
    "ExecuteTime": {
     "end_time": "2024-09-18T09:24:33.044579200Z",
     "start_time": "2024-09-18T09:24:32.346611800Z"
    }
   },
   "outputs": [],
   "source": [
    "(X_train, y_train), (X_test, y_test) = cifar10.load_data()\n",
    "\n",
    "y_train=to_categorical(y_train)\n",
    "y_test=to_categorical(y_test)"
   ]
  },
  {
   "cell_type": "code",
   "execution_count": 3,
   "id": "874d7480-3468-4855-9d0f-216debf05b3a",
   "metadata": {
    "ExecuteTime": {
     "end_time": "2024-09-18T09:24:33.714506500Z",
     "start_time": "2024-09-18T09:24:33.046584500Z"
    }
   },
   "outputs": [],
   "source": [
    "base_model = keras.applications.MobileNet(\n",
    "    weights='imagenet',\n",
    "    input_shape=(224,224, 3),\n",
    "    include_top=False)\n",
    "\n",
    "for layer in base_model.layers:\n",
    "    layer.trainable = False"
   ]
  },
  {
   "cell_type": "code",
   "execution_count": 4,
   "id": "9e53aece-c903-49ca-a177-93c7b547301a",
   "metadata": {
    "ExecuteTime": {
     "end_time": "2024-09-18T09:24:33.985481700Z",
     "start_time": "2024-09-18T09:24:33.717486300Z"
    }
   },
   "outputs": [],
   "source": [
    "import tensorflow as tf\n",
    "from tensorflow.keras.layers import Lambda\n",
    "from tensorflow.keras.models import Model\n",
    "\n",
    "inputs = tf.keras.Input(shape=(32, 32, 3))\n",
    "x = Lambda(lambda image: tf.image.resize(image, (224, 224)))(inputs)\n",
    "x = tf.keras.applications.xception.preprocess_input(x)\n",
    "x = base_model(x, training=False)\n",
    "x = GlobalAveragePooling2D()(x)\n",
    "x = Dropout(0.3)(x)\n",
    "outputs = Dense(10, activation='softmax')(x)\n",
    "model = Model(inputs, outputs)"
   ]
  },
  {
   "cell_type": "code",
   "execution_count": 5,
   "id": "4cdd1551-485a-4e40-a155-c28d19db0ac3",
   "metadata": {},
   "outputs": [],
   "source": [
    "model.compile(optimizer='adam', loss='categorical_crossentropy', metrics=['accuracy'])"
   ]
  },
  {
   "cell_type": "code",
   "execution_count": 7,
   "id": "04eb994e-fccb-4e72-b671-836a9e31a136",
   "metadata": {},
   "outputs": [
    {
     "name": "stdout",
     "output_type": "stream",
     "text": [
      "Epoch 1/10\n",
      "1563/1563 [==============================] - 5015s 3s/step - loss: 0.6733 - accuracy: 0.7727\n",
      "Epoch 2/10\n",
      "1563/1563 [==============================] - 5254s 3s/step - loss: 0.5298 - accuracy: 0.8188\n",
      "Epoch 3/10\n",
      "1563/1563 [==============================] - 5329s 3s/step - loss: 0.5146 - accuracy: 0.8264\n",
      "Epoch 4/10\n",
      "1563/1563 [==============================] - 4615s 3s/step - loss: 0.5087 - accuracy: 0.8272\n",
      "Epoch 5/10\n",
      "1563/1563 [==============================] - 3050s 2s/step - loss: 0.5050 - accuracy: 0.8300\n",
      "Epoch 6/10\n",
      "1563/1563 [==============================] - 3025s 2s/step - loss: 0.5000 - accuracy: 0.8307\n",
      "Epoch 7/10\n",
      "1563/1563 [==============================] - 3040s 2s/step - loss: 0.5036 - accuracy: 0.8315\n",
      "Epoch 8/10\n",
      "1563/1563 [==============================] - 3009s 2s/step - loss: 0.5066 - accuracy: 0.8289\n"
     ]
    }
   ],
   "source": [
    "from keras.callbacks import EarlyStopping\n",
    "\n",
    "epochs = 10\n",
    "batch_size = 32\n",
    "\n",
    "early_stopping = EarlyStopping(\n",
    "    monitor='accuracy',\n",
    "    patience = 1,\n",
    "    restore_best_weights = True\n",
    ")\n",
    "\n",
    "history = model.fit(X_train, y_train, epochs=epochs, batch_size=batch_size, callbacks=[early_stopping])"
   ]
  },
  {
   "cell_type": "code",
   "execution_count": 8,
   "id": "6aa403b7-2786-43d9-b9a7-769695a4c8b6",
   "metadata": {},
   "outputs": [
    {
     "name": "stdout",
     "output_type": "stream",
     "text": [
      "313/313 - 535s - loss: 0.4562 - accuracy: 0.8456 - 535s/epoch - 2s/step\n",
      "\n",
      "Test accuracy: 0.8456000089645386\n"
     ]
    }
   ],
   "source": [
    "test_loss, test_acc = model.evaluate(X_test, y_test, verbose=2)\n",
    "print(f'\\nTest accuracy: {test_acc}')"
   ]
  },
  {
   "cell_type": "code",
   "execution_count": 9,
   "id": "2bd09479-148c-4f25-82a8-b8f9a9c7aaa0",
   "metadata": {},
   "outputs": [],
   "source": [
    "model.save('NN/mobilenet_cifar10.h5')"
   ]
  },
  {
   "cell_type": "code",
   "execution_count": null,
   "id": "a71b0529-331e-4f9a-8a27-1f2394da9291",
   "metadata": {},
   "outputs": [],
   "source": []
  }
 ],
 "metadata": {
  "kernelspec": {
   "display_name": "Python 3 (ipykernel)",
   "language": "python",
   "name": "python3"
  },
  "language_info": {
   "codemirror_mode": {
    "name": "ipython",
    "version": 3
   },
   "file_extension": ".py",
   "mimetype": "text/x-python",
   "name": "python",
   "nbconvert_exporter": "python",
   "pygments_lexer": "ipython3",
   "version": "3.10.0"
  }
 },
 "nbformat": 4,
 "nbformat_minor": 5
}
