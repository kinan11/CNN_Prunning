{
 "cells": [
  {
   "cell_type": "code",
   "execution_count": null,
   "id": "initial_id",
   "metadata": {
    "collapsed": true
   },
   "outputs": [],
   "source": [
    "from keras.datasets import mnist\n",
    "from matplotlib import pyplot\n",
    "from keras.utils import to_categorical\n",
    "import numpy as np\n",
    "from tensorflow.keras.applications.resnet50 import ResNet50\n",
    "from tensorflow.keras.models import Sequential\n",
    "from tensorflow.keras.layers import Dense\n",
    "from keras.models import load_model\n",
    "from keras.datasets import cifar10\n",
    "from keras.callbacks import EarlyStopping\n",
    "import keras\n",
    "from tensorflow.keras.preprocessing.image import ImageDataGenerator\n",
    "from tensorflow.keras import layers, models\n"
   ]
  },
  {
   "cell_type": "code",
   "execution_count": null,
   "outputs": [],
   "source": [
    "(X_train, y_train), (X_test, y_test) = cifar10.load_data()\n",
    "\n",
    "y_train = to_categorical(y_train, 10)\n",
    "y_test = to_categorical(y_test, 10)\n"
   ],
   "metadata": {
    "collapsed": false
   },
   "id": "4b08808e1d5202f8"
  },
  {
   "cell_type": "code",
   "execution_count": null,
   "outputs": [],
   "source": [
    "training_data_gen = ImageDataGenerator(\n",
    "    rescale=1. / 255,\n",
    "    zoom_range = 0.12,\n",
    "    height_shift_range = 0.12,\n",
    "    width_shift_range = 0.12,\n",
    "    horizontal_flip = True\n",
    ")\n",
    "test_data_gen = ImageDataGenerator(rescale=1./255)"
   ],
   "metadata": {
    "collapsed": false
   },
   "id": "59c87bed7a2cf246"
  },
  {
   "cell_type": "code",
   "execution_count": null,
   "outputs": [],
   "source": [
    "base_model = ResNet50(\n",
    "    weights='imagenet',\n",
    "    input_shape=(300,300, 3),\n",
    "    include_top=False)\n",
    "\n",
    "for layer in base_model.layers:\n",
    "    layer.trainable = False"
   ],
   "metadata": {
    "collapsed": false
   },
   "id": "8f5e7ea7aa90e65"
  },
  {
   "cell_type": "code",
   "execution_count": null,
   "outputs": [],
   "source": [
    "from keras.layers import GlobalAveragePooling2D, Dropout\n",
    "\n",
    "model = Sequential()\n",
    "\n",
    "model.add(ResNet50(include_top=False, weights='imagenet', input_shape=(300,300, 3)))\n",
    "model.add(GlobalAveragePooling2D())\n",
    "model.add(Dense(2048, activation='relu'))\n",
    "model.add(Dropout(0.1))\n",
    "model.add(Dense(1024, activation='relu'))\n",
    "model.add(Dense(120, activation='softmax'))\n",
    "\n",
    "model.layers[0].trainable=False\n",
    "model.summary()\n"
   ],
   "metadata": {
    "collapsed": false
   },
   "id": "a60ffbe7ba1a52c4"
  },
  {
   "cell_type": "code",
   "execution_count": null,
   "outputs": [],
   "source": [
    "model.compile(optimizer='SGD',\n",
    "                  loss='categorical_crossentropy',\n",
    "                  metrics=['accuracy'])"
   ],
   "metadata": {
    "collapsed": false
   },
   "id": "97bd17440c645f49"
  },
  {
   "cell_type": "code",
   "execution_count": null,
   "outputs": [],
   "source": [
    "early_stopping = EarlyStopping(\n",
    "    monitor='accuracy',\n",
    "    patience=1,\n",
    "    restore_best_weights=True\n",
    ")\n",
    "model.fit(x = X_train, y= y_train, epochs=10, callbacks=[early_stopping])"
   ],
   "metadata": {
    "collapsed": false
   },
   "id": "4b4c7ae78cb874a9"
  },
  {
   "cell_type": "code",
   "execution_count": null,
   "outputs": [],
   "source": [
    "result = model.evaluate(X_test, y_test)"
   ],
   "metadata": {
    "collapsed": false
   },
   "id": "f5498adec2fe498c"
  },
  {
   "cell_type": "code",
   "execution_count": null,
   "outputs": [],
   "source": [
    "model_final = load_model('NN/model_cifar10_renet50.h5')\n",
    "\n",
    "result = model_final.evaluate(X_test, y_test)\n",
    "print(result)"
   ],
   "metadata": {
    "collapsed": false
   },
   "id": "6a8ae8774bf5a0f5"
  },
  {
   "cell_type": "code",
   "execution_count": null,
   "outputs": [],
   "source": [],
   "metadata": {
    "collapsed": false
   },
   "id": "c81e4de851ebc5d"
  }
 ],
 "metadata": {
  "kernelspec": {
   "display_name": "Python 3",
   "language": "python",
   "name": "python3"
  },
  "language_info": {
   "codemirror_mode": {
    "name": "ipython",
    "version": 2
   },
   "file_extension": ".py",
   "mimetype": "text/x-python",
   "name": "python",
   "nbconvert_exporter": "python",
   "pygments_lexer": "ipython2",
   "version": "2.7.6"
  }
 },
 "nbformat": 4,
 "nbformat_minor": 5
}
