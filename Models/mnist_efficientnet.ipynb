{
  "metadata": {
    "kernelspec": {
      "display_name": "Python 3",
      "name": "python3"
    },
    "language_info": {
      "name": "python",
      "version": "3.6.4",
      "mimetype": "text/x-python",
      "codemirror_mode": {
        "name": "ipython",
        "version": 3
      },
      "pygments_lexer": "ipython3",
      "nbconvert_exporter": "python",
      "file_extension": ".py"
    },
    "kaggle": {
      "accelerator": "gpu",
      "dataSources": [
        {
          "sourceId": 3004,
          "databundleVersionId": 861823,
          "sourceType": "competition"
        }
      ],
      "dockerImageVersionId": 25114,
      "isInternetEnabled": false,
      "language": "python",
      "sourceType": "notebook",
      "isGpuEnabled": true
    },
    "colab": {
      "provenance": [],
      "gpuType": "T4"
    },
    "accelerator": "GPU"
  },
  "nbformat_minor": 0,
  "nbformat": 4,
  "cells": [
    {
      "cell_type": "code",
      "source": [
        "import tensorflow as tf\n",
        "from tensorflow.keras.applications import EfficientNetB0\n",
        "from tensorflow.keras.models import Model\n",
        "from tensorflow.keras.layers import Dense, GlobalAveragePooling2D, Input, Reshape\n",
        "from tensorflow.keras.datasets import mnist\n",
        "from tensorflow.keras.utils import to_categorical\n",
        "\n",
        "(X_train, y_train), (X_test, y_test) = mnist.load_data()\n",
        "\n",
        "X_train = X_train.reshape((-1, 28, 28, 1)).astype('float32') / 255.0\n",
        "X_test = X_test.reshape((-1, 28, 28, 1)).astype('float32') / 255.0\n",
        "\n",
        "X_train = tf.image.resize(X_train, [32, 32])\n",
        "X_test = tf.image.resize(X_test, [32, 32])\n",
        "\n",
        "X_train = tf.concat([X_train, X_train, X_train], axis=-1)\n",
        "X_test = tf.concat([X_test, X_test, X_test], axis=-1)\n",
        "\n",
        "y_train = to_categorical(y_train, 10)\n",
        "y_test = to_categorical(y_test, 10)"
      ],
      "metadata": {
        "id": "lmZkzi8ln5Zh"
      },
      "execution_count": 20,
      "outputs": []
    },
    {
      "cell_type": "code",
      "source": [
        "base_model = EfficientNetB0(weights='imagenet', include_top=False, input_shape=(32, 32, 3))\n",
        "\n",
        "x = GlobalAveragePooling2D()(base_model.output)\n",
        "x = Dense(128, activation='relu')(x)\n",
        "predictions = Dense(10, activation='softmax')(x)\n",
        "\n",
        "model = Model(inputs=base_model.input, outputs=predictions)"
      ],
      "metadata": {
        "id": "T-OOmUHLonZn"
      },
      "execution_count": 21,
      "outputs": []
    },
    {
      "cell_type": "code",
      "source": [
        "model.compile(optimizer='adam', loss='categorical_crossentropy', metrics=['accuracy'])\n",
        "\n",
        "model.fit(X_train, y_train, epochs=10)"
      ],
      "metadata": {
        "colab": {
          "base_uri": "https://localhost:8080/"
        },
        "id": "CZ9zu4sFoxf4",
        "outputId": "c3f754e9-8c07-4312-f220-e77a8c5838b5"
      },
      "execution_count": 22,
      "outputs": [
        {
          "output_type": "stream",
          "name": "stdout",
          "text": [
            "Epoch 1/10\n",
            "1875/1875 [==============================] - 114s 41ms/step - loss: 0.2449 - accuracy: 0.9298\n",
            "Epoch 2/10\n",
            "1875/1875 [==============================] - 75s 40ms/step - loss: 0.0990 - accuracy: 0.9733\n",
            "Epoch 3/10\n",
            "1875/1875 [==============================] - 74s 40ms/step - loss: 0.0844 - accuracy: 0.9780\n",
            "Epoch 4/10\n",
            "1875/1875 [==============================] - 75s 40ms/step - loss: 0.0748 - accuracy: 0.9817\n",
            "Epoch 5/10\n",
            "1875/1875 [==============================] - 76s 41ms/step - loss: 0.0553 - accuracy: 0.9850\n",
            "Epoch 6/10\n",
            "1875/1875 [==============================] - 76s 41ms/step - loss: 0.0656 - accuracy: 0.9838\n",
            "Epoch 7/10\n",
            "1875/1875 [==============================] - 77s 41ms/step - loss: 0.0525 - accuracy: 0.9874\n",
            "Epoch 8/10\n",
            "1875/1875 [==============================] - 77s 41ms/step - loss: 0.0358 - accuracy: 0.9906\n",
            "Epoch 9/10\n",
            "1875/1875 [==============================] - 77s 41ms/step - loss: 0.0396 - accuracy: 0.9898\n",
            "Epoch 10/10\n",
            "1875/1875 [==============================] - 78s 41ms/step - loss: 0.0385 - accuracy: 0.9902\n"
          ]
        },
        {
          "output_type": "execute_result",
          "data": {
            "text/plain": [
              "<keras.src.callbacks.History at 0x7a1ed4363490>"
            ]
          },
          "metadata": {},
          "execution_count": 22
        }
      ]
    },
    {
      "cell_type": "code",
      "source": [
        "model.save('model_mnist_efficiencenet.h5')"
      ],
      "metadata": {
        "colab": {
          "base_uri": "https://localhost:8080/"
        },
        "id": "2oSdoMPWo3CB",
        "outputId": "6a0cdfd9-43f5-43cb-c449-2cb363b65870"
      },
      "execution_count": 23,
      "outputs": [
        {
          "output_type": "stream",
          "name": "stderr",
          "text": [
            "/usr/local/lib/python3.10/dist-packages/keras/src/engine/training.py:3103: UserWarning: You are saving your model as an HDF5 file via `model.save()`. This file format is considered legacy. We recommend using instead the native Keras format, e.g. `model.save('my_model.keras')`.\n",
            "  saving_api.save_model(\n"
          ]
        }
      ]
    },
    {
      "cell_type": "code",
      "source": [
        "test_loss, test_acc = model.evaluate(X_test, y_test)\n",
        "print(f'\\nTest accuracy: {test_acc}')"
      ],
      "metadata": {
        "colab": {
          "base_uri": "https://localhost:8080/"
        },
        "id": "KNC4rGLAo-HU",
        "outputId": "614cb573-578e-4b3a-bedd-4e91dbc5529a"
      },
      "execution_count": 24,
      "outputs": [
        {
          "output_type": "stream",
          "name": "stdout",
          "text": [
            "313/313 [==============================] - 5s 12ms/step - loss: 0.5796 - accuracy: 0.8299\n",
            "\n",
            "Test accuracy: 0.8299000263214111\n"
          ]
        }
      ]
    }
  ]
}