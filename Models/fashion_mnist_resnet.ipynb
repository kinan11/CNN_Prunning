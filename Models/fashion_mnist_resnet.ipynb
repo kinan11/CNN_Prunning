{
 "cells": [
  {
   "cell_type": "code",
   "execution_count": 1,
   "outputs": [
    {
     "name": "stderr",
     "output_type": "stream",
     "text": [
      "C:\\Users\\User\\AppData\\Local\\Programs\\Python\\Python39\\lib\\site-packages\\scipy\\__init__.py:146: UserWarning: A NumPy version >=1.17.3 and <1.25.0 is required for this version of SciPy (detected version 1.26.4\n",
      "  warnings.warn(f\"A NumPy version >={np_minversion} and <{np_maxversion}\"\n"
     ]
    }
   ],
   "source": [
    "import sns\n",
    "import tensorflow as tf\n",
    "from tensorflow.keras.datasets import fashion_mnist\n",
    "from matplotlib import pyplot\n",
    "import numpy as np\n",
    "from tensorflow.keras.applications.resnet50 import ResNet50\n",
    "from tensorflow.keras.models import Sequential\n",
    "from tensorflow.keras.layers import Dense\n",
    "from tensorflow.keras.preprocessing.image import img_to_array, array_to_img, load_img\n",
    "from keras.layers import Reshape\n",
    "from keras.models import load_model"
   ],
   "metadata": {
    "collapsed": false,
    "ExecuteTime": {
     "end_time": "2024-09-13T17:51:32.374719100Z",
     "start_time": "2024-09-13T17:51:27.141864300Z"
    }
   },
   "id": "ea107df276aae78d"
  },
  {
   "cell_type": "code",
   "execution_count": 2,
   "outputs": [],
   "source": [
    "from keras.utils import to_categorical\n",
    "from sklearn.model_selection import train_test_split\n",
    "\n",
    "(X_train, y_train), (X_test, y_test) = fashion_mnist.load_data()\n",
    "\n",
    "X_train = X_train.reshape((X_train.shape[0], 28, 28))\n",
    "X_test = X_test.reshape((X_test.shape[0], 28, 28))\n",
    "\n",
    "X_train = X_train.astype('float32')\n",
    "X_test = X_test.astype('float32')\n",
    "\n",
    "X_train = np.stack((X_train,)*3, axis=-1)\n",
    "X_test = np.stack((X_test,)*3, axis=-1)\n",
    "\n",
    "y_train = to_categorical(y_train)\n",
    "y_test = to_categorical(y_test)"
   ],
   "metadata": {
    "collapsed": false,
    "ExecuteTime": {
     "end_time": "2024-09-13T17:51:34.453937700Z",
     "start_time": "2024-09-13T17:51:32.377722200Z"
    }
   },
   "id": "194c8219d94a1bf5"
  },
  {
   "cell_type": "code",
   "execution_count": 4,
   "outputs": [
    {
     "name": "stderr",
     "output_type": "stream",
     "text": [
      "Clipping input data to the valid range for imshow with RGB data ([0..1] for floats or [0..255] for integers).\n",
      "Clipping input data to the valid range for imshow with RGB data ([0..1] for floats or [0..255] for integers).\n",
      "Clipping input data to the valid range for imshow with RGB data ([0..1] for floats or [0..255] for integers).\n",
      "Clipping input data to the valid range for imshow with RGB data ([0..1] for floats or [0..255] for integers).\n",
      "Clipping input data to the valid range for imshow with RGB data ([0..1] for floats or [0..255] for integers).\n",
      "Clipping input data to the valid range for imshow with RGB data ([0..1] for floats or [0..255] for integers).\n",
      "Clipping input data to the valid range for imshow with RGB data ([0..1] for floats or [0..255] for integers).\n",
      "Clipping input data to the valid range for imshow with RGB data ([0..1] for floats or [0..255] for integers).\n",
      "Clipping input data to the valid range for imshow with RGB data ([0..1] for floats or [0..255] for integers).\n"
     ]
    },
    {
     "data": {
      "text/plain": "<Figure size 640x480 with 9 Axes>",
      "image/png": "[encoded data removed]"
     },
     "metadata": {},
     "output_type": "display_data"
    }
   ],
   "source": [
    "for i in range(9):\n",
    "    pyplot.subplot(330 + 1 + i)\n",
    "    pyplot.imshow(X_train[i], cmap=pyplot.get_cmap('gray'))\n",
    "\n",
    "pyplot.show()"
   ],
   "metadata": {
    "collapsed": false,
    "ExecuteTime": {
     "end_time": "2024-09-11T17:05:33.790426700Z",
     "start_time": "2024-09-11T17:05:26.793430400Z"
    }
   },
   "id": "9d3e2330898be55b"
  },
  {
   "cell_type": "code",
   "execution_count": 5,
   "outputs": [
    {
     "name": "stdout",
     "output_type": "stream",
     "text": [
      "Model: \"sequential\"\n",
      "_________________________________________________________________\n",
      " Layer (type)                Output Shape              Param #   \n",
      "=================================================================\n",
      " resnet50 (Functional)       (None, 2048)              23587712  \n",
      "                                                                 \n",
      " dense (Dense)               (None, 512)               1049088   \n",
      "                                                                 \n",
      " dense_1 (Dense)             (None, 10)                5130      \n",
      "                                                                 \n",
      "=================================================================\n",
      "Total params: 24,641,930\n",
      "Trainable params: 1,054,218\n",
      "Non-trainable params: 23,587,712\n",
      "_________________________________________________________________\n"
     ]
    }
   ],
   "source": [
    "model = Sequential()\n",
    "model.add(ResNet50(include_top=False, pooling='avg', weights='imagenet'))\n",
    "model.add(Dense(512, activation='relu'))\n",
    "model.add(Dense(10, activation='softmax'))\n",
    "\n",
    "model.layers[0].trainable=False\n",
    "model.summary()"
   ],
   "metadata": {
    "collapsed": false,
    "ExecuteTime": {
     "end_time": "2024-09-11T17:05:43.812428400Z",
     "start_time": "2024-09-11T17:05:33.794430600Z"
    }
   },
   "id": "54c23f97b95f260"
  },
  {
   "cell_type": "code",
   "execution_count": 6,
   "outputs": [],
   "source": [
    "model.compile(optimizer='Adam', loss='categorical_crossentropy', metrics=['accuracy'])"
   ],
   "metadata": {
    "collapsed": false,
    "ExecuteTime": {
     "end_time": "2024-09-11T17:05:43.863429200Z",
     "start_time": "2024-09-11T17:05:43.806430400Z"
    }
   },
   "id": "4bb7cbec6fbfb352"
  },
  {
   "cell_type": "code",
   "execution_count": 7,
   "outputs": [
    {
     "name": "stdout",
     "output_type": "stream",
     "text": [
      "Epoch 1/10\n",
      "1875/1875 [==============================] - 177s 86ms/step - loss: 0.5616 - accuracy: 0.8081\n",
      "Epoch 2/10\n",
      "1875/1875 [==============================] - 213s 113ms/step - loss: 0.4143 - accuracy: 0.8443\n",
      "Epoch 3/10\n",
      "1875/1875 [==============================] - 206s 110ms/step - loss: 0.3744 - accuracy: 0.8589\n",
      "Epoch 4/10\n",
      "1875/1875 [==============================] - 211s 113ms/step - loss: 0.3469 - accuracy: 0.8682\n",
      "Epoch 5/10\n",
      "1875/1875 [==============================] - 206s 110ms/step - loss: 0.3242 - accuracy: 0.8784\n",
      "Epoch 6/10\n",
      "1875/1875 [==============================] - 293s 156ms/step - loss: 0.3014 - accuracy: 0.8847\n",
      "Epoch 7/10\n",
      "1875/1875 [==============================] - 317s 169ms/step - loss: 0.2865 - accuracy: 0.8916\n",
      "Epoch 8/10\n",
      "1875/1875 [==============================] - 280s 149ms/step - loss: 0.2701 - accuracy: 0.8975\n",
      "Epoch 9/10\n",
      "1875/1875 [==============================] - 283s 151ms/step - loss: 0.2575 - accuracy: 0.9021\n",
      "Epoch 10/10\n",
      "1875/1875 [==============================] - 314s 167ms/step - loss: 0.2425 - accuracy: 0.9086\n"
     ]
    },
    {
     "data": {
      "text/plain": "<keras.callbacks.History at 0x1dde7d4a040>"
     },
     "execution_count": 7,
     "metadata": {},
     "output_type": "execute_result"
    }
   ],
   "source": [
    "model.fit(x = X_train, y= y_train, epochs=10)"
   ],
   "metadata": {
    "collapsed": false,
    "ExecuteTime": {
     "end_time": "2024-09-11T17:47:28.546372400Z",
     "start_time": "2024-09-11T17:05:43.866434500Z"
    }
   },
   "id": "7a2981ff0711e90c"
  },
  {
   "cell_type": "code",
   "execution_count": 8,
   "outputs": [],
   "source": [
    "model.save('NN/model_fashion_mnist_renet50.h5')"
   ],
   "metadata": {
    "collapsed": false,
    "ExecuteTime": {
     "end_time": "2024-09-11T17:47:28.678371600Z",
     "start_time": "2024-09-11T17:47:24.663374200Z"
    }
   },
   "id": "61293a39afd8ab0f"
  },
  {
   "cell_type": "code",
   "execution_count": 3,
   "outputs": [
    {
     "name": "stdout",
     "output_type": "stream",
     "text": [
      "313/313 [==============================] - 25s 75ms/step - loss: 0.4264 - accuracy: 0.8584\n",
      "[0.42638733983039856, 0.8583999872207642]\n"
     ]
    }
   ],
   "source": [
    "model_final = load_model('NN/model_fashion_mnist_renet50.h5')\n",
    "\n",
    "result = model_final.evaluate(X_test, y_test)\n",
    "print(result)"
   ],
   "metadata": {
    "collapsed": false,
    "ExecuteTime": {
     "end_time": "2024-09-13T17:52:03.340712400Z",
     "start_time": "2024-09-13T17:51:35.838742100Z"
    }
   },
   "id": "5dac64e73aa0f95d"
  },
  {
   "cell_type": "code",
   "execution_count": null,
   "outputs": [],
   "source": [],
   "metadata": {
    "collapsed": false
   },
   "id": "2142e83f043bef1"
  }
 ],
 "metadata": {
  "kernelspec": {
   "display_name": "Python 3",
   "language": "python",
   "name": "python3"
  },
  "language_info": {
   "codemirror_mode": {
    "name": "ipython",
    "version": 2
   },
   "file_extension": ".py",
   "mimetype": "text/x-python",
   "name": "python",
   "nbconvert_exporter": "python",
   "pygments_lexer": "ipython2",
   "version": "2.7.6"
  }
 },
 "nbformat": 4,
 "nbformat_minor": 5
}
