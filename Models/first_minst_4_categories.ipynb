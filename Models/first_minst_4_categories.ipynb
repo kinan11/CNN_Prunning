{
 "cells": [
  {
   "cell_type": "code",
   "execution_count": 1,
   "id": "initial_id",
   "metadata": {
    "collapsed": true,
    "ExecuteTime": {
     "end_time": "2024-04-16T15:59:34.533128100Z",
     "start_time": "2024-04-16T15:59:28.170128200Z"
    }
   },
   "outputs": [],
   "source": [
    "from keras.datasets import mnist\n",
    "from matplotlib import pyplot\n",
    "from keras.utils import to_categorical\n",
    "import numpy as np\n",
    "from tensorflow.keras.applications.resnet50 import ResNet50\n",
    "from tensorflow.keras.models import Sequential\n",
    "from tensorflow.keras.layers import Dense\n",
    "from keras.models import load_model\n"
   ]
  },
  {
   "cell_type": "code",
   "execution_count": 2,
   "outputs": [],
   "source": [
    "(train_X, train_y), (test_X, test_y) = mnist.load_data()\n",
    "\n",
    "train_filter = train_y < 4\n",
    "test_filter = test_y < 4\n",
    "\n",
    "train_X = train_X[train_filter]\n",
    "train_y = train_y[train_filter]\n",
    "test_X = test_X[test_filter]\n",
    "test_y = test_y[test_filter]\n",
    "\n",
    "train_X = np.expand_dims(train_X, axis=-1)  # Add a channel dimension for ResNet50\n",
    "train_X = np.repeat(train_X, 3, axis=-1)  # Repeat the single channel to simulate 3 channels\n",
    "train_X = np.pad(train_X, ((0, 0), (2, 2), (2, 2), (0, 0)), mode='constant')  # Resize to 224x224\n",
    "train_y = to_categorical(train_y, 4)"
   ],
   "metadata": {
    "collapsed": false,
    "ExecuteTime": {
     "end_time": "2024-04-16T15:59:51.153842500Z",
     "start_time": "2024-04-16T15:59:50.355334400Z"
    }
   },
   "id": "27f9796a172a5b10"
  },
  {
   "cell_type": "code",
   "execution_count": 3,
   "outputs": [
    {
     "data": {
      "text/plain": "<Figure size 640x480 with 9 Axes>",
      "image/png": "[encoded data removed]"
     },
     "metadata": {},
     "output_type": "display_data"
    }
   ],
   "source": [
    "for i in range(9):\n",
    "    pyplot.subplot(330 + 1 + i)\n",
    "    pyplot.imshow(train_X[i], cmap=pyplot.get_cmap('gray'))\n",
    "\n",
    "pyplot.show()"
   ],
   "metadata": {
    "collapsed": false,
    "ExecuteTime": {
     "end_time": "2024-04-16T15:59:53.661439700Z",
     "start_time": "2024-04-16T15:59:52.002845600Z"
    }
   },
   "id": "85dd46a5b168ea5"
  },
  {
   "cell_type": "code",
   "execution_count": 4,
   "outputs": [
    {
     "name": "stdout",
     "output_type": "stream",
     "text": [
      "Model: \"sequential\"\n",
      "_________________________________________________________________\n",
      " Layer (type)                Output Shape              Param #   \n",
      "=================================================================\n",
      " resnet50 (Functional)       (None, 2048)              23587712  \n",
      "                                                                 \n",
      " dense (Dense)               (None, 4)                 8196      \n",
      "                                                                 \n",
      "=================================================================\n",
      "Total params: 23,595,908\n",
      "Trainable params: 8,196\n",
      "Non-trainable params: 23,587,712\n",
      "_________________________________________________________________\n"
     ]
    }
   ],
   "source": [
    "model = Sequential()\n",
    "\n",
    "model.add(ResNet50(include_top=False, pooling='avg', weights='imagenet'))\n",
    "model.add(Dense(4, activation='softmax'))\n",
    "\n",
    "model.layers[0].trainable=False\n",
    "model.summary()"
   ],
   "metadata": {
    "collapsed": false,
    "ExecuteTime": {
     "end_time": "2024-04-16T16:00:02.307496100Z",
     "start_time": "2024-04-16T15:59:57.892971300Z"
    }
   },
   "id": "88ecbf0b5226455"
  },
  {
   "cell_type": "code",
   "execution_count": 5,
   "outputs": [],
   "source": [
    "model.compile(optimizer='Adam', loss='categorical_crossentropy', metrics=['accuracy'])"
   ],
   "metadata": {
    "collapsed": false,
    "ExecuteTime": {
     "end_time": "2024-04-16T16:00:03.437498400Z",
     "start_time": "2024-04-16T16:00:03.409498300Z"
    }
   },
   "id": "53c746dbf9caab2d"
  },
  {
   "cell_type": "code",
   "execution_count": 6,
   "outputs": [
    {
     "name": "stdout",
     "output_type": "stream",
     "text": [
      "Epoch 1/10\n",
      "774/774 [==============================] - 71s 85ms/step - loss: 0.1741 - accuracy: 0.9431\n",
      "Epoch 2/10\n",
      "774/774 [==============================] - 64s 83ms/step - loss: 0.0703 - accuracy: 0.9766\n",
      "Epoch 3/10\n",
      "774/774 [==============================] - 65s 83ms/step - loss: 0.0573 - accuracy: 0.9808\n",
      "Epoch 4/10\n",
      "774/774 [==============================] - 64s 83ms/step - loss: 0.0510 - accuracy: 0.9833\n",
      "Epoch 5/10\n",
      "774/774 [==============================] - 65s 84ms/step - loss: 0.0435 - accuracy: 0.9862\n",
      "Epoch 6/10\n",
      "774/774 [==============================] - 66s 85ms/step - loss: 0.0401 - accuracy: 0.9866\n",
      "Epoch 7/10\n",
      "774/774 [==============================] - 65s 84ms/step - loss: 0.0357 - accuracy: 0.9875\n",
      "Epoch 8/10\n",
      "774/774 [==============================] - 65s 84ms/step - loss: 0.0368 - accuracy: 0.9874\n",
      "Epoch 9/10\n",
      "774/774 [==============================] - 66s 85ms/step - loss: 0.0336 - accuracy: 0.9886\n",
      "Epoch 10/10\n",
      "774/774 [==============================] - 65s 84ms/step - loss: 0.0336 - accuracy: 0.9883\n"
     ]
    },
    {
     "data": {
      "text/plain": "<keras.callbacks.History at 0x25b68de3dc0>"
     },
     "execution_count": 6,
     "metadata": {},
     "output_type": "execute_result"
    }
   ],
   "source": [
    "model.fit(x = train_X, y= train_y, epochs=10)"
   ],
   "metadata": {
    "collapsed": false,
    "ExecuteTime": {
     "end_time": "2024-04-16T16:11:05.504625200Z",
     "start_time": "2024-04-16T16:00:09.981039400Z"
    }
   },
   "id": "890f1f26bc346981"
  },
  {
   "cell_type": "code",
   "execution_count": 7,
   "outputs": [],
   "source": [
    "model.save('NN/model_mnist_renet50_4_categories.h5')"
   ],
   "metadata": {
    "collapsed": false,
    "ExecuteTime": {
     "end_time": "2024-04-16T16:11:32.978162Z",
     "start_time": "2024-04-16T16:11:32.508163900Z"
    }
   },
   "id": "41c96113443e44c5"
  },
  {
   "cell_type": "code",
   "execution_count": 10,
   "outputs": [
    {
     "name": "stdout",
     "output_type": "stream",
     "text": [
      "130/130 [==============================] - 13s 86ms/step - loss: 0.0382 - accuracy: 0.9885\n",
      "[0.03815601393580437, 0.988453209400177]\n"
     ]
    }
   ],
   "source": [
    "model_final = load_model('NN/model_mnist_renet50_4_categories.h5')\n",
    "test_X = np.expand_dims(test_X, axis=-1)  # Add a channel dimension for ResNet50\n",
    "test_X = np.repeat(test_X, 3, axis=-1)  # Repeat the single channel to simulate 3 channels\n",
    "test_X = np.pad(test_X, ((0, 0), (2, 2), (2, 2), (0, 0)), mode='constant')  # Resize to 224x224\n",
    "result = model_final.evaluate(test_X, to_categorical(test_y, 4))\n",
    "print(result)"
   ],
   "metadata": {
    "collapsed": false,
    "ExecuteTime": {
     "end_time": "2024-04-16T16:12:14.621765100Z",
     "start_time": "2024-04-16T16:11:57.749743500Z"
    }
   },
   "id": "4ae6b0e1ed5e3747"
  },
  {
   "cell_type": "code",
   "execution_count": 11,
   "outputs": [
    {
     "name": "stdout",
     "output_type": "stream",
     "text": [
      "1/1 [==============================] - 2s 2s/step\n"
     ]
    }
   ],
   "source": [
    "pred = model_final.predict(test_X[9:10])"
   ],
   "metadata": {
    "collapsed": false,
    "ExecuteTime": {
     "end_time": "2024-04-16T16:12:24.465142400Z",
     "start_time": "2024-04-16T16:12:22.239768100Z"
    }
   },
   "id": "818dbb9e5efc49c8"
  },
  {
   "cell_type": "code",
   "execution_count": 12,
   "outputs": [
    {
     "data": {
      "text/plain": "<matplotlib.image.AxesImage at 0x25b009fb370>"
     },
     "execution_count": 12,
     "metadata": {},
     "output_type": "execute_result"
    },
    {
     "data": {
      "text/plain": "<Figure size 640x480 with 1 Axes>",
      "image/png": "[encoded data removed]"
     },
     "metadata": {},
     "output_type": "display_data"
    }
   ],
   "source": [
    "pyplot.imshow(test_X[9], cmap=pyplot.get_cmap('gray'))"
   ],
   "metadata": {
    "collapsed": false,
    "ExecuteTime": {
     "end_time": "2024-04-16T16:12:25.708142500Z",
     "start_time": "2024-04-16T16:12:25.379144300Z"
    }
   },
   "id": "b2263ecb2f561637"
  },
  {
   "cell_type": "code",
   "execution_count": 13,
   "outputs": [
    {
     "data": {
      "text/plain": "0"
     },
     "execution_count": 13,
     "metadata": {},
     "output_type": "execute_result"
    }
   ],
   "source": [
    "np.argmax(pred[0])"
   ],
   "metadata": {
    "collapsed": false,
    "ExecuteTime": {
     "end_time": "2024-04-16T16:12:29.519153100Z",
     "start_time": "2024-04-16T16:12:29.486144100Z"
    }
   },
   "id": "ed311a0e978f3834"
  },
  {
   "cell_type": "code",
   "execution_count": null,
   "outputs": [],
   "source": [],
   "metadata": {
    "collapsed": false
   },
   "id": "bd6652a8a8553ddc"
  }
 ],
 "metadata": {
  "kernelspec": {
   "display_name": "Python 3",
   "language": "python",
   "name": "python3"
  },
  "language_info": {
   "codemirror_mode": {
    "name": "ipython",
    "version": 2
   },
   "file_extension": ".py",
   "mimetype": "text/x-python",
   "name": "python",
   "nbconvert_exporter": "python",
   "pygments_lexer": "ipython2",
   "version": "2.7.6"
  }
 },
 "nbformat": 4,
 "nbformat_minor": 5
}
