{
 "cells": [
  {
   "cell_type": "code",
   "execution_count": null,
   "id": "initial_id",
   "metadata": {
    "collapsed": true
   },
   "outputs": [],
   "source": [
    "import cv2\n",
    "import numpy as np\n",
    "from tensorflow.keras.utils import to_categorical\n",
    "from keras.applications import InceptionV3\n",
    "from tensorflow.keras import layers, models"
   ]
  },
  {
   "cell_type": "code",
   "execution_count": null,
   "outputs": [],
   "source": [
    "from keras.datasets import mnist\n",
    "import tensorflow as tf\n",
    "\n",
    "(train_x, train_y), (test_X, test_y) = mnist.load_data()\n",
    "\n",
    "train_x = np.stack([np.stack([img] * 3, axis=-1) for img in train_x])\n",
    "train_x = np.array([tf.image.resize(img, (128, 128)) for img in train_x])\n",
    "\n",
    "test_X = np.stack([np.stack([img] * 3, axis=-1) for img in test_X])\n",
    "test_X = np.array([tf.image.resize(img, (128, 128)) for img in test_X])\n",
    "\n",
    "train_x = train_x / 255.0\n",
    "test_X = test_X / 255.0\n",
    "\n",
    "train_y = to_categorical(train_y, 10)\n",
    "test_y = to_categorical(test_y, 10)"
   ],
   "metadata": {
    "collapsed": false
   },
   "id": "686bb0664577c59e"
  },
  {
   "cell_type": "code",
   "execution_count": null,
   "outputs": [],
   "source": [
    "from keras.applications import MobileNet\n",
    "from tensorflow import keras\n",
    "from keras.layers import Dense, GlobalAveragePooling2D\n",
    "from keras import Sequential\n",
    "\n",
    "base_model = MobileNet(weights='imagenet', include_top=False, input_shape=(128, 128, 3))\n",
    "\n",
    "base_model.trainable = False\n",
    "\n",
    "model = models.Sequential([\n",
    "    base_model,\n",
    "    layers.GlobalAveragePooling2D(), \n",
    "    layers.Dense(128, activation='relu'),\n",
    "    layers.Dense(10, activation='softmax')\n",
    "])"
   ],
   "metadata": {
    "collapsed": false
   },
   "id": "f0b768dc70b5ba35"
  },
  {
   "cell_type": "code",
   "execution_count": null,
   "outputs": [],
   "source": [
    "model.compile(optimizer='adam', loss='categorical_crossentropy', metrics=['accuracy'])"
   ],
   "metadata": {
    "collapsed": false
   },
   "id": "d1c09fb0bb8359d2"
  },
  {
   "cell_type": "code",
   "execution_count": null,
   "outputs": [],
   "source": [
    "from keras.callbacks import EarlyStopping\n",
    "\n",
    "batch_size = 32\n",
    "epochs = 10\n",
    "\n",
    "early_stopping = EarlyStopping(\n",
    "    monitor='accuracy',\n",
    "    patience = 1,\n",
    "    restore_best_weights = True\n",
    ")\n",
    "\n",
    "model.fit(train_x, train_y, batch_size=batch_size, epochs=epochs, callbacks=[early_stopping])"
   ],
   "metadata": {
    "collapsed": false
   },
   "id": "1c9a4857a8f78ec8"
  },
  {
   "cell_type": "code",
   "execution_count": null,
   "outputs": [],
   "source": [
    "model.save('NN/model_mnist_mobilenet.h5')"
   ],
   "metadata": {
    "collapsed": false
   },
   "id": "1c9c2fb8001ad598"
  },
  {
   "cell_type": "code",
   "execution_count": null,
   "outputs": [],
   "source": [
    "test_loss, test_acc = model.evaluate(test_X, test_y)\n",
    "print(f'\\nTest accuracy: {test_acc}')"
   ],
   "metadata": {
    "collapsed": false
   },
   "id": "feeb278e1bc2ed39"
  },
  {
   "cell_type": "code",
   "execution_count": null,
   "outputs": [],
   "source": [],
   "metadata": {
    "collapsed": false
   },
   "id": "a684b8d7167ac212"
  }
 ],
 "metadata": {
  "kernelspec": {
   "display_name": "Python 3",
   "language": "python",
   "name": "python3"
  },
  "language_info": {
   "codemirror_mode": {
    "name": "ipython",
    "version": 2
   },
   "file_extension": ".py",
   "mimetype": "text/x-python",
   "name": "python",
   "nbconvert_exporter": "python",
   "pygments_lexer": "ipython2",
   "version": "2.7.6"
  }
 },
 "nbformat": 4,
 "nbformat_minor": 5
}
