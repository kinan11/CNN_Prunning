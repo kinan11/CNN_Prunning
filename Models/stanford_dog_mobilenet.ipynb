{
 "cells": [
  {
   "cell_type": "code",
   "execution_count": null,
   "id": "initial_id",
   "metadata": {
    "collapsed": true
   },
   "outputs": [],
   "source": [
    "from keras.layers import *\n",
    "from keras.optimizers import *\n",
    "from keras.applications import *\n",
    "from keras.models import Model\n",
    "from tensorflow.keras.preprocessing.image import ImageDataGenerator\n",
    "import keras"
   ]
  },
  {
   "cell_type": "code",
   "execution_count": null,
   "outputs": [],
   "source": [
    "training_data_gen = ImageDataGenerator(\n",
    "    rescale=1. / 255,\n",
    "    zoom_range = 0.12,\n",
    "    height_shift_range = 0.12,\n",
    "    width_shift_range = 0.12,\n",
    "    horizontal_flip = True\n",
    ")\n",
    "test_data_gen = ImageDataGenerator(rescale=1./255)"
   ],
   "metadata": {
    "collapsed": false
   },
   "id": "bea947aad6ea4a5c"
  },
  {
   "cell_type": "code",
   "execution_count": null,
   "outputs": [],
   "source": [
    "import os\n",
    "import random\n",
    "all_classes = os.listdir('./data/images/Images')\n",
    "selected_classes = all_classes[:100]\n",
    "train_generator = training_data_gen.flow_from_directory('./data/images/Images',\n",
    "                                                        target_size=(300, 300),\n",
    "                                                        batch_size=32,\n",
    "                                                        class_mode='categorical')\n",
    "test_generator = test_data_gen.flow_from_directory('./data/test',\n",
    "                                                        target_size=(300, 300),\n",
    "                                                        batch_size=32,\n",
    "                                                        class_mode='categorical')"
   ],
   "metadata": {
    "collapsed": false
   },
   "id": "550f228d0cec3cf1"
  },
  {
   "cell_type": "code",
   "execution_count": null,
   "outputs": [],
   "source": [
    "base_model = keras.applications.MobileNet(\n",
    "    weights='imagenet',\n",
    "    input_shape=(300,300, 3),\n",
    "    include_top=False)\n",
    "\n",
    "for layer in base_model.layers:\n",
    "    layer.trainable = False"
   ],
   "metadata": {
    "collapsed": false
   },
   "id": "9ef89c3f50adab76"
  },
  {
   "cell_type": "code",
   "execution_count": null,
   "outputs": [],
   "source": [
    "inputs = keras.Input(shape=(300, 300, 3))\n",
    "x = base_model.output\n",
    "x = GlobalAveragePooling2D()(x)\n",
    "x = Dense(128, activation='relu')(x)\n",
    "x = Dense(64, activation='relu')(x)\n",
    "predictions = Dense(100, activation='softmax')(x)\n",
    "\n",
    "model = Model(base_model.input, predictions)\n",
    "print(model.summary())"
   ],
   "metadata": {
    "collapsed": false
   },
   "id": "249fa2176d9a83fc"
  },
  {
   "cell_type": "code",
   "execution_count": null,
   "outputs": [],
   "source": [
    "model.compile(optimizer='SGD',\n",
    "                  loss='categorical_crossentropy',\n",
    "                  metrics=['accuracy'])"
   ],
   "metadata": {
    "collapsed": false
   },
   "id": "66889314ad7daf36"
  },
  {
   "cell_type": "code",
   "execution_count": null,
   "outputs": [],
   "source": [
    "from keras.callbacks import EarlyStopping\n",
    "import scipy.ndimage\n",
    "early_stopping = EarlyStopping(\n",
    "    monitor='accuracy',\n",
    "    patience=1,\n",
    "    restore_best_weights=True\n",
    ")\n",
    "model.fit(train_generator,\n",
    "                        epochs=10,\n",
    "                        validation_data=test_generator, callbacks=[early_stopping])"
   ],
   "metadata": {
    "collapsed": false
   },
   "id": "f6c32494cca3f4a5"
  },
  {
   "cell_type": "code",
   "execution_count": null,
   "outputs": [],
   "source": [
    "test_loss, test_acc = model.evaluate(test_generator, verbose=2)\n",
    "print(f'\\nTest accuracy: {test_acc}')"
   ],
   "metadata": {
    "collapsed": false
   },
   "id": "3573bd49fc3bba39"
  },
  {
   "cell_type": "code",
   "execution_count": null,
   "outputs": [],
   "source": [
    "model.save('NN/sanford_dog_mobilenet.h5')"
   ],
   "metadata": {
    "collapsed": false
   },
   "id": "1bbda30dbc0784c"
  },
  {
   "cell_type": "code",
   "execution_count": null,
   "outputs": [],
   "source": [
    "from keras.saving.save import load_model\n",
    "\n",
    "model = load_model('NN/sanford_dog_mobilenet.h5')\n",
    "test_loss, test_acc = model.evaluate(test_generator, verbose=2)\n",
    "print(f'\\nTest accuracy: {test_acc}')"
   ],
   "metadata": {
    "collapsed": false
   },
   "id": "1f21fb4bdcd382d1"
  },
  {
   "cell_type": "code",
   "execution_count": null,
   "outputs": [],
   "source": [],
   "metadata": {
    "collapsed": false
   },
   "id": "8febdc94bc435872"
  }
 ],
 "metadata": {
  "kernelspec": {
   "display_name": "Python 3",
   "language": "python",
   "name": "python3"
  },
  "language_info": {
   "codemirror_mode": {
    "name": "ipython",
    "version": 2
   },
   "file_extension": ".py",
   "mimetype": "text/x-python",
   "name": "python",
   "nbconvert_exporter": "python",
   "pygments_lexer": "ipython2",
   "version": "2.7.6"
  }
 },
 "nbformat": 4,
 "nbformat_minor": 5
}
