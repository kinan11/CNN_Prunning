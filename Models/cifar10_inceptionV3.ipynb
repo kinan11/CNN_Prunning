{
 "cells": [
  {
   "cell_type": "code",
   "execution_count": 1,
   "id": "initial_id",
   "metadata": {
    "collapsed": true,
    "ExecuteTime": {
     "end_time": "2024-09-14T07:26:51.097540200Z",
     "start_time": "2024-09-14T07:26:48.231559700Z"
    }
   },
   "outputs": [],
   "source": [
    "from tensorflow.keras.utils import to_categorical\n",
    "from keras.datasets import cifar10\n",
    "from keras.applications import InceptionV3\n",
    "from keras.layers import GlobalAveragePooling2D, Dense, Dropout\n",
    "from tensorflow.keras.models import Model\n",
    "from keras.callbacks import EarlyStopping\n",
    "import tensorflow as tf\n",
    "from tensorflow.keras.layers import Lambda\n",
    "from tensorflow.keras import layers, models"
   ]
  },
  {
   "cell_type": "code",
   "execution_count": 2,
   "outputs": [],
   "source": [
    "(X_train, y_train), (X_test, y_test) = cifar10.load_data()\n",
    "\n",
    "y_train=to_categorical(y_train)\n",
    "y_test=to_categorical(y_test)"
   ],
   "metadata": {
    "collapsed": false,
    "ExecuteTime": {
     "end_time": "2024-09-14T07:26:51.749551Z",
     "start_time": "2024-09-14T07:26:51.101542200Z"
    }
   },
   "id": "1100a8765a6a4900"
  },
  {
   "cell_type": "code",
   "execution_count": 3,
   "outputs": [],
   "source": [
    "base_model = InceptionV3(weights='imagenet', include_top=False, input_shape=(224, 224, 3))\n",
    "base_model.trainable = False"
   ],
   "metadata": {
    "collapsed": false,
    "ExecuteTime": {
     "end_time": "2024-09-14T07:26:53.995070100Z",
     "start_time": "2024-09-14T07:26:51.751541300Z"
    }
   },
   "id": "3efc45dbeca27db6"
  },
  {
   "cell_type": "code",
   "execution_count": 4,
   "outputs": [],
   "source": [
    "inputs = tf.keras.Input(shape=(32, 32, 3))\n",
    "x = Lambda(lambda image: tf.image.resize(image, (224, 224)))(inputs)\n",
    "x = tf.keras.applications.inception_v3.preprocess_input(x)\n",
    "x = base_model(x, training=False)\n",
    "x = GlobalAveragePooling2D()(x)\n",
    "x = Dropout(0.3)(x)\n",
    "outputs = Dense(10, activation='softmax')(x)\n",
    "model = Model(inputs, outputs)"
   ],
   "metadata": {
    "collapsed": false,
    "ExecuteTime": {
     "end_time": "2024-09-14T07:26:54.660978300Z",
     "start_time": "2024-09-14T07:26:53.997071300Z"
    }
   },
   "id": "425d0f30ba7f7a1b"
  },
  {
   "cell_type": "code",
   "execution_count": 5,
   "outputs": [],
   "source": [
    "model.compile(optimizer='adam', loss='categorical_crossentropy', metrics=['accuracy'])"
   ],
   "metadata": {
    "collapsed": false,
    "ExecuteTime": {
     "end_time": "2024-09-14T07:26:54.830982100Z",
     "start_time": "2024-09-14T07:26:54.662982200Z"
    }
   },
   "id": "dacdb18e2e42aa15"
  },
  {
   "cell_type": "code",
   "execution_count": 6,
   "outputs": [
    {
     "name": "stdout",
     "output_type": "stream",
     "text": [
      "Epoch 1/10\n",
      "1563/1563 [==============================] - 1492s 951ms/step - loss: 0.5677 - accuracy: 0.8147\n",
      "Epoch 2/10\n",
      "1563/1563 [==============================] - 1585s 1s/step - loss: 0.4617 - accuracy: 0.8492\n",
      "Epoch 3/10\n",
      "1563/1563 [==============================] - 1473s 943ms/step - loss: 0.4469 - accuracy: 0.8549\n",
      "Epoch 4/10\n",
      "1563/1563 [==============================] - 1405s 899ms/step - loss: 0.4438 - accuracy: 0.8554\n",
      "Epoch 5/10\n",
      "1563/1563 [==============================] - 1395s 892ms/step - loss: 0.4389 - accuracy: 0.8585\n",
      "Epoch 6/10\n",
      "1563/1563 [==============================] - 1384s 885ms/step - loss: 0.4398 - accuracy: 0.8594\n",
      "Epoch 7/10\n",
      "1563/1563 [==============================] - 1382s 884ms/step - loss: 0.4399 - accuracy: 0.8584\n"
     ]
    },
    {
     "data": {
      "text/plain": "<keras.callbacks.History at 0x25254f1b970>"
     },
     "execution_count": 6,
     "metadata": {},
     "output_type": "execute_result"
    }
   ],
   "source": [
    "early_stopping = EarlyStopping(\n",
    "    monitor='accuracy',\n",
    "    patience=1,\n",
    "    restore_best_weights=True\n",
    ")\n",
    "model.fit(x = X_train, y= y_train, epochs=10, callbacks=[early_stopping])"
   ],
   "metadata": {
    "collapsed": false,
    "ExecuteTime": {
     "end_time": "2024-09-14T10:15:31.828257900Z",
     "start_time": "2024-09-14T07:26:54.835982200Z"
    }
   },
   "id": "b09a1da4c9258bc2"
  },
  {
   "cell_type": "code",
   "execution_count": 7,
   "outputs": [
    {
     "name": "stdout",
     "output_type": "stream",
     "text": [
      "313/313 - 272s - loss: 0.4221 - accuracy: 0.8697 - 272s/epoch - 867ms/step\n",
      "\n",
      "Test accuracy: 0.869700014591217\n"
     ]
    }
   ],
   "source": [
    "test_loss, test_acc = model.evaluate(X_test, y_test, verbose=2)\n",
    "print(f'\\nTest accuracy: {test_acc}')"
   ],
   "metadata": {
    "collapsed": false,
    "ExecuteTime": {
     "end_time": "2024-09-14T10:20:04.230143900Z",
     "start_time": "2024-09-14T10:15:31.850304600Z"
    }
   },
   "id": "11a286c7d758d937"
  },
  {
   "cell_type": "code",
   "execution_count": 8,
   "outputs": [],
   "source": [
    "model.save('NN/inception_cifar10.h5')"
   ],
   "metadata": {
    "collapsed": false,
    "ExecuteTime": {
     "end_time": "2024-09-14T10:20:05.068993Z",
     "start_time": "2024-09-14T10:20:04.224142300Z"
    }
   },
   "id": "e970799a38ce3800"
  },
  {
   "cell_type": "code",
   "execution_count": 8,
   "outputs": [],
   "source": [],
   "metadata": {
    "collapsed": false,
    "ExecuteTime": {
     "end_time": "2024-09-14T10:20:05.085392300Z",
     "start_time": "2024-09-14T10:20:05.070964300Z"
    }
   },
   "id": "22fbf4bd43819d0c"
  }
 ],
 "metadata": {
  "kernelspec": {
   "display_name": "Python 3",
   "language": "python",
   "name": "python3"
  },
  "language_info": {
   "codemirror_mode": {
    "name": "ipython",
    "version": 2
   },
   "file_extension": ".py",
   "mimetype": "text/x-python",
   "name": "python",
   "nbconvert_exporter": "python",
   "pygments_lexer": "ipython2",
   "version": "2.7.6"
  }
 },
 "nbformat": 4,
 "nbformat_minor": 5
}
