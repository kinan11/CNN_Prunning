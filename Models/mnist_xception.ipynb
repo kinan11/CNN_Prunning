{
 "cells": [
  {
   "cell_type": "code",
   "execution_count": 1,
   "id": "5cff58f9-b9d7-4ed2-9aa7-d6eb166b1115",
   "metadata": {
    "ExecuteTime": {
     "end_time": "2024-09-14T11:29:41.096661400Z",
     "start_time": "2024-09-14T11:29:32.401662200Z"
    }
   },
   "outputs": [
    {
     "name": "stderr",
     "output_type": "stream",
     "text": [
      "C:\\Users\\User\\AppData\\Local\\Programs\\Python\\Python39\\lib\\site-packages\\scipy\\__init__.py:146: UserWarning: A NumPy version >=1.17.3 and <1.25.0 is required for this version of SciPy (detected version 1.26.4\n",
      "  warnings.warn(f\"A NumPy version >={np_minversion} and <{np_maxversion}\"\n"
     ]
    }
   ],
   "source": [
    "from tensorflow.keras.applications import Xception\n",
    "import keras\n",
    "from keras.layers import *\n",
    "from keras.models import Model\n",
    "from tensorflow.keras.datasets import mnist\n",
    "import numpy as np\n",
    "import cv2\n",
    "from tensorflow.keras.utils import to_categorical"
   ]
  },
  {
   "cell_type": "code",
   "execution_count": 2,
   "id": "47c3f200-6952-4cb7-9fb6-d309f88a2e92",
   "metadata": {
    "ExecuteTime": {
     "end_time": "2024-09-14T11:31:02.113110700Z",
     "start_time": "2024-09-14T11:29:41.100663200Z"
    }
   },
   "outputs": [],
   "source": [
    "(X_train, y_train), (X_test, y_test) = mnist.load_data()\n",
    "\n",
    "X_train = np.array([cv2.resize(img, (128, 128)) for img in X_train])\n",
    "X_test = np.array([cv2.resize(img, (128, 128)) for img in X_test])\n",
    "\n",
    "X_train = np.stack([X_train] * 3, axis=-1)\n",
    "X_test = np.stack([X_test] * 3, axis=-1)\n",
    "\n",
    "X_train = X_train / 255.0\n",
    "X_test = X_test / 255.0\n",
    "\n",
    "y_train = to_categorical(y_train, num_classes=10)\n",
    "y_test = to_categorical(y_test, num_classes=10)"
   ]
  },
  {
   "cell_type": "code",
   "execution_count": 3,
   "id": "35c9f5c4-8eb2-4575-99ef-127ad80175d3",
   "metadata": {
    "ExecuteTime": {
     "end_time": "2024-09-14T11:31:05.146022300Z",
     "start_time": "2024-09-14T11:31:02.126114400Z"
    }
   },
   "outputs": [],
   "source": [
    "base_model = Xception(include_top=False, weights='imagenet', input_shape=(128,128,3))\n",
    "base_model.trainable = False"
   ]
  },
  {
   "cell_type": "code",
   "execution_count": 4,
   "id": "268d7ff0-15cd-45c9-b617-7106fafbbc37",
   "metadata": {
    "ExecuteTime": {
     "end_time": "2024-09-14T11:31:05.195023800Z",
     "start_time": "2024-09-14T11:31:05.156028100Z"
    }
   },
   "outputs": [],
   "source": [
    "x = base_model.output\n",
    "x = GlobalAveragePooling2D()(x)\n",
    "outputs = Dense(10, activation='softmax')(x)\n",
    "model = Model(inputs=base_model.input, outputs=outputs)"
   ]
  },
  {
   "cell_type": "code",
   "execution_count": 5,
   "id": "f2d594e4-7e21-4b2a-ad23-16088d1fc3f1",
   "metadata": {
    "ExecuteTime": {
     "end_time": "2024-09-14T11:31:05.242025Z",
     "start_time": "2024-09-14T11:31:05.201028200Z"
    }
   },
   "outputs": [],
   "source": [
    "model.compile(optimizer='adam', loss='categorical_crossentropy', metrics=['accuracy'])"
   ]
  },
  {
   "cell_type": "code",
   "execution_count": 6,
   "id": "4e4cbf03-ba86-4b4b-8dd1-e1da576790da",
   "metadata": {
    "ExecuteTime": {
     "end_time": "2024-09-14T14:53:23.765897300Z",
     "start_time": "2024-09-14T11:31:05.248034Z"
    }
   },
   "outputs": [
    {
     "name": "stdout",
     "output_type": "stream",
     "text": [
      "Epoch 1/10\n",
      "1875/1875 [==============================] - 1195s 633ms/step - loss: 0.3280 - accuracy: 0.9093\n",
      "Epoch 2/10\n",
      "1875/1875 [==============================] - 1329s 709ms/step - loss: 0.1622 - accuracy: 0.9521\n",
      "Epoch 3/10\n",
      "1875/1875 [==============================] - 1231s 657ms/step - loss: 0.1297 - accuracy: 0.9610\n",
      "Epoch 4/10\n",
      "1875/1875 [==============================] - 1245s 664ms/step - loss: 0.1101 - accuracy: 0.9674\n",
      "Epoch 5/10\n",
      "1875/1875 [==============================] - 1189s 634ms/step - loss: 0.0987 - accuracy: 0.9707\n",
      "Epoch 6/10\n",
      "1875/1875 [==============================] - 1150s 613ms/step - loss: 0.0897 - accuracy: 0.9732\n",
      "Epoch 7/10\n",
      "1875/1875 [==============================] - 1102s 588ms/step - loss: 0.0814 - accuracy: 0.9760\n",
      "Epoch 8/10\n",
      "1875/1875 [==============================] - 1127s 601ms/step - loss: 0.0760 - accuracy: 0.9772\n",
      "Epoch 9/10\n",
      "1875/1875 [==============================] - 1182s 631ms/step - loss: 0.0711 - accuracy: 0.9786\n",
      "Epoch 10/10\n",
      "1875/1875 [==============================] - 1223s 652ms/step - loss: 0.0661 - accuracy: 0.9803\n"
     ]
    },
    {
     "data": {
      "text/plain": "<keras.callbacks.History at 0x193211cf430>"
     },
     "execution_count": 6,
     "metadata": {},
     "output_type": "execute_result"
    }
   ],
   "source": [
    "from keras.callbacks import EarlyStopping\n",
    "\n",
    "batch_size = 32\n",
    "epochs = 10\n",
    "\n",
    "early_stopping = EarlyStopping(\n",
    "    monitor='accuracy',\n",
    "    patience = 1,\n",
    "    restore_best_weights = True\n",
    ")\n",
    "\n",
    "model.fit(X_train, y_train, batch_size=batch_size, epochs=epochs, callbacks=[early_stopping])"
   ]
  },
  {
   "cell_type": "code",
   "execution_count": 7,
   "id": "b276a90b-ccba-4604-8a81-0d1013d04196",
   "metadata": {
    "ExecuteTime": {
     "end_time": "2024-09-14T14:53:24.507597100Z",
     "start_time": "2024-09-14T14:53:23.778896200Z"
    }
   },
   "outputs": [],
   "source": [
    "model.save('NN/model_mnist_xception.h5')"
   ]
  },
  {
   "cell_type": "code",
   "execution_count": 8,
   "id": "bff21ecf-9bf1-4236-8cb4-b0e9fbc3aa0a",
   "metadata": {
    "ExecuteTime": {
     "end_time": "2024-09-14T14:56:47.545965200Z",
     "start_time": "2024-09-14T14:53:24.512597500Z"
    }
   },
   "outputs": [
    {
     "name": "stdout",
     "output_type": "stream",
     "text": [
      "313/313 [==============================] - 184s 582ms/step - loss: 0.1088 - accuracy: 0.9658\n",
      "\n",
      "Test accuracy: 0.9657999873161316\n"
     ]
    }
   ],
   "source": [
    "test_loss, test_acc = model.evaluate(X_test, y_test)\n",
    "print(f'\\nTest accuracy: {test_acc}')"
   ]
  },
  {
   "cell_type": "code",
   "execution_count": 9,
   "id": "204bc513-51b5-4857-8a85-db6b67af7ef3",
   "metadata": {
    "ExecuteTime": {
     "end_time": "2024-09-14T14:59:53.487497300Z",
     "start_time": "2024-09-14T14:56:47.556966900Z"
    }
   },
   "outputs": [
    {
     "name": "stdout",
     "output_type": "stream",
     "text": [
      "313/313 [==============================] - 183s 581ms/step - loss: 0.1088 - accuracy: 0.9658\n",
      "\n",
      "Test accuracy: 0.9657999873161316\n"
     ]
    }
   ],
   "source": [
    "from keras.saving.save import load_model\n",
    "\n",
    "model = load_model('NN/model_mnist_xception.h5')\n",
    "\n",
    "test_loss, test_acc = model.evaluate(X_test, y_test)\n",
    "print(f'\\nTest accuracy: {test_acc}')"
   ]
  },
  {
   "cell_type": "code",
   "execution_count": 9,
   "outputs": [],
   "source": [],
   "metadata": {
    "collapsed": false,
    "ExecuteTime": {
     "end_time": "2024-09-14T14:59:53.505499300Z",
     "start_time": "2024-09-14T14:59:53.495498300Z"
    }
   },
   "id": "ae86d8b78789e09e"
  }
 ],
 "metadata": {
  "kernelspec": {
   "display_name": "Python 3 (ipykernel)",
   "language": "python",
   "name": "python3"
  },
  "language_info": {
   "codemirror_mode": {
    "name": "ipython",
    "version": 3
   },
   "file_extension": ".py",
   "mimetype": "text/x-python",
   "name": "python",
   "nbconvert_exporter": "python",
   "pygments_lexer": "ipython3",
   "version": "3.12.6"
  }
 },
 "nbformat": 4,
 "nbformat_minor": 5
}
