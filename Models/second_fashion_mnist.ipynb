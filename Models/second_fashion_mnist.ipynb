{
 "cells": [
  {
   "cell_type": "code",
   "execution_count": 5,
   "id": "initial_id",
   "metadata": {
    "collapsed": true,
    "ExecuteTime": {
     "end_time": "2023-12-28T18:11:00.216282700Z",
     "start_time": "2023-12-28T18:11:00.201709200Z"
    }
   },
   "outputs": [],
   "source": [
    "from keras.applications import MobileNet"
   ]
  },
  {
   "cell_type": "code",
   "execution_count": 9,
   "outputs": [],
   "source": [
    "import cv2\n",
    "import numpy as np\n",
    "from tensorflow.keras.utils import to_categorical\n",
    "from tensorflow.keras.datasets import fashion_mnist\n",
    "\n",
    "(X_train, y_train), (X_test, y_test) = fashion_mnist.load_data()\n",
    "\n",
    "X_train = np.array([cv2.resize(im, (128, 128)) for im in X_train])\n",
    "X_test = np.array([cv2.resize(im, (128, 128)) for im in X_test])\n",
    "\n",
    "X_train = X_train.astype('float32')\n",
    "X_test = X_test.astype('float32')\n",
    "\n",
    "X_train /= 255.0\n",
    "X_test /= 255.0\n",
    "\n",
    "X_train = np.stack((X_train,)*3, axis=-1)\n",
    "X_test = np.stack((X_test,)*3, axis=-1)\n",
    "\n",
    "y_train = to_categorical(y_train)\n",
    "y_test = to_categorical(y_test)"
   ],
   "metadata": {
    "collapsed": false,
    "ExecuteTime": {
     "end_time": "2023-12-28T18:14:57.823845100Z",
     "start_time": "2023-12-28T18:12:01.510693100Z"
    }
   },
   "id": "eaad7d520e254f60"
  },
  {
   "cell_type": "code",
   "execution_count": 17,
   "outputs": [
    {
     "data": {
      "text/plain": "(60000, 10)"
     },
     "execution_count": 17,
     "metadata": {},
     "output_type": "execute_result"
    }
   ],
   "source": [
    "X_train.shape\n",
    "y_train.shape"
   ],
   "metadata": {
    "collapsed": false,
    "ExecuteTime": {
     "end_time": "2023-12-28T18:19:01.140801300Z",
     "start_time": "2023-12-28T18:19:01.124786100Z"
    }
   },
   "id": "95646aad0e9c4e7b"
  },
  {
   "cell_type": "code",
   "execution_count": 21,
   "outputs": [],
   "source": [
    "from keras import Model\n",
    "from keras.layers import Dense\n",
    "\n",
    "base_model = MobileNet(include_top=False, pooling='avg', weights='imagenet', input_shape=(128, 128, 3))\n",
    "base_model.trainable = False\n",
    "\n",
    "# Add new layers for Fashion MNIST classification\n",
    "x = base_model.output\n",
    "x = Dense(128, activation='relu')(x)\n",
    "x = Dense(10, activation='softmax')(x)\n",
    "\n",
    "# Create a new model\n",
    "model = Model(inputs=base_model.input, outputs=x)"
   ],
   "metadata": {
    "collapsed": false,
    "ExecuteTime": {
     "end_time": "2023-12-28T18:22:20.979650100Z",
     "start_time": "2023-12-28T18:22:20.088107600Z"
    }
   },
   "id": "cbd2c7deda72e6dc"
  },
  {
   "cell_type": "code",
   "execution_count": 23,
   "outputs": [],
   "source": [
    "from keras.optimizers import Adam\n",
    "\n",
    "model.compile(optimizer=Adam(), loss='categorical_crossentropy', metrics=['accuracy'])"
   ],
   "metadata": {
    "collapsed": false,
    "ExecuteTime": {
     "end_time": "2023-12-28T18:22:29.486114700Z",
     "start_time": "2023-12-28T18:22:29.456104200Z"
    }
   },
   "id": "9430752a0d2f28b5"
  },
  {
   "cell_type": "code",
   "execution_count": 25,
   "outputs": [
    {
     "name": "stdout",
     "output_type": "stream",
     "text": [
      "Epoch 1/10\n",
      "1875/1875 [==============================] - 351s 187ms/step - loss: 0.2504 - accuracy: 0.9068\n",
      "Epoch 2/10\n",
      "1875/1875 [==============================] - 348s 186ms/step - loss: 0.2210 - accuracy: 0.9188\n",
      "Epoch 3/10\n",
      "1875/1875 [==============================] - 351s 187ms/step - loss: 0.1993 - accuracy: 0.9263\n",
      "Epoch 4/10\n",
      "1875/1875 [==============================] - 363s 194ms/step - loss: 0.1817 - accuracy: 0.9322\n",
      "Epoch 5/10\n",
      "1875/1875 [==============================] - 370s 197ms/step - loss: 0.1657 - accuracy: 0.9373\n",
      "Epoch 6/10\n",
      "1875/1875 [==============================] - 344s 184ms/step - loss: 0.1523 - accuracy: 0.9423\n",
      "Epoch 7/10\n",
      "1875/1875 [==============================] - 349s 186ms/step - loss: 0.1398 - accuracy: 0.9471\n",
      "Epoch 8/10\n",
      "1875/1875 [==============================] - 342s 182ms/step - loss: 0.1286 - accuracy: 0.9511\n",
      "Epoch 9/10\n",
      "1875/1875 [==============================] - 343s 183ms/step - loss: 0.1185 - accuracy: 0.9557\n",
      "Epoch 10/10\n",
      "1875/1875 [==============================] - 350s 187ms/step - loss: 0.1075 - accuracy: 0.9601\n"
     ]
    }
   ],
   "source": [
    "batch_size = 32\n",
    "epochs = 10\n",
    "\n",
    "history = model.fit(X_train, y_train, batch_size=batch_size, epochs = epochs)"
   ],
   "metadata": {
    "collapsed": false,
    "ExecuteTime": {
     "end_time": "2023-12-28T19:30:47.336167700Z",
     "start_time": "2023-12-28T18:32:15.219556100Z"
    }
   },
   "id": "5b0aa660361f6223"
  },
  {
   "cell_type": "code",
   "execution_count": 26,
   "outputs": [
    {
     "name": "stdout",
     "output_type": "stream",
     "text": [
      "313/313 - 62s - loss: 0.3429 - accuracy: 0.9062 - 62s/epoch - 199ms/step\n",
      "\n",
      "Test accuracy: 0.9061999917030334\n"
     ]
    }
   ],
   "source": [
    "# Evaluate the model\n",
    "test_loss, test_acc = model.evaluate(X_test, y_test, verbose=2)\n",
    "print(f'\\nTest accuracy: {test_acc}')"
   ],
   "metadata": {
    "collapsed": false,
    "ExecuteTime": {
     "end_time": "2023-12-28T19:31:56.651161200Z",
     "start_time": "2023-12-28T19:30:53.619776400Z"
    }
   },
   "id": "b0f8703f86c60c94"
  },
  {
   "cell_type": "code",
   "execution_count": 27,
   "outputs": [],
   "source": [
    "model.save('NN/model_fashion_mnist_mobilenet.h5')"
   ],
   "metadata": {
    "collapsed": false,
    "ExecuteTime": {
     "end_time": "2023-12-28T19:32:15.785829200Z",
     "start_time": "2023-12-28T19:32:14.879356700Z"
    }
   },
   "id": "2fa9ee48b70a37c"
  },
  {
   "cell_type": "code",
   "execution_count": null,
   "outputs": [],
   "source": [],
   "metadata": {
    "collapsed": false
   },
   "id": "e06026d69bda3b"
  }
 ],
 "metadata": {
  "kernelspec": {
   "display_name": "Python 3",
   "language": "python",
   "name": "python3"
  },
  "language_info": {
   "codemirror_mode": {
    "name": "ipython",
    "version": 2
   },
   "file_extension": ".py",
   "mimetype": "text/x-python",
   "name": "python",
   "nbconvert_exporter": "python",
   "pygments_lexer": "ipython2",
   "version": "2.7.6"
  }
 },
 "nbformat": 4,
 "nbformat_minor": 5
}
