{
 "cells": [
  {
   "cell_type": "code",
   "execution_count": 1,
   "id": "initial_id",
   "metadata": {
    "collapsed": true,
    "ExecuteTime": {
     "end_time": "2024-09-12T17:31:03.732673600Z",
     "start_time": "2024-09-12T17:30:53.475305200Z"
    }
   },
   "outputs": [
    {
     "name": "stderr",
     "output_type": "stream",
     "text": [
      "C:\\Users\\User\\AppData\\Local\\Programs\\Python\\Python39\\lib\\site-packages\\scipy\\__init__.py:146: UserWarning: A NumPy version >=1.17.3 and <1.25.0 is required for this version of SciPy (detected version 1.26.4\n",
      "  warnings.warn(f\"A NumPy version >={np_minversion} and <{np_maxversion}\"\n"
     ]
    }
   ],
   "source": [
    "import cv2\n",
    "import numpy as np\n",
    "from tensorflow.keras.utils import to_categorical\n",
    "from tensorflow.keras.datasets import fashion_mnist\n",
    "from keras.applications import InceptionV3\n",
    "from tensorflow.keras import layers, models"
   ]
  },
  {
   "cell_type": "code",
   "execution_count": 2,
   "outputs": [],
   "source": [
    "(X_train, y_train), (X_test, y_test) = fashion_mnist.load_data()\n",
    "\n",
    "X_train = np.array([cv2.resize(im, (128, 128)) for im in X_train])\n",
    "X_test = np.array([cv2.resize(im, (128, 128)) for im in X_test])\n",
    "\n",
    "X_train = X_train.astype('float32')\n",
    "X_test = X_test.astype('float32')\n",
    "\n",
    "X_train /= 255.0\n",
    "X_test /= 255.0\n",
    "\n",
    "X_train = np.stack((X_train,)*3, axis=-1)\n",
    "X_test = np.stack((X_test,)*3, axis=-1)\n",
    "\n",
    "y_train = to_categorical(y_train)\n",
    "y_test = to_categorical(y_test)"
   ],
   "metadata": {
    "collapsed": false,
    "ExecuteTime": {
     "end_time": "2024-09-12T17:33:25.917677600Z",
     "start_time": "2024-09-12T17:31:03.739672300Z"
    }
   },
   "id": "614db2d1479b534a"
  },
  {
   "cell_type": "code",
   "execution_count": 3,
   "outputs": [],
   "source": [
    "base_model = InceptionV3(weights='imagenet', include_top=False, input_shape=(128, 128, 3))\n",
    "base_model.trainable = False"
   ],
   "metadata": {
    "collapsed": false,
    "ExecuteTime": {
     "end_time": "2024-09-12T17:33:29.856019300Z",
     "start_time": "2024-09-12T17:33:25.915677700Z"
    }
   },
   "id": "fa5daa9ae665b89e"
  },
  {
   "cell_type": "code",
   "execution_count": 4,
   "outputs": [],
   "source": [
    "x = base_model.output\n",
    "x = layers.GlobalAveragePooling2D()(x)\n",
    "x = layers.Dense(128, activation='relu')(x)\n",
    "x = layers.Dense(10, activation='softmax')(x)\n",
    "\n",
    "model = models.Model(inputs=base_model.input, outputs=x)"
   ],
   "metadata": {
    "collapsed": false,
    "ExecuteTime": {
     "end_time": "2024-09-12T17:33:29.918018500Z",
     "start_time": "2024-09-12T17:33:29.859020300Z"
    }
   },
   "id": "865a528053000c69"
  },
  {
   "cell_type": "code",
   "execution_count": 5,
   "outputs": [],
   "source": [
    "model.compile(optimizer='adam', loss='categorical_crossentropy', metrics=['accuracy'])"
   ],
   "metadata": {
    "collapsed": false,
    "ExecuteTime": {
     "end_time": "2024-09-12T17:33:29.955018500Z",
     "start_time": "2024-09-12T17:33:29.923021100Z"
    }
   },
   "id": "8f222ffc1c22fb0c"
  },
  {
   "cell_type": "code",
   "execution_count": 6,
   "outputs": [
    {
     "name": "stdout",
     "output_type": "stream",
     "text": [
      "Epoch 1/10\n",
      "1875/1875 [==============================] - 509s 269ms/step - loss: 0.5089 - accuracy: 0.8187\n",
      "Epoch 2/10\n",
      "1875/1875 [==============================] - 502s 268ms/step - loss: 0.3858 - accuracy: 0.8587\n",
      "Epoch 3/10\n",
      "1875/1875 [==============================] - 503s 269ms/step - loss: 0.3515 - accuracy: 0.8707\n",
      "Epoch 4/10\n",
      "1875/1875 [==============================] - 507s 270ms/step - loss: 0.3250 - accuracy: 0.8790\n",
      "Epoch 5/10\n",
      "1875/1875 [==============================] - 506s 270ms/step - loss: 0.3054 - accuracy: 0.8852\n",
      "Epoch 6/10\n",
      "1875/1875 [==============================] - 508s 271ms/step - loss: 0.2873 - accuracy: 0.8920\n",
      "Epoch 7/10\n",
      "1875/1875 [==============================] - 501s 267ms/step - loss: 0.2699 - accuracy: 0.8982\n",
      "Epoch 8/10\n",
      "1875/1875 [==============================] - 495s 264ms/step - loss: 0.2601 - accuracy: 0.9014\n",
      "Epoch 9/10\n",
      "1875/1875 [==============================] - 496s 264ms/step - loss: 0.2459 - accuracy: 0.9061\n",
      "Epoch 10/10\n",
      "1875/1875 [==============================] - 497s 265ms/step - loss: 0.2314 - accuracy: 0.9118\n"
     ]
    },
    {
     "data": {
      "text/plain": "<keras.callbacks.History at 0x1b1ff92a640>"
     },
     "execution_count": 6,
     "metadata": {},
     "output_type": "execute_result"
    }
   ],
   "source": [
    "from keras.callbacks import EarlyStopping\n",
    "\n",
    "early_stopping = EarlyStopping(\n",
    "    monitor='accuracy',\n",
    "    patience=1,\n",
    "    restore_best_weights=True\n",
    ")\n",
    "model.fit(x = X_train, y= y_train, epochs=10, callbacks=[early_stopping])"
   ],
   "metadata": {
    "collapsed": false,
    "ExecuteTime": {
     "end_time": "2024-09-12T18:57:14.862452500Z",
     "start_time": "2024-09-12T17:33:29.952022500Z"
    }
   },
   "id": "6c32d500a285d4e9"
  },
  {
   "cell_type": "code",
   "execution_count": 7,
   "outputs": [
    {
     "name": "stdout",
     "output_type": "stream",
     "text": [
      "313/313 - 85s - loss: 0.4026 - accuracy: 0.8660 - 85s/epoch - 271ms/step\n",
      "\n",
      "Test accuracy: 0.8659999966621399\n"
     ]
    }
   ],
   "source": [
    "test_loss, test_acc = model.evaluate(X_test, y_test, verbose=2)\n",
    "print(f'\\nTest accuracy: {test_acc}')"
   ],
   "metadata": {
    "collapsed": false,
    "ExecuteTime": {
     "end_time": "2024-09-12T18:58:40.776560200Z",
     "start_time": "2024-09-12T18:57:14.891961900Z"
    }
   },
   "id": "2e2f1adf71f7376d"
  },
  {
   "cell_type": "code",
   "execution_count": 8,
   "outputs": [],
   "source": [
    "model.save('NN/inception_fashion_mnist.h5')"
   ],
   "metadata": {
    "collapsed": false,
    "ExecuteTime": {
     "end_time": "2024-09-12T18:58:41.464623100Z",
     "start_time": "2024-09-12T18:58:40.804125Z"
    }
   },
   "id": "51870f5832d0f80c"
  },
  {
   "cell_type": "code",
   "execution_count": 8,
   "outputs": [],
   "source": [],
   "metadata": {
    "collapsed": false,
    "ExecuteTime": {
     "end_time": "2024-09-12T18:58:41.577219Z",
     "start_time": "2024-09-12T18:58:41.469649500Z"
    }
   },
   "id": "177b250123babf93"
  }
 ],
 "metadata": {
  "kernelspec": {
   "display_name": "Python 3",
   "language": "python",
   "name": "python3"
  },
  "language_info": {
   "codemirror_mode": {
    "name": "ipython",
    "version": 2
   },
   "file_extension": ".py",
   "mimetype": "text/x-python",
   "name": "python",
   "nbconvert_exporter": "python",
   "pygments_lexer": "ipython2",
   "version": "2.7.6"
  }
 },
 "nbformat": 4,
 "nbformat_minor": 5
}
