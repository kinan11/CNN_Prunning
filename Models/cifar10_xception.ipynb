{
  "metadata": {
    "kernelspec": {
      "display_name": "Python 3",
      "name": "python3"
    },
    "language_info": {
      "pygments_lexer": "ipython3",
      "nbconvert_exporter": "python",
      "version": "3.6.4",
      "file_extension": ".py",
      "codemirror_mode": {
        "name": "ipython",
        "version": 3
      },
      "name": "python",
      "mimetype": "text/x-python"
    },
    "kaggle": {
      "accelerator": "gpu",
      "dataSources": [],
      "isInternetEnabled": false,
      "language": "python",
      "sourceType": "notebook",
      "isGpuEnabled": true
    },
    "colab": {
      "provenance": [],
      "gpuType": "T4"
    },
    "accelerator": "GPU"
  },
  "nbformat_minor": 0,
  "nbformat": 4,
  "cells": [
    {
      "cell_type": "code",
      "source": [
        "import matplotlib.pyplot as plt\n",
        "import seaborn as sns\n",
        "import numpy as np\n",
        "import pandas as pd\n",
        "from keras import Sequential\n",
        "from tensorflow.keras.utils import to_categorical\n",
        "from tensorflow.keras.optimizers import SGD,Adam\n",
        "from keras.callbacks import ReduceLROnPlateau\n",
        "from tensorflow.keras.applications import VGG19,Xception\n",
        "from tensorflow.keras.layers import Input,Flatten,Dense,BatchNormalization,Activation,Dropout,GlobalAveragePooling2D,MaxPooling2D,RandomFlip,RandomZoom,RandomRotation\n",
        "from keras.datasets import cifar10"
      ],
      "metadata": {
        "execution": {
          "iopub.status.busy": "2022-03-01T13:13:00.053643Z",
          "iopub.execute_input": "2022-03-01T13:13:00.054557Z",
          "iopub.status.idle": "2022-03-01T13:13:00.06264Z",
          "shell.execute_reply.started": "2022-03-01T13:13:00.054524Z",
          "shell.execute_reply": "2022-03-01T13:13:00.061667Z"
        },
        "trusted": true,
        "id": "DAGAIkmNDypl"
      },
      "execution_count": 49,
      "outputs": []
    },
    {
      "cell_type": "code",
      "source": [
        "(X_train, y_train), (X_test, y_test) = cifar10.load_data()\n",
        "\n",
        "y_train=to_categorical(y_train)\n",
        "y_test=to_categorical(y_test)"
      ],
      "metadata": {
        "execution": {
          "iopub.status.busy": "2022-03-01T13:13:00.08657Z",
          "iopub.execute_input": "2022-03-01T13:13:00.087386Z",
          "iopub.status.idle": "2022-03-01T13:13:00.691788Z",
          "shell.execute_reply.started": "2022-03-01T13:13:00.087323Z",
          "shell.execute_reply": "2022-03-01T13:13:00.69104Z"
        },
        "trusted": true,
        "id": "8Zx3St4iDypo"
      },
      "execution_count": 50,
      "outputs": []
    },
    {
      "cell_type": "code",
      "source": [
        "base_model = Xception(include_top=False, weights='imagenet', input_shape=(224,224,3), classes=y_train.shape[1])\n",
        "base_model.trainable = False"
      ],
      "metadata": {
        "execution": {
          "iopub.status.busy": "2022-03-01T13:13:00.692911Z",
          "iopub.execute_input": "2022-03-01T13:13:00.693361Z",
          "iopub.status.idle": "2022-03-01T13:13:01.905721Z",
          "shell.execute_reply.started": "2022-03-01T13:13:00.693303Z",
          "shell.execute_reply": "2022-03-01T13:13:01.90496Z"
        },
        "trusted": true,
        "id": "a1tpNIxYDypp"
      },
      "execution_count": 51,
      "outputs": []
    },
    {
      "cell_type": "code",
      "source": [
        "inputs = tf.keras.Input(shape=(32, 32, 3))\n",
        "x = tf.keras.layers.Lambda(lambda image: tf.image.resize(image, (224,224)))(inputs)\n",
        "x = tf.keras.applications.xception.preprocess_input(x)\n",
        "x = base_model(x, training=False)\n",
        "x = tf.keras.layers.GlobalAveragePooling2D()(x)\n",
        "x = tf.keras.layers.Dropout(0.3)(x)\n",
        "outputs = tf.keras.layers.Dense(10, activation=('softmax'))(x)\n",
        "model = tf.keras.Model(inputs, outputs)"
      ],
      "metadata": {
        "execution": {
          "iopub.status.busy": "2022-03-01T13:13:01.945549Z",
          "iopub.execute_input": "2022-03-01T13:13:01.94587Z",
          "iopub.status.idle": "2022-03-01T13:13:02.461554Z",
          "shell.execute_reply.started": "2022-03-01T13:13:01.945834Z",
          "shell.execute_reply": "2022-03-01T13:13:02.460819Z"
        },
        "trusted": true,
        "id": "UKXFhYA4Dypt"
      },
      "execution_count": 52,
      "outputs": []
    },
    {
      "cell_type": "code",
      "source": [
        "model.compile(optimizer='adam', loss='categorical_crossentropy', metrics=['accuracy'])"
      ],
      "metadata": {
        "execution": {
          "iopub.status.busy": "2022-03-01T13:13:02.485882Z",
          "iopub.execute_input": "2022-03-01T13:13:02.486226Z",
          "iopub.status.idle": "2022-03-01T13:13:02.500215Z",
          "shell.execute_reply.started": "2022-03-01T13:13:02.486188Z",
          "shell.execute_reply": "2022-03-01T13:13:02.499552Z"
        },
        "trusted": true,
        "id": "V77feCZnDypu"
      },
      "execution_count": 53,
      "outputs": []
    },
    {
      "cell_type": "code",
      "source": [
        "epochs = 10\n",
        "batch_size = 32\n",
        "history = model.fit(X_train, y_train, epochs=epochs, batch_size=batch_size)"
      ],
      "metadata": {
        "execution": {
          "iopub.status.busy": "2022-03-01T13:13:02.501527Z",
          "iopub.execute_input": "2022-03-01T13:13:02.501787Z",
          "iopub.status.idle": "2022-03-01T13:13:07.577883Z",
          "shell.execute_reply.started": "2022-03-01T13:13:02.501753Z",
          "shell.execute_reply": "2022-03-01T13:13:07.576848Z"
        },
        "trusted": true,
        "colab": {
          "base_uri": "https://localhost:8080/"
        },
        "id": "O6pI671iDypu",
        "outputId": "a6c90f7c-cfa5-4eaa-d619-4a44a054903e"
      },
      "execution_count": 46,
      "outputs": [
        {
          "output_type": "stream",
          "name": "stdout",
          "text": [
            "Epoch 1/10\n",
            "1563/1563 [==============================] - 196s 124ms/step - loss: 0.4798 - accuracy: 0.8400\n",
            "Epoch 2/10\n",
            "1563/1563 [==============================] - 191s 122ms/step - loss: 0.3829 - accuracy: 0.8698\n",
            "Epoch 3/10\n",
            "1563/1563 [==============================] - 191s 122ms/step - loss: 0.3621 - accuracy: 0.8759\n",
            "Epoch 4/10\n",
            "1563/1563 [==============================] - 192s 123ms/step - loss: 0.3530 - accuracy: 0.8784\n",
            "Epoch 5/10\n",
            "1563/1563 [==============================] - 190s 122ms/step - loss: 0.3492 - accuracy: 0.8796\n",
            "Epoch 6/10\n",
            "1563/1563 [==============================] - 190s 122ms/step - loss: 0.3436 - accuracy: 0.8805\n",
            "Epoch 7/10\n",
            "1563/1563 [==============================] - 190s 122ms/step - loss: 0.3371 - accuracy: 0.8837\n",
            "Epoch 8/10\n",
            "1563/1563 [==============================] - 190s 122ms/step - loss: 0.3349 - accuracy: 0.8832\n",
            "Epoch 9/10\n",
            "1563/1563 [==============================] - 190s 122ms/step - loss: 0.3340 - accuracy: 0.8837\n",
            "Epoch 10/10\n",
            "1563/1563 [==============================] - 191s 122ms/step - loss: 0.3353 - accuracy: 0.8840\n"
          ]
        }
      ]
    },
    {
      "cell_type": "code",
      "source": [
        "test_loss, test_acc = model.evaluate(X_test, y_test, verbose=2)\n",
        "print(f'\\nTest accuracy: {test_acc}')"
      ],
      "metadata": {
        "colab": {
          "base_uri": "https://localhost:8080/"
        },
        "id": "zgNdMibjauqG",
        "outputId": "e9a4a30e-25a6-407d-c10d-efa02fe781cb"
      },
      "execution_count": 47,
      "outputs": [
        {
          "output_type": "stream",
          "name": "stdout",
          "text": [
            "313/313 - 39s - loss: 0.3755 - accuracy: 0.8758 - 39s/epoch - 124ms/step\n",
            "\n",
            "Test accuracy: 0.8758000135421753\n"
          ]
        }
      ]
    },
    {
      "cell_type": "code",
      "source": [
        "model.save('xception_cifar.h5')"
      ],
      "metadata": {
        "id": "-IcZjg-7Zp7M"
      },
      "execution_count": 48,
      "outputs": []
    }
  ]
}