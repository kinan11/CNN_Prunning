{
 "cells": [
  {
   "cell_type": "code",
   "execution_count": 2,
   "metadata": {
    "ExecuteTime": {
     "end_time": "2024-07-29T15:43:34.203674900Z",
     "start_time": "2024-07-29T15:43:30.839676300Z"
    },
    "id": "DAGAIkmNDypl"
   },
   "outputs": [],
   "source": [
    "import numpy as np\n",
    "from keras import Sequential\n",
    "from tensorflow.keras.utils import to_categorical\n",
    "from tensorflow.keras.optimizers import SGD,Adam\n",
    "from keras.callbacks import ReduceLROnPlateau\n",
    "from tensorflow.keras.applications import VGG19,Xception\n",
    "from tensorflow.keras.layers import Input,Flatten,Dense,BatchNormalization,Activation,Dropout,GlobalAveragePooling2D,MaxPooling2D,RandomFlip,RandomZoom,RandomRotation\n",
    "from keras.datasets import cifar10"
   ]
  },
  {
   "cell_type": "code",
   "execution_count": 4,
   "metadata": {
    "ExecuteTime": {
     "end_time": "2024-07-29T15:43:34.954936Z",
     "start_time": "2024-07-29T15:43:34.217677300Z"
    },
    "collapsed": false
   },
   "outputs": [],
   "source": [
    "(X_train, y_train), (X_test, y_test) = cifar10.load_data()\n",
    "\n",
    "y_train=to_categorical(y_train)\n",
    "y_test=to_categorical(y_test)"
   ]
  },
  {
   "cell_type": "code",
   "execution_count": 5,
   "metadata": {
    "ExecuteTime": {
     "end_time": "2024-07-29T15:46:45.533914300Z",
     "start_time": "2024-07-29T15:46:43.939347800Z"
    },
    "id": "a1tpNIxYDypp"
   },
   "outputs": [],
   "source": [
    "base_model = Xception(include_top=False, weights='imagenet', input_shape=(224,224,3), classes=y_train.shape[1])\n",
    "base_model.trainable = False"
   ]
  },
  {
   "cell_type": "code",
   "execution_count": 8,
   "metadata": {
    "ExecuteTime": {
     "end_time": "2024-07-29T15:49:53.477605400Z",
     "start_time": "2024-07-29T15:49:53.452803800Z"
    },
    "collapsed": false
   },
   "outputs": [],
   "source": [
    "import tensorflow as tf\n",
    "inputs = tf.keras.Input(shape=(32, 32, 3))\n",
    "x = tf.keras.layers.Lambda(lambda image: tf.image.resize(image, (224,224)))(inputs)\n",
    "x = tf.keras.applications.xception.preprocess_input(x)\n",
    "x = base_model(x, training=False)\n",
    "x = tf.keras.layers.GlobalAveragePooling2D()(x)\n",
    "x = tf.keras.layers.Dropout(0.3)(x)\n",
    "outputs = tf.keras.layers.Dense(10, activation=('softmax'))(x)\n",
    "model = tf.keras.Model(inputs, outputs)"
   ]
  },
  {
   "cell_type": "code",
   "execution_count": 9,
   "metadata": {
    "ExecuteTime": {
     "end_time": "2024-07-29T15:49:54.075534Z",
     "start_time": "2024-07-29T15:49:54.062532800Z"
    },
    "id": "V77feCZnDypu"
   },
   "outputs": [],
   "source": [
    "model.compile(optimizer='adam', loss='categorical_crossentropy', metrics=['accuracy'])"
   ]
  },
  {
   "cell_type": "code",
   "execution_count": 10,
   "metadata": {
    "ExecuteTime": {
     "end_time": "2024-07-29T15:50:08.149944Z",
     "start_time": "2024-07-29T15:49:54.899534200Z"
    },
    "colab": {
     "base_uri": "https://localhost:8080/"
    },
    "id": "O6pI671iDypu",
    "outputId": "a6c90f7c-cfa5-4eaa-d619-4a44a054903e"
   },
   "outputs": [
    {
     "name": "stdout",
     "output_type": "stream",
     "text": [
      "Epoch 1/10\n",
      "1563/1563 [==============================] - 2893s 2s/step - loss: 0.4818 - accuracy: 0.8405\n",
      "Epoch 2/10\n",
      "1563/1563 [==============================] - 2877s 2s/step - loss: 0.3841 - accuracy: 0.8687\n",
      "Epoch 3/10\n",
      "1563/1563 [==============================] - 2872s 2s/step - loss: 0.3613 - accuracy: 0.8760\n",
      "Epoch 4/10\n",
      "1563/1563 [==============================] - 2892s 2s/step - loss: 0.3516 - accuracy: 0.8802\n",
      "Epoch 5/10\n",
      "1563/1563 [==============================] - 2879s 2s/step - loss: 0.3449 - accuracy: 0.8806\n",
      "Epoch 6/10\n",
      "1563/1563 [==============================] - 2876s 2s/step - loss: 0.3413 - accuracy: 0.8821\n",
      "Epoch 7/10\n",
      "1563/1563 [==============================] - 2876s 2s/step - loss: 0.3368 - accuracy: 0.8843\n",
      "Epoch 8/10\n",
      "1563/1563 [==============================] - 2872s 2s/step - loss: 0.3363 - accuracy: 0.8844\n",
      "Epoch 9/10\n",
      "1563/1563 [==============================] - 2881s 2s/step - loss: 0.3344 - accuracy: 0.8860\n",
      "Epoch 10/10\n",
      "1563/1563 [==============================] - 2881s 2s/step - loss: 0.3315 - accuracy: 0.8851\n"
     ]
    }
   ],
   "source": [
    "from keras.callbacks import EarlyStopping\n",
    "epochs = 10\n",
    "batch_size = 32\n",
    "early_stopping = EarlyStopping(\n",
    "    monitor='accuracy',\n",
    "    patience = 1,\n",
    "    restore_best_weights = True\n",
    ")\n",
    "history = model.fit(X_train, y_train, epochs=epochs, batch_size=batch_size, callbacks=[early_stopping])"
   ]
  },
  {
   "cell_type": "code",
   "execution_count": 11,
   "metadata": {
    "ExecuteTime": {
     "start_time": "2024-07-29T15:43:45.648339500Z"
    },
    "colab": {
     "base_uri": "https://localhost:8080/"
    },
    "id": "zgNdMibjauqG",
    "outputId": "e9a4a30e-25a6-407d-c10d-efa02fe781cb"
   },
   "outputs": [
    {
     "name": "stdout",
     "output_type": "stream",
     "text": [
      "313/313 - 576s - loss: 0.3823 - accuracy: 0.8724 - 576s/epoch - 2s/step\n",
      "\n",
      "Test accuracy: 0.8723999857902527\n"
     ]
    }
   ],
   "source": [
    "test_loss, test_acc = model.evaluate(X_test, y_test, verbose=2)\n",
    "print(f'\\nTest accuracy: {test_acc}')"
   ]
  },
  {
   "cell_type": "code",
   "execution_count": 13,
   "metadata": {
    "ExecuteTime": {
     "start_time": "2024-07-29T15:43:45.654341200Z"
    },
    "collapsed": false
   },
   "outputs": [],
   "source": [
    "model.save('xception_cifar.h5')"
   ]
  },
  {
   "cell_type": "code",
   "execution_count": null,
   "metadata": {},
   "outputs": [],
   "source": []
  }
 ],
 "metadata": {
  "accelerator": "GPU",
  "colab": {
   "gpuType": "T4",
   "provenance": []
  },
  "kaggle": {
   "accelerator": "gpu",
   "dataSources": [],
   "isGpuEnabled": true,
   "isInternetEnabled": false,
   "language": "python",
   "sourceType": "notebook"
  },
  "kernelspec": {
   "display_name": "Python 3 (ipykernel)",
   "language": "python",
   "name": "python3"
  },
  "language_info": {
   "codemirror_mode": {
    "name": "ipython",
    "version": 3
   },
   "file_extension": ".py",
   "mimetype": "text/x-python",
   "name": "python",
   "nbconvert_exporter": "python",
   "pygments_lexer": "ipython3",
   "version": "3.10.0"
  }
 },
 "nbformat": 4,
 "nbformat_minor": 4
}
