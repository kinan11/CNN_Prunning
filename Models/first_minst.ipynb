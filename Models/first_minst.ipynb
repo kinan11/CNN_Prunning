{
 "cells": [
  {
   "cell_type": "code",
   "execution_count": 5,
   "id": "initial_id",
   "metadata": {
    "collapsed": true,
    "ExecuteTime": {
     "end_time": "2023-12-27T19:03:50.627957500Z",
     "start_time": "2023-12-27T19:03:50.612953Z"
    }
   },
   "outputs": [],
   "source": [
    "from keras.datasets import mnist\n",
    "from matplotlib import pyplot\n",
    "from keras.utils import to_categorical\n",
    "import numpy as np\n",
    "from tensorflow.keras.applications.resnet50 import ResNet50\n",
    "from tensorflow.keras.models import Sequential\n",
    "from tensorflow.keras.layers import Dense\n",
    "from keras.models import load_model\n"
   ]
  },
  {
   "cell_type": "code",
   "execution_count": 1,
   "outputs": [
    {
     "ename": "NameError",
     "evalue": "name 'mnist' is not defined",
     "output_type": "error",
     "traceback": [
      "\u001B[1;31m---------------------------------------------------------------------------\u001B[0m",
      "\u001B[1;31mNameError\u001B[0m                                 Traceback (most recent call last)",
      "Cell \u001B[1;32mIn [1], line 1\u001B[0m\n\u001B[1;32m----> 1\u001B[0m (train_X, train_y), (test_X, test_y) \u001B[38;5;241m=\u001B[39m \u001B[43mmnist\u001B[49m\u001B[38;5;241m.\u001B[39mload_data()\n\u001B[0;32m      3\u001B[0m train_filter \u001B[38;5;241m=\u001B[39m train_y \u001B[38;5;241m<\u001B[39m \u001B[38;5;241m4\u001B[39m\n\u001B[0;32m      4\u001B[0m test_filter \u001B[38;5;241m=\u001B[39m test_y \u001B[38;5;241m<\u001B[39m \u001B[38;5;241m4\u001B[39m\n",
      "\u001B[1;31mNameError\u001B[0m: name 'mnist' is not defined"
     ]
    }
   ],
   "source": [
    "(train_X, train_y), (test_X, test_y) = mnist.load_data()\n",
    "\n",
    "train_X = np.expand_dims(train_X, axis=-1)  # Add a channel dimension for ResNet50\n",
    "train_X = np.repeat(train_X, 3, axis=-1)  # Repeat the single channel to simulate 3 channels\n",
    "train_X = np.pad(train_X, ((0, 0), (2, 2), (2, 2), (0, 0)), mode='constant')  # Resize to 224x224\n",
    "train_y = to_categorical(train_y, 10)"
   ],
   "metadata": {
    "collapsed": false,
    "ExecuteTime": {
     "end_time": "2024-07-29T15:30:51.365890200Z",
     "start_time": "2024-07-29T15:30:50.880403400Z"
    }
   },
   "id": "824c210672bf729f"
  },
  {
   "cell_type": "code",
   "execution_count": 3,
   "outputs": [
    {
     "data": {
      "text/plain": "<Figure size 640x480 with 9 Axes>",
      "image/png": "[encoded data removed]"
     },
     "metadata": {},
     "output_type": "display_data"
    }
   ],
   "source": [
    "for i in range(9):\n",
    "    pyplot.subplot(330 + 1 + i)\n",
    "    pyplot.imshow(train_X[i], cmap=pyplot.get_cmap('gray'))\n",
    "\n",
    "pyplot.show()"
   ],
   "metadata": {
    "collapsed": false,
    "ExecuteTime": {
     "end_time": "2023-12-27T19:03:04.215529900Z",
     "start_time": "2023-12-27T19:03:03.204155800Z"
    }
   },
   "id": "85dd46a5b168ea5"
  },
  {
   "cell_type": "code",
   "execution_count": 27,
   "outputs": [
    {
     "name": "stdout",
     "output_type": "stream",
     "text": [
      "Model: \"sequential_2\"\n",
      "_________________________________________________________________\n",
      " Layer (type)                Output Shape              Param #   \n",
      "=================================================================\n",
      " resnet50 (Functional)       (None, 2048)              23587712  \n",
      "                                                                 \n",
      " dense_2 (Dense)             (None, 10)                20490     \n",
      "                                                                 \n",
      "=================================================================\n",
      "Total params: 23,608,202\n",
      "Trainable params: 20,490\n",
      "Non-trainable params: 23,587,712\n",
      "_________________________________________________________________\n"
     ]
    }
   ],
   "source": [
    "model = Sequential()\n",
    "\n",
    "model.add(ResNet50(include_top=False, pooling='avg', weights='imagenet'))\n",
    "model.add(Dense(10, activation='softmax'))\n",
    "\n",
    "model.layers[0].trainable=False\n",
    "model.summary()"
   ],
   "metadata": {
    "collapsed": false,
    "ExecuteTime": {
     "end_time": "2023-12-06T20:57:20.235206800Z",
     "start_time": "2023-12-06T20:57:17.493211600Z"
    }
   },
   "id": "88ecbf0b5226455"
  },
  {
   "cell_type": "code",
   "execution_count": 28,
   "outputs": [],
   "source": [
    "model.compile(optimizer='Adam', loss='categorical_crossentropy', metrics=['accuracy'])"
   ],
   "metadata": {
    "collapsed": false,
    "ExecuteTime": {
     "end_time": "2023-12-06T20:57:20.284207Z",
     "start_time": "2023-12-06T20:57:20.228207800Z"
    }
   },
   "id": "53c746dbf9caab2d"
  },
  {
   "cell_type": "code",
   "execution_count": 29,
   "outputs": [
    {
     "name": "stdout",
     "output_type": "stream",
     "text": [
      "Epoch 1/10\n",
      "1875/1875 [==============================] - 137s 71ms/step - loss: 0.3630 - accuracy: 0.8889\n",
      "Epoch 2/10\n",
      "1875/1875 [==============================] - 133s 71ms/step - loss: 0.2092 - accuracy: 0.9335\n",
      "Epoch 3/10\n",
      "1875/1875 [==============================] - 134s 71ms/step - loss: 0.1794 - accuracy: 0.9422\n",
      "Epoch 4/10\n",
      "1875/1875 [==============================] - 135s 72ms/step - loss: 0.1653 - accuracy: 0.9468\n",
      "Epoch 5/10\n",
      "1875/1875 [==============================] - 137s 73ms/step - loss: 0.1546 - accuracy: 0.9505\n",
      "Epoch 6/10\n",
      "1875/1875 [==============================] - 134s 72ms/step - loss: 0.1462 - accuracy: 0.9528\n",
      "Epoch 7/10\n",
      "1875/1875 [==============================] - 134s 71ms/step - loss: 0.1381 - accuracy: 0.9555\n",
      "Epoch 8/10\n",
      "1875/1875 [==============================] - 133s 71ms/step - loss: 0.1315 - accuracy: 0.9569\n",
      "Epoch 9/10\n",
      "1875/1875 [==============================] - 133s 71ms/step - loss: 0.1299 - accuracy: 0.9577\n",
      "Epoch 10/10\n",
      "1875/1875 [==============================] - 134s 71ms/step - loss: 0.1226 - accuracy: 0.9604\n"
     ]
    },
    {
     "data": {
      "text/plain": "<keras.callbacks.History at 0x13046a4d880>"
     },
     "execution_count": 29,
     "metadata": {},
     "output_type": "execute_result"
    }
   ],
   "source": [
    "model.fit(x = train_X, y= train_y, epochs=10)"
   ],
   "metadata": {
    "collapsed": false,
    "ExecuteTime": {
     "end_time": "2023-12-06T21:19:44.243742700Z",
     "start_time": "2023-12-06T20:57:20.259209800Z"
    }
   },
   "id": "890f1f26bc346981"
  },
  {
   "cell_type": "code",
   "execution_count": 30,
   "outputs": [],
   "source": [
    "model.save('NN/model_mnist_renet50.h5')"
   ],
   "metadata": {
    "collapsed": false,
    "ExecuteTime": {
     "end_time": "2023-12-06T21:19:46.632893800Z",
     "start_time": "2023-12-06T21:19:44.241740200Z"
    }
   },
   "id": "41c96113443e44c5"
  },
  {
   "cell_type": "code",
   "execution_count": 6,
   "outputs": [
    {
     "name": "stdout",
     "output_type": "stream",
     "text": [
      "313/313 [==============================] - 27s 82ms/step - loss: 0.1846 - accuracy: 0.9479\n",
      "[0.18462827801704407, 0.9478999972343445]\n"
     ]
    }
   ],
   "source": [
    "model_final = load_model('model_renet50.h5')\n",
    "test_X = np.expand_dims(test_X, axis=-1)  # Add a channel dimension for ResNet50\n",
    "test_X = np.repeat(test_X, 3, axis=-1)  # Repeat the single channel to simulate 3 channels\n",
    "test_X = np.pad(test_X, ((0, 0), (2, 2), (2, 2), (0, 0)), mode='constant')  # Resize to 224x224\n",
    "result = model_final.evaluate(test_X, to_categorical(test_y, 10))\n",
    "print(result)"
   ],
   "metadata": {
    "collapsed": false,
    "ExecuteTime": {
     "end_time": "2023-12-27T19:04:37.129930600Z",
     "start_time": "2023-12-27T19:04:07.040231400Z"
    }
   },
   "id": "4ae6b0e1ed5e3747"
  },
  {
   "cell_type": "code",
   "execution_count": 12,
   "outputs": [
    {
     "name": "stdout",
     "output_type": "stream",
     "text": [
      "1/1 [==============================] - 0s 45ms/step\n"
     ]
    }
   ],
   "source": [
    "pred = model_final.predict(test_X[9:10])"
   ],
   "metadata": {
    "collapsed": false,
    "ExecuteTime": {
     "end_time": "2023-12-27T19:06:44.150238300Z",
     "start_time": "2023-12-27T19:06:44.037225900Z"
    }
   },
   "id": "818dbb9e5efc49c8"
  },
  {
   "cell_type": "code",
   "execution_count": 13,
   "outputs": [
    {
     "data": {
      "text/plain": "<matplotlib.image.AxesImage at 0x26b860e83d0>"
     },
     "execution_count": 13,
     "metadata": {},
     "output_type": "execute_result"
    },
    {
     "data": {
      "text/plain": "<Figure size 640x480 with 1 Axes>",
      "image/png": "[encoded data removed]"
     },
     "metadata": {},
     "output_type": "display_data"
    }
   ],
   "source": [
    "pyplot.imshow(test_X[9], cmap=pyplot.get_cmap('gray'))"
   ],
   "metadata": {
    "collapsed": false,
    "ExecuteTime": {
     "end_time": "2023-12-27T19:06:57.350749500Z",
     "start_time": "2023-12-27T19:06:57.110756800Z"
    }
   },
   "id": "b2263ecb2f561637"
  },
  {
   "cell_type": "code",
   "execution_count": 15,
   "outputs": [
    {
     "data": {
      "text/plain": "9"
     },
     "execution_count": 15,
     "metadata": {},
     "output_type": "execute_result"
    }
   ],
   "source": [
    "np.argmax(pred[0])"
   ],
   "metadata": {
    "collapsed": false,
    "ExecuteTime": {
     "end_time": "2023-12-27T19:07:47.875880600Z",
     "start_time": "2023-12-27T19:07:47.841880Z"
    }
   },
   "id": "ed311a0e978f3834"
  }
 ],
 "metadata": {
  "kernelspec": {
   "display_name": "Python 3",
   "language": "python",
   "name": "python3"
  },
  "language_info": {
   "codemirror_mode": {
    "name": "ipython",
    "version": 2
   },
   "file_extension": ".py",
   "mimetype": "text/x-python",
   "name": "python",
   "nbconvert_exporter": "python",
   "pygments_lexer": "ipython2",
   "version": "2.7.6"
  }
 },
 "nbformat": 4,
 "nbformat_minor": 5
}
