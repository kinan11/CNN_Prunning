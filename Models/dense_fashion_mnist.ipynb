{
 "cells": [
  {
   "cell_type": "code",
   "execution_count": 7,
   "id": "initial_id",
   "metadata": {
    "collapsed": true,
    "ExecuteTime": {
     "end_time": "2023-12-28T19:38:53.424721600Z",
     "start_time": "2023-12-28T19:38:52.252923900Z"
    }
   },
   "outputs": [],
   "source": [
    "import cv2\n",
    "import numpy as np\n",
    "from tensorflow.keras.utils import to_categorical\n",
    "from tensorflow.keras.datasets import fashion_mnist\n",
    "from keras.applications import DenseNet121"
   ]
  },
  {
   "cell_type": "code",
   "execution_count": 8,
   "outputs": [],
   "source": [
    "(X_train, y_train), (X_test, y_test) = fashion_mnist.load_data()\n",
    "\n",
    "X_train = np.array([cv2.resize(im, (128, 128)) for im in X_train])\n",
    "X_test = np.array([cv2.resize(im, (128, 128)) for im in X_test])\n",
    "\n",
    "X_train = X_train.astype('float32')\n",
    "X_test = X_test.astype('float32')\n",
    "\n",
    "X_train /= 255.0\n",
    "X_test /= 255.0\n",
    "\n",
    "X_train = np.stack((X_train,)*3, axis=-1)\n",
    "X_test = np.stack((X_test,)*3, axis=-1)\n",
    "\n",
    "y_train = to_categorical(y_train)\n",
    "y_test = to_categorical(y_test)"
   ],
   "metadata": {
    "collapsed": false,
    "ExecuteTime": {
     "end_time": "2023-12-28T19:42:25.258040700Z",
     "start_time": "2023-12-28T19:38:54.137609600Z"
    }
   },
   "id": "9a9e13c380713f0e"
  },
  {
   "cell_type": "code",
   "execution_count": 11,
   "outputs": [],
   "source": [
    "import numpy as np\n",
    "from tensorflow.keras.applications import DenseNet121\n",
    "from tensorflow.keras import layers, models\n",
    "from tensorflow.keras.optimizers import Adam\n",
    "\n",
    "# Load DenseNet model with pre-trained weights from Keras\n",
    "base_model = DenseNet121(include_top=False, weights='imagenet', input_shape=(128, 128, 3))\n",
    "base_model.trainable = False\n",
    "\n",
    "# Add new layers for Fashion MNIST classification\n",
    "x = base_model.output\n",
    "x = layers.GlobalAveragePooling2D()(x)\n",
    "x = layers.Dense(128, activation='relu')(x)\n",
    "x = layers.Dense(10, activation='softmax')(x)\n",
    "\n",
    "# Create a new model\n",
    "model = models.Model(inputs=base_model.input, outputs=x)"
   ],
   "metadata": {
    "collapsed": false,
    "ExecuteTime": {
     "end_time": "2023-12-28T19:45:41.353625300Z",
     "start_time": "2023-12-28T19:45:34.028922Z"
    }
   },
   "id": "8af5237e81f10927"
  },
  {
   "cell_type": "code",
   "execution_count": 12,
   "outputs": [],
   "source": [
    "from keras.optimizers import Adam\n",
    "\n",
    "model.compile(optimizer=Adam(), loss='categorical_crossentropy', metrics=['accuracy'])"
   ],
   "metadata": {
    "collapsed": false,
    "ExecuteTime": {
     "end_time": "2023-12-28T19:45:41.353625300Z",
     "start_time": "2023-12-28T19:45:41.350622800Z"
    }
   },
   "id": "59dc495b81bb865a"
  },
  {
   "cell_type": "code",
   "execution_count": 13,
   "outputs": [
    {
     "name": "stdout",
     "output_type": "stream",
     "text": [
      "Epoch 1/10\n",
      "1875/1875 [==============================] - 1295s 687ms/step - loss: 0.3967 - accuracy: 0.8596\n",
      "Epoch 2/10\n",
      "1875/1875 [==============================] - 1324s 706ms/step - loss: 0.2927 - accuracy: 0.8930\n",
      "Epoch 3/10\n",
      "1875/1875 [==============================] - 1321s 705ms/step - loss: 0.2642 - accuracy: 0.9014\n",
      "Epoch 4/10\n",
      "1875/1875 [==============================] - 1333s 711ms/step - loss: 0.2454 - accuracy: 0.9083\n",
      "Epoch 5/10\n",
      "1875/1875 [==============================] - 1340s 714ms/step - loss: 0.2276 - accuracy: 0.9147\n",
      "Epoch 6/10\n",
      "1875/1875 [==============================] - 1343s 716ms/step - loss: 0.2124 - accuracy: 0.9209\n",
      "Epoch 7/10\n",
      "1875/1875 [==============================] - 1318s 703ms/step - loss: 0.1988 - accuracy: 0.9243\n",
      "Epoch 8/10\n",
      "1875/1875 [==============================] - 1281s 683ms/step - loss: 0.1865 - accuracy: 0.9311\n",
      "Epoch 9/10\n",
      "1875/1875 [==============================] - 1272s 679ms/step - loss: 0.1764 - accuracy: 0.9343\n",
      "Epoch 10/10\n",
      "1875/1875 [==============================] - 1262s 673ms/step - loss: 0.1649 - accuracy: 0.9372\n"
     ]
    }
   ],
   "source": [
    "batch_size = 32\n",
    "epochs = 10\n",
    "\n",
    "history = model.fit(X_train, y_train, batch_size=batch_size, epochs = epochs)"
   ],
   "metadata": {
    "collapsed": false,
    "ExecuteTime": {
     "end_time": "2023-12-28T23:23:52.144120600Z",
     "start_time": "2023-12-28T19:45:41.350622800Z"
    }
   },
   "id": "f1bca49d5a524353"
  },
  {
   "cell_type": "code",
   "execution_count": 14,
   "outputs": [
    {
     "name": "stdout",
     "output_type": "stream",
     "text": [
      "313/313 - 216s - loss: 0.3363 - accuracy: 0.8897 - 216s/epoch - 691ms/step\n",
      "\n",
      "Test accuracy: 0.8896999955177307\n"
     ]
    }
   ],
   "source": [
    "# Evaluate the model\n",
    "test_loss, test_acc = model.evaluate(X_test, y_test, verbose=2)\n",
    "print(f'\\nTest accuracy: {test_acc}')"
   ],
   "metadata": {
    "collapsed": false,
    "ExecuteTime": {
     "end_time": "2023-12-28T23:29:10.525875500Z",
     "start_time": "2023-12-28T23:25:32.719891200Z"
    }
   },
   "id": "7c42eb1ab426b0d9"
  },
  {
   "cell_type": "code",
   "execution_count": 16,
   "outputs": [],
   "source": [
    "model.save('NN/model_fashion_mnist_densenet.h5')"
   ],
   "metadata": {
    "collapsed": false,
    "ExecuteTime": {
     "end_time": "2023-12-28T23:29:32.384826700Z",
     "start_time": "2023-12-28T23:29:31.730649700Z"
    }
   },
   "id": "5e4995fd0de7423d"
  },
  {
   "cell_type": "code",
   "execution_count": null,
   "outputs": [],
   "source": [],
   "metadata": {
    "collapsed": false
   },
   "id": "3b7bc7d276a1d4c7"
  }
 ],
 "metadata": {
  "kernelspec": {
   "display_name": "Python 3",
   "language": "python",
   "name": "python3"
  },
  "language_info": {
   "codemirror_mode": {
    "name": "ipython",
    "version": 2
   },
   "file_extension": ".py",
   "mimetype": "text/x-python",
   "name": "python",
   "nbconvert_exporter": "python",
   "pygments_lexer": "ipython2",
   "version": "2.7.6"
  }
 },
 "nbformat": 4,
 "nbformat_minor": 5
}
